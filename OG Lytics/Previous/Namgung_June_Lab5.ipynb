{
 "cells": [
  {
   "cell_type": "code",
   "execution_count": 1,
   "metadata": {},
   "outputs": [],
   "source": [
    "import numpy as np\n",
    "import pandas as pd\n",
    "import matplotlib.pyplot as plt\n",
    "import seaborn as sns\n",
    "from sklearn.preprocessing import LabelEncoder\n",
    "from sklearn.model_selection import train_test_split\n",
    "from sklearn.ensemble import RandomForestClassifier, BaggingClassifier, VotingClassifier\n",
    "from sklearn.tree import DecisionTreeClassifier\n",
    "from sklearn.model_selection import KFold, cross_val_score\n",
    "from sklearn.metrics import accuracy_score, make_scorer"
   ]
  },
  {
   "cell_type": "code",
   "execution_count": 2,
   "metadata": {},
   "outputs": [
    {
     "data": {
      "text/html": [
       "<div>\n",
       "<style scoped>\n",
       "    .dataframe tbody tr th:only-of-type {\n",
       "        vertical-align: middle;\n",
       "    }\n",
       "\n",
       "    .dataframe tbody tr th {\n",
       "        vertical-align: top;\n",
       "    }\n",
       "\n",
       "    .dataframe thead th {\n",
       "        text-align: right;\n",
       "    }\n",
       "</style>\n",
       "<table border=\"1\" class=\"dataframe\">\n",
       "  <thead>\n",
       "    <tr style=\"text-align: right;\">\n",
       "      <th></th>\n",
       "      <th>Unnamed: 0</th>\n",
       "      <th>User_ID</th>\n",
       "      <th>Product_ID</th>\n",
       "      <th>Gender</th>\n",
       "      <th>Age</th>\n",
       "      <th>Occupation</th>\n",
       "      <th>City_Category</th>\n",
       "      <th>Stay_In_Current_City_Years</th>\n",
       "      <th>Marital_Status</th>\n",
       "      <th>Product_Category_1</th>\n",
       "      <th>Product_Category_2</th>\n",
       "      <th>Product_Category_3</th>\n",
       "      <th>Purchase</th>\n",
       "    </tr>\n",
       "  </thead>\n",
       "  <tbody>\n",
       "    <tr>\n",
       "      <th>0</th>\n",
       "      <td>0</td>\n",
       "      <td>1000001</td>\n",
       "      <td>P00069042</td>\n",
       "      <td>F</td>\n",
       "      <td>0-17</td>\n",
       "      <td>10</td>\n",
       "      <td>A</td>\n",
       "      <td>2</td>\n",
       "      <td>0</td>\n",
       "      <td>-1</td>\n",
       "      <td>NaN</td>\n",
       "      <td>NaN</td>\n",
       "      <td>8370</td>\n",
       "    </tr>\n",
       "    <tr>\n",
       "      <th>1</th>\n",
       "      <td>1</td>\n",
       "      <td>1000001</td>\n",
       "      <td>P00248942</td>\n",
       "      <td>F</td>\n",
       "      <td>0-17</td>\n",
       "      <td>10</td>\n",
       "      <td>A</td>\n",
       "      <td>2</td>\n",
       "      <td>0</td>\n",
       "      <td>1</td>\n",
       "      <td>6.0</td>\n",
       "      <td>14.0</td>\n",
       "      <td>15200</td>\n",
       "    </tr>\n",
       "    <tr>\n",
       "      <th>2</th>\n",
       "      <td>2</td>\n",
       "      <td>1000001</td>\n",
       "      <td>P00087842</td>\n",
       "      <td>F</td>\n",
       "      <td>0-17</td>\n",
       "      <td>10</td>\n",
       "      <td>A</td>\n",
       "      <td>2</td>\n",
       "      <td>0</td>\n",
       "      <td>-1</td>\n",
       "      <td>NaN</td>\n",
       "      <td>NaN</td>\n",
       "      <td>1422</td>\n",
       "    </tr>\n",
       "    <tr>\n",
       "      <th>3</th>\n",
       "      <td>3</td>\n",
       "      <td>1000001</td>\n",
       "      <td>P00085442</td>\n",
       "      <td>F</td>\n",
       "      <td>0-17</td>\n",
       "      <td>10</td>\n",
       "      <td>A</td>\n",
       "      <td>2</td>\n",
       "      <td>0</td>\n",
       "      <td>-1</td>\n",
       "      <td>14.0</td>\n",
       "      <td>NaN</td>\n",
       "      <td>1057</td>\n",
       "    </tr>\n",
       "    <tr>\n",
       "      <th>4</th>\n",
       "      <td>4</td>\n",
       "      <td>1000002</td>\n",
       "      <td>P00285442</td>\n",
       "      <td>M</td>\n",
       "      <td>55+</td>\n",
       "      <td>16</td>\n",
       "      <td>C</td>\n",
       "      <td>4+</td>\n",
       "      <td>0</td>\n",
       "      <td>8</td>\n",
       "      <td>NaN</td>\n",
       "      <td>NaN</td>\n",
       "      <td>7969</td>\n",
       "    </tr>\n",
       "  </tbody>\n",
       "</table>\n",
       "</div>"
      ],
      "text/plain": [
       "   Unnamed: 0  User_ID Product_ID Gender   Age  Occupation City_Category  \\\n",
       "0           0  1000001  P00069042      F  0-17          10             A   \n",
       "1           1  1000001  P00248942      F  0-17          10             A   \n",
       "2           2  1000001  P00087842      F  0-17          10             A   \n",
       "3           3  1000001  P00085442      F  0-17          10             A   \n",
       "4           4  1000002  P00285442      M   55+          16             C   \n",
       "\n",
       "  Stay_In_Current_City_Years  Marital_Status  Product_Category_1  \\\n",
       "0                          2               0                  -1   \n",
       "1                          2               0                   1   \n",
       "2                          2               0                  -1   \n",
       "3                          2               0                  -1   \n",
       "4                         4+               0                   8   \n",
       "\n",
       "   Product_Category_2  Product_Category_3  Purchase  \n",
       "0                 NaN                 NaN      8370  \n",
       "1                 6.0                14.0     15200  \n",
       "2                 NaN                 NaN      1422  \n",
       "3                14.0                 NaN      1057  \n",
       "4                 NaN                 NaN      7969  "
      ]
     },
     "execution_count": 2,
     "metadata": {},
     "output_type": "execute_result"
    }
   ],
   "source": [
    "df = pd.read_csv('black_friday_data_kaggle.csv', error_bad_lines=False)\n",
    "df.head()"
   ]
  },
  {
   "cell_type": "code",
   "execution_count": 3,
   "metadata": {},
   "outputs": [
    {
     "data": {
      "text/html": [
       "<div>\n",
       "<style scoped>\n",
       "    .dataframe tbody tr th:only-of-type {\n",
       "        vertical-align: middle;\n",
       "    }\n",
       "\n",
       "    .dataframe tbody tr th {\n",
       "        vertical-align: top;\n",
       "    }\n",
       "\n",
       "    .dataframe thead th {\n",
       "        text-align: right;\n",
       "    }\n",
       "</style>\n",
       "<table border=\"1\" class=\"dataframe\">\n",
       "  <thead>\n",
       "    <tr style=\"text-align: right;\">\n",
       "      <th></th>\n",
       "      <th>User_ID</th>\n",
       "      <th>Product_ID</th>\n",
       "      <th>Gender</th>\n",
       "      <th>Age</th>\n",
       "      <th>Occupation</th>\n",
       "      <th>City_Category</th>\n",
       "      <th>Stay_In_Current_City_Years</th>\n",
       "      <th>Marital_Status</th>\n",
       "      <th>Product_Category_1</th>\n",
       "      <th>Product_Category_2</th>\n",
       "      <th>Product_Category_3</th>\n",
       "      <th>Purchase</th>\n",
       "    </tr>\n",
       "  </thead>\n",
       "  <tbody>\n",
       "    <tr>\n",
       "      <th>0</th>\n",
       "      <td>0</td>\n",
       "      <td>P00069042</td>\n",
       "      <td>0</td>\n",
       "      <td>0</td>\n",
       "      <td>10</td>\n",
       "      <td>0</td>\n",
       "      <td>2</td>\n",
       "      <td>0</td>\n",
       "      <td>-1</td>\n",
       "      <td>0</td>\n",
       "      <td>0</td>\n",
       "      <td>8370</td>\n",
       "    </tr>\n",
       "    <tr>\n",
       "      <th>1</th>\n",
       "      <td>0</td>\n",
       "      <td>P00248942</td>\n",
       "      <td>0</td>\n",
       "      <td>0</td>\n",
       "      <td>10</td>\n",
       "      <td>0</td>\n",
       "      <td>2</td>\n",
       "      <td>0</td>\n",
       "      <td>1</td>\n",
       "      <td>6</td>\n",
       "      <td>14</td>\n",
       "      <td>15200</td>\n",
       "    </tr>\n",
       "    <tr>\n",
       "      <th>2</th>\n",
       "      <td>0</td>\n",
       "      <td>P00087842</td>\n",
       "      <td>0</td>\n",
       "      <td>0</td>\n",
       "      <td>10</td>\n",
       "      <td>0</td>\n",
       "      <td>2</td>\n",
       "      <td>0</td>\n",
       "      <td>-1</td>\n",
       "      <td>0</td>\n",
       "      <td>0</td>\n",
       "      <td>1422</td>\n",
       "    </tr>\n",
       "    <tr>\n",
       "      <th>3</th>\n",
       "      <td>0</td>\n",
       "      <td>P00085442</td>\n",
       "      <td>0</td>\n",
       "      <td>0</td>\n",
       "      <td>10</td>\n",
       "      <td>0</td>\n",
       "      <td>2</td>\n",
       "      <td>0</td>\n",
       "      <td>-1</td>\n",
       "      <td>14</td>\n",
       "      <td>0</td>\n",
       "      <td>1057</td>\n",
       "    </tr>\n",
       "    <tr>\n",
       "      <th>4</th>\n",
       "      <td>1</td>\n",
       "      <td>P00285442</td>\n",
       "      <td>1</td>\n",
       "      <td>6</td>\n",
       "      <td>16</td>\n",
       "      <td>2</td>\n",
       "      <td>4</td>\n",
       "      <td>0</td>\n",
       "      <td>8</td>\n",
       "      <td>0</td>\n",
       "      <td>0</td>\n",
       "      <td>7969</td>\n",
       "    </tr>\n",
       "  </tbody>\n",
       "</table>\n",
       "</div>"
      ],
      "text/plain": [
       "   User_ID Product_ID  Gender  Age  Occupation  City_Category  \\\n",
       "0        0  P00069042       0    0          10              0   \n",
       "1        0  P00248942       0    0          10              0   \n",
       "2        0  P00087842       0    0          10              0   \n",
       "3        0  P00085442       0    0          10              0   \n",
       "4        1  P00285442       1    6          16              2   \n",
       "\n",
       "   Stay_In_Current_City_Years  Marital_Status  Product_Category_1  \\\n",
       "0                           2               0                  -1   \n",
       "1                           2               0                   1   \n",
       "2                           2               0                  -1   \n",
       "3                           2               0                  -1   \n",
       "4                           4               0                   8   \n",
       "\n",
       "   Product_Category_2  Product_Category_3  Purchase  \n",
       "0                   0                   0      8370  \n",
       "1                   6                  14     15200  \n",
       "2                   0                   0      1422  \n",
       "3                  14                   0      1057  \n",
       "4                   0                   0      7969  "
      ]
     },
     "execution_count": 3,
     "metadata": {},
     "output_type": "execute_result"
    }
   ],
   "source": [
    "df.fillna(0, inplace=True)\n",
    "df.Product_Category_2 = df.Product_Category_2.astype(int)\n",
    "df.Product_Category_3 = df.Product_Category_3.astype(int)\n",
    "\n",
    "le = LabelEncoder()\n",
    "df['User_ID'] = le.fit_transform(df['User_ID'])\n",
    "# df['Product_ID'] = le.fit_transform(df['Product_ID'])\n",
    "df['Age'] = le.fit_transform(df['Age'])\n",
    "df['Gender'] = le.fit_transform(df['Gender'])\n",
    "df['City_Category'] = le.fit_transform(df['City_Category'])\n",
    "df['Stay_In_Current_City_Years'] = le.fit_transform(df['Stay_In_Current_City_Years'])\n",
    "df=df.drop('Unnamed: 0', axis=1)\n",
    "df.head()"
   ]
  },
  {
   "cell_type": "code",
   "execution_count": 4,
   "metadata": {},
   "outputs": [],
   "source": [
    "target = (df.groupby(by='Product_ID', as_index=False)\n",
    "          .agg({'Purchase': lambda x: x.max(),\n",
    "                'Product_Category_1': lambda x: x.value_counts().idxmax(),\n",
    "                'Product_Category_2': lambda x: x.median(),\n",
    "                'User_ID': pd.Series.nunique,\n",
    "#                 'Gender': lambda x: x.value_counts().idxmax(),\n",
    "#                 'Age': lambda x: x.value_counts().idxmax()\n",
    "#                 'City_Category': lambda x: x.value_counts().idxmax(),\n",
    "#                 'Occupation': lambda x: x.value_counts().idxmax(),\n",
    "                'Product_Category_3': lambda x: x.value_counts().idxmax()\n",
    "                }))\n",
    "\n",
    "target['Log_Num_Users'], target['Log_Purchase'] = np.log(\n",
    "    target.User_ID), np.log(target.Purchase)"
   ]
  },
  {
   "cell_type": "code",
   "execution_count": 5,
   "metadata": {},
   "outputs": [],
   "source": [
    "df_train = target[target.Product_Category_1 != -1]\n",
    "df_test = target[target.Product_Category_1 == -1]\n",
    "y = df_train['Product_Category_1']\n",
    "X = df_train.drop('Product_Category_1', axis=1)\n",
    "X = X.drop('Product_ID', axis=1)"
   ]
  },
  {
   "cell_type": "code",
   "execution_count": 6,
   "metadata": {},
   "outputs": [],
   "source": [
    "X_train, X_test, y_train, y_test = train_test_split(X, y, test_size=0.33, random_state=42)"
   ]
  },
  {
   "cell_type": "code",
   "execution_count": 7,
   "metadata": {},
   "outputs": [
    {
     "name": "stdout",
     "output_type": "stream",
     "text": [
      "Accuracy Score of Random Forests on train set 100.0 %\n",
      "Accuracy Score of Random Forests on test set 94.11027568922306 %\n"
     ]
    }
   ],
   "source": [
    "rf = RandomForestClassifier(n_estimators=100, random_state=42)\n",
    "rf.fit(X_train, y_train)\n",
    "Y_train_pred = rf.predict(X_train)\n",
    "print(\"Accuracy Score of Random Forests on train set\",rf.score(X_train, y_train)*100,'%')\n",
    "Y_test_pred_rf = rf.predict(X_test)\n",
    "print(\"Accuracy Score of Random Forests on test set\",rf.score(X_test, y_test)*100,'%')\n",
    "# accuracy_score(y_test, Y_test_pred)"
   ]
  },
  {
   "cell_type": "code",
   "execution_count": 8,
   "metadata": {},
   "outputs": [
    {
     "name": "stdout",
     "output_type": "stream",
     "text": [
      "Accuracy Score of Decision Tree on train set 100.0 %\n",
      "Accuracy Score of Decision Tree on test set 95.6140350877193 %\n"
     ]
    }
   ],
   "source": [
    "clf = DecisionTreeClassifier()\n",
    "clf.fit(X_train, y_train)\n",
    "print(\"Accuracy Score of Decision Tree on train set\",clf.score(X_train, y_train)*100,'%')\n",
    "print(\"Accuracy Score of Decision Tree on test set\",clf.score(X_test, y_test)*100,'%')"
   ]
  },
  {
   "cell_type": "code",
   "execution_count": 9,
   "metadata": {},
   "outputs": [
    {
     "name": "stdout",
     "output_type": "stream",
     "text": [
      "Bagging:  0.957777777777778\n"
     ]
    }
   ],
   "source": [
    "kfold = KFold(n_splits=30, random_state=0)\n",
    "bag = BaggingClassifier(base_estimator=clf, n_estimators=100,\n",
    "                        random_state=42, max_samples=0.5, max_features=0.5)\n",
    "bag.fit(X_train, y_train)\n",
    "results = cross_val_score(bag, X, y, cv=kfold)\n",
    "print('Bagging: ', results.mean())"
   ]
  },
  {
   "cell_type": "code",
   "execution_count": 10,
   "metadata": {},
   "outputs": [
    {
     "name": "stdout",
     "output_type": "stream",
     "text": [
      "Accuracy Score of Bagging on train set 98.70210135970335 %\n",
      "Accuracy Score of Bagging on test set 94.9874686716792 %\n"
     ]
    }
   ],
   "source": [
    "print(\"Accuracy Score of Bagging on train set\", bag.score(X_train, y_train)*100,'%')\n",
    "print(\"Accuracy Score of Bagging on test set\",bag.score(X_test, y_test)*100,'%')"
   ]
  },
  {
   "cell_type": "code",
   "execution_count": 11,
   "metadata": {},
   "outputs": [
    {
     "name": "stdout",
     "output_type": "stream",
     "text": [
      "Accuracy Score of Voting Classifier on test set 100.0 %\n",
      "Accuracy Score of Voting Classifier on test set 95.6140350877193 %\n"
     ]
    }
   ],
   "source": [
    "voting_clf = VotingClassifier(\n",
    "    estimators=[('rf', rf), ('clf', clf), ('bag', bag)],\n",
    "    voting='hard')\n",
    "\n",
    "voting_clf.fit(X_train, y_train)\n",
    "\n",
    "print(\"Accuracy Score of Voting Classifier on test set\", voting_clf.score(X_train, y_train)*100,'%')\n",
    "print(\"Accuracy Score of Voting Classifier on test set\", voting_clf.score(X_test, y_test)*100,'%')"
   ]
  },
  {
   "cell_type": "code",
   "execution_count": 12,
   "metadata": {},
   "outputs": [
    {
     "name": "stdout",
     "output_type": "stream",
     "text": [
      "CPU times: user 5.1 s, sys: 27.3 ms, total: 5.13 s\n",
      "Wall time: 5.18 s\n",
      "Random Forest:  Score= 0.20589\n",
      "CPU times: user 192 ms, sys: 1.95 ms, total: 194 ms\n",
      "Wall time: 198 ms\n",
      "Decision Tree:  Score= 0.21630\n",
      "CPU times: user 4.92 s, sys: 19.2 ms, total: 4.94 s\n",
      "Wall time: 4.98 s\n",
      "Bagging with Decision Tree:  Score= 0.19815\n",
      "CPU times: user 10.2 s, sys: 41.7 ms, total: 10.3 s\n",
      "Wall time: 10.4 s\n",
      "Voting Classifier:  Score= 0.19203\n"
     ]
    }
   ],
   "source": [
    "def rmsle(pred_val, act_val):\n",
    "    pred_val = np.array(pred_val)\n",
    "    act_val = np.array(act_val)\n",
    "    \n",
    "    log_predict, log_actual = np.log(pred_val + 1), np.log(act_val + 1)\n",
    "    \n",
    "    diff = np.square(log_predict - log_actual)\n",
    "    mean_diff = diff.mean()\n",
    "    return np.sqrt(mean_diff)\n",
    "\n",
    "rmsle_scorer = make_scorer(rmsle)\n",
    "# the lesser the better\n",
    "%time score = cross_val_score(rf, X_train, y_train, cv=kfold, scoring=rmsle_scorer)\n",
    "score = score.mean()\n",
    "print(\"Random Forest: \", \"Score= {0:.5f}\".format(score))\n",
    "\n",
    "%time score = cross_val_score(clf, X_train, y_train, cv=kfold, scoring=rmsle_scorer)\n",
    "score = score.mean()\n",
    "print(\"Decision Tree: \", \"Score= {0:.5f}\".format(score))\n",
    "\n",
    "%time score = cross_val_score(bag, X_train, y_train, cv=kfold, scoring=rmsle_scorer)\n",
    "score = score.mean()\n",
    "print(\"Bagging with Decision Tree: \", \"Score= {0:.5f}\".format(score))\n",
    "\n",
    "%time score = cross_val_score(voting_clf, X_train, y_train, cv=kfold, scoring=rmsle_scorer)\n",
    "score = score.mean()\n",
    "print(\"Voting Classifier: \", \"Score= {0:.5f}\".format(score))"
   ]
  },
  {
   "cell_type": "code",
   "execution_count": 13,
   "metadata": {},
   "outputs": [
    {
     "name": "stdout",
     "output_type": "stream",
     "text": [
      "Feature ranking:\n",
      "              feature  importance\n",
      "0            Purchase    0.426791\n",
      "5        Log_Purchase    0.399147\n",
      "1  Product_Category_2    0.071066\n",
      "2             User_ID    0.046680\n",
      "4       Log_Num_Users    0.043640\n",
      "3  Product_Category_3    0.012676\n"
     ]
    },
    {
     "data": {
      "image/png": "[encoded data removed]",
      "text/plain": [
       "<Figure size 1656x720 with 1 Axes>"
      ]
     },
     "metadata": {
      "needs_background": "light"
     },
     "output_type": "display_data"
    }
   ],
   "source": [
    "# Feature Importance Exploration for RF\n",
    "importances = rf.feature_importances_\n",
    "imp = pd.DataFrame()\n",
    "imp['feature'], imp['importance'] = X_train.columns, importances\n",
    "print(\"Feature ranking:\")\n",
    "print(imp.sort_values(by='importance', ascending=False))\n",
    "plt.figure(figsize=(23, 10))\n",
    "sns.barplot(x='feature', y='importance', data=imp)\n",
    "plt.title('Feature Importance')\n",
    "plt.show()"
   ]
  },
  {
   "cell_type": "code",
   "execution_count": 14,
   "metadata": {},
   "outputs": [
    {
     "name": "stdout",
     "output_type": "stream",
     "text": [
      "Feature ranking:\n",
      "              feature  importance\n",
      "5        Log_Purchase    0.535518\n",
      "0            Purchase    0.400822\n",
      "4       Log_Num_Users    0.021490\n",
      "2             User_ID    0.021312\n",
      "1  Product_Category_2    0.019418\n",
      "3  Product_Category_3    0.001439\n"
     ]
    },
    {
     "data": {
      "image/png": "[encoded data removed]",
      "text/plain": [
       "<Figure size 1656x720 with 1 Axes>"
      ]
     },
     "metadata": {
      "needs_background": "light"
     },
     "output_type": "display_data"
    }
   ],
   "source": [
    "# Feature Importance Exploration for RF\n",
    "importances = clf.feature_importances_\n",
    "imp = pd.DataFrame()\n",
    "imp['feature'], imp['importance'] = X_train.columns, importances\n",
    "print(\"Feature ranking:\")\n",
    "print(imp.sort_values(by='importance', ascending=False))\n",
    "plt.figure(figsize=(23, 10))\n",
    "sns.barplot(x='feature', y='importance', data=imp)\n",
    "plt.title('Feature Importance')\n",
    "plt.show()"
   ]
  },
  {
   "cell_type": "code",
   "execution_count": 15,
   "metadata": {},
   "outputs": [
    {
     "data": {
      "text/html": [
       "<div>\n",
       "<style scoped>\n",
       "    .dataframe tbody tr th:only-of-type {\n",
       "        vertical-align: middle;\n",
       "    }\n",
       "\n",
       "    .dataframe tbody tr th {\n",
       "        vertical-align: top;\n",
       "    }\n",
       "\n",
       "    .dataframe thead th {\n",
       "        text-align: right;\n",
       "    }\n",
       "</style>\n",
       "<table border=\"1\" class=\"dataframe\">\n",
       "  <thead>\n",
       "    <tr style=\"text-align: right;\">\n",
       "      <th></th>\n",
       "      <th>Product_ID</th>\n",
       "      <th>Purchase</th>\n",
       "      <th>Product_Category_1</th>\n",
       "      <th>Product_Category_2</th>\n",
       "      <th>User_ID</th>\n",
       "      <th>Product_Category_3</th>\n",
       "      <th>Log_Num_Users</th>\n",
       "      <th>Log_Purchase</th>\n",
       "    </tr>\n",
       "  </thead>\n",
       "  <tbody>\n",
       "    <tr>\n",
       "      <th>0</th>\n",
       "      <td>P00000142</td>\n",
       "      <td>13716</td>\n",
       "      <td>-1</td>\n",
       "      <td>4</td>\n",
       "      <td>1130</td>\n",
       "      <td>5</td>\n",
       "      <td>7.029973</td>\n",
       "      <td>9.526318</td>\n",
       "    </tr>\n",
       "    <tr>\n",
       "      <th>1</th>\n",
       "      <td>P00000242</td>\n",
       "      <td>16503</td>\n",
       "      <td>-1</td>\n",
       "      <td>4</td>\n",
       "      <td>371</td>\n",
       "      <td>9</td>\n",
       "      <td>5.916202</td>\n",
       "      <td>9.711297</td>\n",
       "    </tr>\n",
       "    <tr>\n",
       "      <th>2</th>\n",
       "      <td>P00000342</td>\n",
       "      <td>8896</td>\n",
       "      <td>-1</td>\n",
       "      <td>14</td>\n",
       "      <td>238</td>\n",
       "      <td>0</td>\n",
       "      <td>5.472271</td>\n",
       "      <td>9.093357</td>\n",
       "    </tr>\n",
       "    <tr>\n",
       "      <th>3</th>\n",
       "      <td>P00000442</td>\n",
       "      <td>8891</td>\n",
       "      <td>-1</td>\n",
       "      <td>8</td>\n",
       "      <td>92</td>\n",
       "      <td>0</td>\n",
       "      <td>4.521789</td>\n",
       "      <td>9.092795</td>\n",
       "    </tr>\n",
       "    <tr>\n",
       "      <th>4</th>\n",
       "      <td>P00000542</td>\n",
       "      <td>8903</td>\n",
       "      <td>-1</td>\n",
       "      <td>0</td>\n",
       "      <td>146</td>\n",
       "      <td>0</td>\n",
       "      <td>4.983607</td>\n",
       "      <td>9.094144</td>\n",
       "    </tr>\n",
       "  </tbody>\n",
       "</table>\n",
       "</div>"
      ],
      "text/plain": [
       "  Product_ID  Purchase  Product_Category_1  Product_Category_2  User_ID  \\\n",
       "0  P00000142     13716                  -1                   4     1130   \n",
       "1  P00000242     16503                  -1                   4      371   \n",
       "2  P00000342      8896                  -1                  14      238   \n",
       "3  P00000442      8891                  -1                   8       92   \n",
       "4  P00000542      8903                  -1                   0      146   \n",
       "\n",
       "   Product_Category_3  Log_Num_Users  Log_Purchase  \n",
       "0                   5       7.029973      9.526318  \n",
       "1                   9       5.916202      9.711297  \n",
       "2                   0       5.472271      9.093357  \n",
       "3                   0       4.521789      9.092795  \n",
       "4                   0       4.983607      9.094144  "
      ]
     },
     "execution_count": 15,
     "metadata": {},
     "output_type": "execute_result"
    }
   ],
   "source": [
    "df_test.head()"
   ]
  },
  {
   "cell_type": "code",
   "execution_count": 16,
   "metadata": {},
   "outputs": [
    {
     "data": {
      "text/html": [
       "<div>\n",
       "<style scoped>\n",
       "    .dataframe tbody tr th:only-of-type {\n",
       "        vertical-align: middle;\n",
       "    }\n",
       "\n",
       "    .dataframe tbody tr th {\n",
       "        vertical-align: top;\n",
       "    }\n",
       "\n",
       "    .dataframe thead th {\n",
       "        text-align: right;\n",
       "    }\n",
       "</style>\n",
       "<table border=\"1\" class=\"dataframe\">\n",
       "  <thead>\n",
       "    <tr style=\"text-align: right;\">\n",
       "      <th></th>\n",
       "      <th>Purchase</th>\n",
       "      <th>Product_Category_2</th>\n",
       "      <th>User_ID</th>\n",
       "      <th>Product_Category_3</th>\n",
       "      <th>Log_Num_Users</th>\n",
       "      <th>Log_Purchase</th>\n",
       "    </tr>\n",
       "  </thead>\n",
       "  <tbody>\n",
       "    <tr>\n",
       "      <th>0</th>\n",
       "      <td>13716</td>\n",
       "      <td>4</td>\n",
       "      <td>1130</td>\n",
       "      <td>5</td>\n",
       "      <td>7.029973</td>\n",
       "      <td>9.526318</td>\n",
       "    </tr>\n",
       "    <tr>\n",
       "      <th>1</th>\n",
       "      <td>16503</td>\n",
       "      <td>4</td>\n",
       "      <td>371</td>\n",
       "      <td>9</td>\n",
       "      <td>5.916202</td>\n",
       "      <td>9.711297</td>\n",
       "    </tr>\n",
       "    <tr>\n",
       "      <th>2</th>\n",
       "      <td>8896</td>\n",
       "      <td>14</td>\n",
       "      <td>238</td>\n",
       "      <td>0</td>\n",
       "      <td>5.472271</td>\n",
       "      <td>9.093357</td>\n",
       "    </tr>\n",
       "    <tr>\n",
       "      <th>3</th>\n",
       "      <td>8891</td>\n",
       "      <td>8</td>\n",
       "      <td>92</td>\n",
       "      <td>0</td>\n",
       "      <td>4.521789</td>\n",
       "      <td>9.092795</td>\n",
       "    </tr>\n",
       "    <tr>\n",
       "      <th>4</th>\n",
       "      <td>8903</td>\n",
       "      <td>0</td>\n",
       "      <td>146</td>\n",
       "      <td>0</td>\n",
       "      <td>4.983607</td>\n",
       "      <td>9.094144</td>\n",
       "    </tr>\n",
       "  </tbody>\n",
       "</table>\n",
       "</div>"
      ],
      "text/plain": [
       "   Purchase  Product_Category_2  User_ID  Product_Category_3  Log_Num_Users  \\\n",
       "0     13716                   4     1130                   5       7.029973   \n",
       "1     16503                   4      371                   9       5.916202   \n",
       "2      8896                  14      238                   0       5.472271   \n",
       "3      8891                   8       92                   0       4.521789   \n",
       "4      8903                   0      146                   0       4.983607   \n",
       "\n",
       "   Log_Purchase  \n",
       "0      9.526318  \n",
       "1      9.711297  \n",
       "2      9.093357  \n",
       "3      9.092795  \n",
       "4      9.094144  "
      ]
     },
     "execution_count": 16,
     "metadata": {},
     "output_type": "execute_result"
    }
   ],
   "source": [
    "df_test1 = df_test.copy().drop(columns=['Product_ID','Product_Category_1'])\n",
    "# df_test1 = df_test1.drop('Product_ID', axis=1)\n",
    "df_test1.head()"
   ]
  },
  {
   "cell_type": "code",
   "execution_count": 17,
   "metadata": {},
   "outputs": [],
   "source": [
    "prediction_dt = clf.predict(df_test1)\n",
    "prediction_rf = rf.predict(df_test1)\n",
    "prediction_vt = voting_clf.predict(df_test1)\n",
    "prediction_bag = bag.predict(df_test1)"
   ]
  },
  {
   "cell_type": "code",
   "execution_count": 24,
   "metadata": {},
   "outputs": [],
   "source": [
    "# np.set_printoptions(threshold=np.inf)"
   ]
  },
  {
   "cell_type": "code",
   "execution_count": 18,
   "metadata": {},
   "outputs": [],
   "source": [
    "lst = [[\"dt\",prediction_dt], [\"rf\",prediction_rf], [\"vt\",prediction_vt], [\"bg\",prediction_bag]]\n",
    "for i in range(len(lst)):\n",
    "    df = pd.DataFrame({\n",
    "        'Product_ID': df_test['Product_ID'],\n",
    "        'Product_Category_1': lst[i][1]})\n",
    "    df.to_csv('submission_file_'+lst[i][0]+'.csv', index=False) "
   ]
  },
  {
   "cell_type": "code",
   "execution_count": null,
   "metadata": {},
   "outputs": [],
   "source": []
  }
 ],
 "metadata": {
  "kernelspec": {
   "display_name": "Python 3",
   "language": "python",
   "name": "python3"
  },
  "language_info": {
   "codemirror_mode": {
    "name": "ipython",
    "version": 3
   },
   "file_extension": ".py",
   "mimetype": "text/x-python",
   "name": "python",
   "nbconvert_exporter": "python",
   "pygments_lexer": "ipython3",
   "version": "3.6.6"
  }
 },
 "nbformat": 4,
 "nbformat_minor": 2
}
