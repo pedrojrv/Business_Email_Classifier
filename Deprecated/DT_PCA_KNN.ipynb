{
 "cells": [
  {
   "cell_type": "markdown",
   "metadata": {
    "colab_type": "text",
    "id": "WmyzGg7qyYb1"
   },
   "source": [
    "# Importing Libraries"
   ]
  },
  {
   "cell_type": "code",
   "execution_count": 9,
   "metadata": {
    "ExecuteTime": {
     "end_time": "2020-08-04T18:17:51.818263Z",
     "start_time": "2020-08-04T18:17:51.815263Z"
    },
    "colab": {},
    "colab_type": "code",
    "id": "E2rgQMvCyYb3"
   },
   "outputs": [],
   "source": [
    "import numpy as np\n",
    "import pandas as pd\n",
    "\n",
    "import os\n",
    "\n",
    "import matplotlib.pyplot as plt\n",
    "import email\n",
    "import re\n",
    "from datetime import datetime as dt\n",
    "# import sns"
   ]
  },
  {
   "cell_type": "markdown",
   "metadata": {},
   "source": [
    "- NEW_vectorized_folders_df.csv\n",
    "- emails.csv\n"
   ]
  },
  {
   "cell_type": "markdown",
   "metadata": {},
   "source": [
    "# Loading Data"
   ]
  },
  {
   "cell_type": "code",
   "execution_count": 5,
   "metadata": {
    "ExecuteTime": {
     "end_time": "2020-08-04T17:49:27.381289Z",
     "start_time": "2020-08-04T17:49:14.377411Z"
    },
    "colab": {
     "base_uri": "https://localhost:8080/",
     "height": 202
    },
    "colab_type": "code",
    "executionInfo": {
     "elapsed": 56296,
     "status": "ok",
     "timestamp": 1557214469199,
     "user": {
      "displayName": "Arjun Patel",
      "photoUrl": "https://lh5.googleusercontent.com/-BlLPIwYkZoQ/AAAAAAAAAAI/AAAAAAAABy0/fGnMWZAEyF0/s64/photo.jpg",
      "userId": "15471468418524645217"
     },
     "user_tz": 420
    },
    "id": "aMCePl4bUSq2",
    "outputId": "3580a455-a605-4591-ba8d-e479a60c8140"
   },
   "outputs": [
    {
     "data": {
      "text/html": [
       "<div>\n",
       "<style scoped>\n",
       "    .dataframe tbody tr th:only-of-type {\n",
       "        vertical-align: middle;\n",
       "    }\n",
       "\n",
       "    .dataframe tbody tr th {\n",
       "        vertical-align: top;\n",
       "    }\n",
       "\n",
       "    .dataframe thead th {\n",
       "        text-align: right;\n",
       "    }\n",
       "</style>\n",
       "<table border=\"1\" class=\"dataframe\">\n",
       "  <thead>\n",
       "    <tr style=\"text-align: right;\">\n",
       "      <th></th>\n",
       "      <th>file</th>\n",
       "      <th>message</th>\n",
       "    </tr>\n",
       "  </thead>\n",
       "  <tbody>\n",
       "    <tr>\n",
       "      <th>0</th>\n",
       "      <td>allen-p/_sent_mail/1.</td>\n",
       "      <td>Message-ID: &lt;18782981.1075855378110.JavaMail.e...</td>\n",
       "    </tr>\n",
       "    <tr>\n",
       "      <th>1</th>\n",
       "      <td>allen-p/_sent_mail/10.</td>\n",
       "      <td>Message-ID: &lt;15464986.1075855378456.JavaMail.e...</td>\n",
       "    </tr>\n",
       "    <tr>\n",
       "      <th>2</th>\n",
       "      <td>allen-p/_sent_mail/100.</td>\n",
       "      <td>Message-ID: &lt;24216240.1075855687451.JavaMail.e...</td>\n",
       "    </tr>\n",
       "    <tr>\n",
       "      <th>3</th>\n",
       "      <td>allen-p/_sent_mail/1000.</td>\n",
       "      <td>Message-ID: &lt;13505866.1075863688222.JavaMail.e...</td>\n",
       "    </tr>\n",
       "    <tr>\n",
       "      <th>4</th>\n",
       "      <td>allen-p/_sent_mail/1001.</td>\n",
       "      <td>Message-ID: &lt;30922949.1075863688243.JavaMail.e...</td>\n",
       "    </tr>\n",
       "  </tbody>\n",
       "</table>\n",
       "</div>"
      ],
      "text/plain": [
       "                       file                                            message\n",
       "0     allen-p/_sent_mail/1.  Message-ID: <18782981.1075855378110.JavaMail.e...\n",
       "1    allen-p/_sent_mail/10.  Message-ID: <15464986.1075855378456.JavaMail.e...\n",
       "2   allen-p/_sent_mail/100.  Message-ID: <24216240.1075855687451.JavaMail.e...\n",
       "3  allen-p/_sent_mail/1000.  Message-ID: <13505866.1075863688222.JavaMail.e...\n",
       "4  allen-p/_sent_mail/1001.  Message-ID: <30922949.1075863688243.JavaMail.e..."
      ]
     },
     "execution_count": 5,
     "metadata": {},
     "output_type": "execute_result"
    }
   ],
   "source": [
    "dataset_directory = \"../Datasets/\"\n",
    "dataset_OG = pd.read_csv(os.path.join(dataset_directory, 'emails.csv'))\n",
    "\n",
    "data = dataset_OG.copy() ## keeping a safe copy\n",
    "data.head()"
   ]
  },
  {
   "cell_type": "code",
   "execution_count": 0,
   "metadata": {
    "colab": {
     "base_uri": "https://localhost:8080/",
     "height": 35
    },
    "colab_type": "code",
    "executionInfo": {
     "elapsed": 56277,
     "status": "ok",
     "timestamp": 1557214469202,
     "user": {
      "displayName": "Arjun Patel",
      "photoUrl": "https://lh5.googleusercontent.com/-BlLPIwYkZoQ/AAAAAAAAAAI/AAAAAAAABy0/fGnMWZAEyF0/s64/photo.jpg",
      "userId": "15471468418524645217"
     },
     "user_tz": 420
    },
    "id": "q9JZVe_yeap3",
    "outputId": "ceacd587-0d87-45e6-eeab-71e7701ec250"
   },
   "outputs": [
    {
     "data": {
      "text/plain": [
       "(517401, 2)"
      ]
     },
     "execution_count": 7,
     "metadata": {
      "tags": []
     },
     "output_type": "execute_result"
    }
   ],
   "source": [
    "data.shape"
   ]
  },
  {
   "cell_type": "markdown",
   "metadata": {
    "colab_type": "text",
    "id": "xVmJF-pyyYcC"
   },
   "source": [
    "# Extracting Features \n",
    "\n",
    "This functions we're taken from Dondald's E-mail categorization notebook in Kaggle. You can find it <a href=\"https://www.kaggle.com/donaldtfung/e-mail-categorization/notebook?fbclid=IwAR3gqVcP7ZUpKlyqVXkaXYK0SOoZqrEfjxpBLT3VXnCzARk_RYiwsBFQIws\">here.</a>"
   ]
  },
  {
   "cell_type": "markdown",
   "metadata": {
    "colab_type": "text",
    "id": "LdScXVlbyYcD"
   },
   "source": [
    "### Extracting Headers"
   ]
  },
  {
   "cell_type": "code",
   "execution_count": null,
   "metadata": {},
   "outputs": [],
   "source": [
    "def insert_value(dictionary, key, value):\n",
    "    if key in dictionary:\n",
    "        values = dictionary.get(key)\n",
    "        values.append(value)\n",
    "        dictionary[key] = values\n",
    "    else:\n",
    "        dictionary[key] = [value]\n",
    "    return dictionary\n",
    "\n",
    "def get_headers(df, header_names):\n",
    "    headers = {}\n",
    "    messages = df[\"message\"]\n",
    "    for message in messages:\n",
    "        e = email.message_from_string(message)\n",
    "        for item in header_names:\n",
    "            header = e.get(item)\n",
    "            insert_value(dictionary = headers, key = item, value = header) \n",
    "    print(\"Successfully retrieved header information!\")\n",
    "    return headers"
   ]
  },
  {
   "cell_type": "code",
   "execution_count": 7,
   "metadata": {
    "ExecuteTime": {
     "end_time": "2020-08-04T17:54:34.495110Z",
     "start_time": "2020-08-04T17:53:15.926669Z"
    },
    "colab": {
     "base_uri": "https://localhost:8080/",
     "height": 690
    },
    "colab_type": "code",
    "executionInfo": {
     "elapsed": 156906,
     "status": "ok",
     "timestamp": 1557214569854,
     "user": {
      "displayName": "Arjun Patel",
      "photoUrl": "https://lh5.googleusercontent.com/-BlLPIwYkZoQ/AAAAAAAAAAI/AAAAAAAABy0/fGnMWZAEyF0/s64/photo.jpg",
      "userId": "15471468418524645217"
     },
     "user_tz": 420
    },
    "id": "5Z7N2aauyYcE",
    "outputId": "319b21d3-8c0b-4543-888b-45e6acc83616"
   },
   "outputs": [
    {
     "name": "stdout",
     "output_type": "stream",
     "text": [
      "Successfully retrieved header information!\n"
     ]
    },
    {
     "data": {
      "text/html": [
       "<div>\n",
       "<style scoped>\n",
       "    .dataframe tbody tr th:only-of-type {\n",
       "        vertical-align: middle;\n",
       "    }\n",
       "\n",
       "    .dataframe tbody tr th {\n",
       "        vertical-align: top;\n",
       "    }\n",
       "\n",
       "    .dataframe thead th {\n",
       "        text-align: right;\n",
       "    }\n",
       "</style>\n",
       "<table border=\"1\" class=\"dataframe\">\n",
       "  <thead>\n",
       "    <tr style=\"text-align: right;\">\n",
       "      <th></th>\n",
       "      <th>file</th>\n",
       "      <th>message</th>\n",
       "      <th>Date</th>\n",
       "      <th>Subject</th>\n",
       "      <th>X-Folder</th>\n",
       "      <th>X-From</th>\n",
       "      <th>X-To</th>\n",
       "    </tr>\n",
       "  </thead>\n",
       "  <tbody>\n",
       "    <tr>\n",
       "      <th>0</th>\n",
       "      <td>allen-p/_sent_mail/1.</td>\n",
       "      <td>Message-ID: &lt;18782981.1075855378110.JavaMail.e...</td>\n",
       "      <td>Mon, 14 May 2001 16:39:00 -0700 (PDT)</td>\n",
       "      <td></td>\n",
       "      <td>\\Phillip_Allen_Jan2002_1\\Allen, Phillip K.\\'Se...</td>\n",
       "      <td>Phillip K Allen</td>\n",
       "      <td>Tim Belden &lt;Tim Belden/Enron@EnronXGate&gt;</td>\n",
       "    </tr>\n",
       "    <tr>\n",
       "      <th>1</th>\n",
       "      <td>allen-p/_sent_mail/10.</td>\n",
       "      <td>Message-ID: &lt;15464986.1075855378456.JavaMail.e...</td>\n",
       "      <td>Fri, 4 May 2001 13:51:00 -0700 (PDT)</td>\n",
       "      <td>Re:</td>\n",
       "      <td>\\Phillip_Allen_Jan2002_1\\Allen, Phillip K.\\'Se...</td>\n",
       "      <td>Phillip K Allen</td>\n",
       "      <td>John J Lavorato &lt;John J Lavorato/ENRON@enronXg...</td>\n",
       "    </tr>\n",
       "    <tr>\n",
       "      <th>2</th>\n",
       "      <td>allen-p/_sent_mail/100.</td>\n",
       "      <td>Message-ID: &lt;24216240.1075855687451.JavaMail.e...</td>\n",
       "      <td>Wed, 18 Oct 2000 03:00:00 -0700 (PDT)</td>\n",
       "      <td>Re: test</td>\n",
       "      <td>\\Phillip_Allen_Dec2000\\Notes Folders\\'sent mail</td>\n",
       "      <td>Phillip K Allen</td>\n",
       "      <td>Leah Van Arsdall</td>\n",
       "    </tr>\n",
       "    <tr>\n",
       "      <th>3</th>\n",
       "      <td>allen-p/_sent_mail/1000.</td>\n",
       "      <td>Message-ID: &lt;13505866.1075863688222.JavaMail.e...</td>\n",
       "      <td>Mon, 23 Oct 2000 06:13:00 -0700 (PDT)</td>\n",
       "      <td></td>\n",
       "      <td>\\Phillip_Allen_Dec2000\\Notes Folders\\'sent mail</td>\n",
       "      <td>Phillip K Allen</td>\n",
       "      <td>Randall L Gay</td>\n",
       "    </tr>\n",
       "    <tr>\n",
       "      <th>4</th>\n",
       "      <td>allen-p/_sent_mail/1001.</td>\n",
       "      <td>Message-ID: &lt;30922949.1075863688243.JavaMail.e...</td>\n",
       "      <td>Thu, 31 Aug 2000 05:07:00 -0700 (PDT)</td>\n",
       "      <td>Re: Hello</td>\n",
       "      <td>\\Phillip_Allen_Dec2000\\Notes Folders\\'sent mail</td>\n",
       "      <td>Phillip K Allen</td>\n",
       "      <td>Greg Piper</td>\n",
       "    </tr>\n",
       "  </tbody>\n",
       "</table>\n",
       "</div>"
      ],
      "text/plain": [
       "                       file  \\\n",
       "0     allen-p/_sent_mail/1.   \n",
       "1    allen-p/_sent_mail/10.   \n",
       "2   allen-p/_sent_mail/100.   \n",
       "3  allen-p/_sent_mail/1000.   \n",
       "4  allen-p/_sent_mail/1001.   \n",
       "\n",
       "                                             message  \\\n",
       "0  Message-ID: <18782981.1075855378110.JavaMail.e...   \n",
       "1  Message-ID: <15464986.1075855378456.JavaMail.e...   \n",
       "2  Message-ID: <24216240.1075855687451.JavaMail.e...   \n",
       "3  Message-ID: <13505866.1075863688222.JavaMail.e...   \n",
       "4  Message-ID: <30922949.1075863688243.JavaMail.e...   \n",
       "\n",
       "                                    Date    Subject  \\\n",
       "0  Mon, 14 May 2001 16:39:00 -0700 (PDT)              \n",
       "1   Fri, 4 May 2001 13:51:00 -0700 (PDT)        Re:   \n",
       "2  Wed, 18 Oct 2000 03:00:00 -0700 (PDT)   Re: test   \n",
       "3  Mon, 23 Oct 2000 06:13:00 -0700 (PDT)              \n",
       "4  Thu, 31 Aug 2000 05:07:00 -0700 (PDT)  Re: Hello   \n",
       "\n",
       "                                            X-Folder           X-From  \\\n",
       "0  \\Phillip_Allen_Jan2002_1\\Allen, Phillip K.\\'Se...  Phillip K Allen   \n",
       "1  \\Phillip_Allen_Jan2002_1\\Allen, Phillip K.\\'Se...  Phillip K Allen   \n",
       "2    \\Phillip_Allen_Dec2000\\Notes Folders\\'sent mail  Phillip K Allen   \n",
       "3    \\Phillip_Allen_Dec2000\\Notes Folders\\'sent mail  Phillip K Allen   \n",
       "4    \\Phillip_Allen_Dec2000\\Notes Folders\\'sent mail  Phillip K Allen   \n",
       "\n",
       "                                                X-To  \n",
       "0           Tim Belden <Tim Belden/Enron@EnronXGate>  \n",
       "1  John J Lavorato <John J Lavorato/ENRON@enronXg...  \n",
       "2                                   Leah Van Arsdall  \n",
       "3                                      Randall L Gay  \n",
       "4                                         Greg Piper  "
      ]
     },
     "execution_count": 7,
     "metadata": {},
     "output_type": "execute_result"
    }
   ],
   "source": [
    "header_names = [\"Date\", \"Subject\", \"X-Folder\", \"X-From\", \"X-To\"] \n",
    "headers = get_headers(data, header_names)\n",
    "\n",
    "for key in list(headers.keys()):\n",
    "    data[key] = headers[key]\n",
    "    \n",
    "data.head()"
   ]
  },
  {
   "cell_type": "markdown",
   "metadata": {
    "colab_type": "text",
    "id": "op-Qp1k7yYcG"
   },
   "source": [
    "### Extracting Messages"
   ]
  },
  {
   "cell_type": "code",
   "execution_count": null,
   "metadata": {},
   "outputs": [],
   "source": [
    "def get_messages(df):\n",
    "    messages = []\n",
    "    for item in df[\"message\"]:\n",
    "        # Return a message object structure from a string\n",
    "        e = email.message_from_string(item)    \n",
    "        # get message body  \n",
    "        message_body = e.get_payload()\n",
    "        message_body = message_body.lower()\n",
    "        messages.append(message_body)\n",
    "    print(\"Successfully retrieved message body from e-mails!\")\n",
    "    return messages"
   ]
  },
  {
   "cell_type": "code",
   "execution_count": 8,
   "metadata": {
    "ExecuteTime": {
     "end_time": "2020-08-04T17:55:48.158818Z",
     "start_time": "2020-08-04T17:54:34.497112Z"
    },
    "colab": {
     "base_uri": "https://localhost:8080/",
     "height": 690
    },
    "colab_type": "code",
    "executionInfo": {
     "elapsed": 249551,
     "status": "ok",
     "timestamp": 1557214662518,
     "user": {
      "displayName": "Arjun Patel",
      "photoUrl": "https://lh5.googleusercontent.com/-BlLPIwYkZoQ/AAAAAAAAAAI/AAAAAAAABy0/fGnMWZAEyF0/s64/photo.jpg",
      "userId": "15471468418524645217"
     },
     "user_tz": 420
    },
    "id": "phizJvVPyYcH",
    "outputId": "52c04214-9ae6-4140-9964-28fe5e9cb2c1",
    "scrolled": true
   },
   "outputs": [
    {
     "name": "stdout",
     "output_type": "stream",
     "text": [
      "Successfully retrieved message body from e-mails!\n"
     ]
    },
    {
     "data": {
      "text/html": [
       "<div>\n",
       "<style scoped>\n",
       "    .dataframe tbody tr th:only-of-type {\n",
       "        vertical-align: middle;\n",
       "    }\n",
       "\n",
       "    .dataframe tbody tr th {\n",
       "        vertical-align: top;\n",
       "    }\n",
       "\n",
       "    .dataframe thead th {\n",
       "        text-align: right;\n",
       "    }\n",
       "</style>\n",
       "<table border=\"1\" class=\"dataframe\">\n",
       "  <thead>\n",
       "    <tr style=\"text-align: right;\">\n",
       "      <th></th>\n",
       "      <th>file</th>\n",
       "      <th>message</th>\n",
       "      <th>Date</th>\n",
       "      <th>Subject</th>\n",
       "      <th>X-Folder</th>\n",
       "      <th>X-From</th>\n",
       "      <th>X-To</th>\n",
       "      <th>Message-Body</th>\n",
       "    </tr>\n",
       "  </thead>\n",
       "  <tbody>\n",
       "    <tr>\n",
       "      <th>0</th>\n",
       "      <td>allen-p/_sent_mail/1.</td>\n",
       "      <td>Message-ID: &lt;18782981.1075855378110.JavaMail.e...</td>\n",
       "      <td>Mon, 14 May 2001 16:39:00 -0700 (PDT)</td>\n",
       "      <td></td>\n",
       "      <td>\\Phillip_Allen_Jan2002_1\\Allen, Phillip K.\\'Se...</td>\n",
       "      <td>Phillip K Allen</td>\n",
       "      <td>Tim Belden &lt;Tim Belden/Enron@EnronXGate&gt;</td>\n",
       "      <td>here is our forecast\\n\\n</td>\n",
       "    </tr>\n",
       "    <tr>\n",
       "      <th>1</th>\n",
       "      <td>allen-p/_sent_mail/10.</td>\n",
       "      <td>Message-ID: &lt;15464986.1075855378456.JavaMail.e...</td>\n",
       "      <td>Fri, 4 May 2001 13:51:00 -0700 (PDT)</td>\n",
       "      <td>Re:</td>\n",
       "      <td>\\Phillip_Allen_Jan2002_1\\Allen, Phillip K.\\'Se...</td>\n",
       "      <td>Phillip K Allen</td>\n",
       "      <td>John J Lavorato &lt;John J Lavorato/ENRON@enronXg...</td>\n",
       "      <td>traveling to have a business meeting takes the...</td>\n",
       "    </tr>\n",
       "    <tr>\n",
       "      <th>2</th>\n",
       "      <td>allen-p/_sent_mail/100.</td>\n",
       "      <td>Message-ID: &lt;24216240.1075855687451.JavaMail.e...</td>\n",
       "      <td>Wed, 18 Oct 2000 03:00:00 -0700 (PDT)</td>\n",
       "      <td>Re: test</td>\n",
       "      <td>\\Phillip_Allen_Dec2000\\Notes Folders\\'sent mail</td>\n",
       "      <td>Phillip K Allen</td>\n",
       "      <td>Leah Van Arsdall</td>\n",
       "      <td>test successful.  way to go!!!</td>\n",
       "    </tr>\n",
       "    <tr>\n",
       "      <th>3</th>\n",
       "      <td>allen-p/_sent_mail/1000.</td>\n",
       "      <td>Message-ID: &lt;13505866.1075863688222.JavaMail.e...</td>\n",
       "      <td>Mon, 23 Oct 2000 06:13:00 -0700 (PDT)</td>\n",
       "      <td></td>\n",
       "      <td>\\Phillip_Allen_Dec2000\\Notes Folders\\'sent mail</td>\n",
       "      <td>Phillip K Allen</td>\n",
       "      <td>Randall L Gay</td>\n",
       "      <td>randy,\\n\\n can you send me a schedule of the s...</td>\n",
       "    </tr>\n",
       "    <tr>\n",
       "      <th>4</th>\n",
       "      <td>allen-p/_sent_mail/1001.</td>\n",
       "      <td>Message-ID: &lt;30922949.1075863688243.JavaMail.e...</td>\n",
       "      <td>Thu, 31 Aug 2000 05:07:00 -0700 (PDT)</td>\n",
       "      <td>Re: Hello</td>\n",
       "      <td>\\Phillip_Allen_Dec2000\\Notes Folders\\'sent mail</td>\n",
       "      <td>Phillip K Allen</td>\n",
       "      <td>Greg Piper</td>\n",
       "      <td>let's shoot for tuesday at 11:45.</td>\n",
       "    </tr>\n",
       "  </tbody>\n",
       "</table>\n",
       "</div>"
      ],
      "text/plain": [
       "                       file  \\\n",
       "0     allen-p/_sent_mail/1.   \n",
       "1    allen-p/_sent_mail/10.   \n",
       "2   allen-p/_sent_mail/100.   \n",
       "3  allen-p/_sent_mail/1000.   \n",
       "4  allen-p/_sent_mail/1001.   \n",
       "\n",
       "                                             message  \\\n",
       "0  Message-ID: <18782981.1075855378110.JavaMail.e...   \n",
       "1  Message-ID: <15464986.1075855378456.JavaMail.e...   \n",
       "2  Message-ID: <24216240.1075855687451.JavaMail.e...   \n",
       "3  Message-ID: <13505866.1075863688222.JavaMail.e...   \n",
       "4  Message-ID: <30922949.1075863688243.JavaMail.e...   \n",
       "\n",
       "                                    Date    Subject  \\\n",
       "0  Mon, 14 May 2001 16:39:00 -0700 (PDT)              \n",
       "1   Fri, 4 May 2001 13:51:00 -0700 (PDT)        Re:   \n",
       "2  Wed, 18 Oct 2000 03:00:00 -0700 (PDT)   Re: test   \n",
       "3  Mon, 23 Oct 2000 06:13:00 -0700 (PDT)              \n",
       "4  Thu, 31 Aug 2000 05:07:00 -0700 (PDT)  Re: Hello   \n",
       "\n",
       "                                            X-Folder           X-From  \\\n",
       "0  \\Phillip_Allen_Jan2002_1\\Allen, Phillip K.\\'Se...  Phillip K Allen   \n",
       "1  \\Phillip_Allen_Jan2002_1\\Allen, Phillip K.\\'Se...  Phillip K Allen   \n",
       "2    \\Phillip_Allen_Dec2000\\Notes Folders\\'sent mail  Phillip K Allen   \n",
       "3    \\Phillip_Allen_Dec2000\\Notes Folders\\'sent mail  Phillip K Allen   \n",
       "4    \\Phillip_Allen_Dec2000\\Notes Folders\\'sent mail  Phillip K Allen   \n",
       "\n",
       "                                                X-To  \\\n",
       "0           Tim Belden <Tim Belden/Enron@EnronXGate>   \n",
       "1  John J Lavorato <John J Lavorato/ENRON@enronXg...   \n",
       "2                                   Leah Van Arsdall   \n",
       "3                                      Randall L Gay   \n",
       "4                                         Greg Piper   \n",
       "\n",
       "                                        Message-Body  \n",
       "0                          here is our forecast\\n\\n   \n",
       "1  traveling to have a business meeting takes the...  \n",
       "2                     test successful.  way to go!!!  \n",
       "3  randy,\\n\\n can you send me a schedule of the s...  \n",
       "4                let's shoot for tuesday at 11:45.    "
      ]
     },
     "execution_count": 8,
     "metadata": {},
     "output_type": "execute_result"
    }
   ],
   "source": [
    "data[\"Message-Body\"] = get_messages(data)\n",
    "data.head()"
   ]
  },
  {
   "cell_type": "markdown",
   "metadata": {
    "colab_type": "text",
    "id": "VXGbdAfxyYcK"
   },
   "source": [
    "### Getting Employee Names"
   ]
  },
  {
   "cell_type": "code",
   "execution_count": null,
   "metadata": {},
   "outputs": [],
   "source": [
    "def add_name(df, column, labels):\n",
    "    new_data = {}\n",
    "    for item in df[column]: \n",
    "        tokens = item.split('/')\n",
    "        for i in range(0, len(labels)):\n",
    "            value = tokens[i]\n",
    "            key = labels[i]\n",
    "            new_data = insert_value(new_data, key, value)        \n",
    "    for key, value in new_data.items():\n",
    "        df[key] = pd.Series(value)\n",
    "    print(\"Successfully added new column!\")\n",
    "    return df"
   ]
  },
  {
   "cell_type": "code",
   "execution_count": 0,
   "metadata": {
    "colab": {
     "base_uri": "https://localhost:8080/",
     "height": 690
    },
    "colab_type": "code",
    "executionInfo": {
     "elapsed": 250606,
     "status": "ok",
     "timestamp": 1557214663584,
     "user": {
      "displayName": "Arjun Patel",
      "photoUrl": "https://lh5.googleusercontent.com/-BlLPIwYkZoQ/AAAAAAAAAAI/AAAAAAAABy0/fGnMWZAEyF0/s64/photo.jpg",
      "userId": "15471468418524645217"
     },
     "user_tz": 420
    },
    "id": "ssOsgZV_yYcK",
    "outputId": "c6a87474-1f78-46e5-db02-c1d291071a73"
   },
   "outputs": [
    {
     "name": "stdout",
     "output_type": "stream",
     "text": [
      "Successfully added new column!\n"
     ]
    },
    {
     "data": {
      "text/html": [
       "<div>\n",
       "<style scoped>\n",
       "    .dataframe tbody tr th:only-of-type {\n",
       "        vertical-align: middle;\n",
       "    }\n",
       "\n",
       "    .dataframe tbody tr th {\n",
       "        vertical-align: top;\n",
       "    }\n",
       "\n",
       "    .dataframe thead th {\n",
       "        text-align: right;\n",
       "    }\n",
       "</style>\n",
       "<table border=\"1\" class=\"dataframe\">\n",
       "  <thead>\n",
       "    <tr style=\"text-align: right;\">\n",
       "      <th></th>\n",
       "      <th>file</th>\n",
       "      <th>message</th>\n",
       "      <th>Date</th>\n",
       "      <th>Subject</th>\n",
       "      <th>X-Folder</th>\n",
       "      <th>X-From</th>\n",
       "      <th>X-To</th>\n",
       "      <th>Message-Body</th>\n",
       "      <th>employee</th>\n",
       "    </tr>\n",
       "  </thead>\n",
       "  <tbody>\n",
       "    <tr>\n",
       "      <th>0</th>\n",
       "      <td>allen-p/_sent_mail/1.</td>\n",
       "      <td>Message-ID: &lt;18782981.1075855378110.JavaMail.e...</td>\n",
       "      <td>Mon, 14 May 2001 16:39:00 -0700 (PDT)</td>\n",
       "      <td></td>\n",
       "      <td>\\Phillip_Allen_Jan2002_1\\Allen, Phillip K.\\'Se...</td>\n",
       "      <td>Phillip K Allen</td>\n",
       "      <td>Tim Belden &lt;Tim Belden/Enron@EnronXGate&gt;</td>\n",
       "      <td>here is our forecast\\n\\n</td>\n",
       "      <td>allen-p</td>\n",
       "    </tr>\n",
       "    <tr>\n",
       "      <th>1</th>\n",
       "      <td>allen-p/_sent_mail/10.</td>\n",
       "      <td>Message-ID: &lt;15464986.1075855378456.JavaMail.e...</td>\n",
       "      <td>Fri, 4 May 2001 13:51:00 -0700 (PDT)</td>\n",
       "      <td>Re:</td>\n",
       "      <td>\\Phillip_Allen_Jan2002_1\\Allen, Phillip K.\\'Se...</td>\n",
       "      <td>Phillip K Allen</td>\n",
       "      <td>John J Lavorato &lt;John J Lavorato/ENRON@enronXg...</td>\n",
       "      <td>traveling to have a business meeting takes the...</td>\n",
       "      <td>allen-p</td>\n",
       "    </tr>\n",
       "    <tr>\n",
       "      <th>2</th>\n",
       "      <td>allen-p/_sent_mail/100.</td>\n",
       "      <td>Message-ID: &lt;24216240.1075855687451.JavaMail.e...</td>\n",
       "      <td>Wed, 18 Oct 2000 03:00:00 -0700 (PDT)</td>\n",
       "      <td>Re: test</td>\n",
       "      <td>\\Phillip_Allen_Dec2000\\Notes Folders\\'sent mail</td>\n",
       "      <td>Phillip K Allen</td>\n",
       "      <td>Leah Van Arsdall</td>\n",
       "      <td>test successful.  way to go!!!</td>\n",
       "      <td>allen-p</td>\n",
       "    </tr>\n",
       "    <tr>\n",
       "      <th>3</th>\n",
       "      <td>allen-p/_sent_mail/1000.</td>\n",
       "      <td>Message-ID: &lt;13505866.1075863688222.JavaMail.e...</td>\n",
       "      <td>Mon, 23 Oct 2000 06:13:00 -0700 (PDT)</td>\n",
       "      <td></td>\n",
       "      <td>\\Phillip_Allen_Dec2000\\Notes Folders\\'sent mail</td>\n",
       "      <td>Phillip K Allen</td>\n",
       "      <td>Randall L Gay</td>\n",
       "      <td>randy,\\n\\n can you send me a schedule of the s...</td>\n",
       "      <td>allen-p</td>\n",
       "    </tr>\n",
       "    <tr>\n",
       "      <th>4</th>\n",
       "      <td>allen-p/_sent_mail/1001.</td>\n",
       "      <td>Message-ID: &lt;30922949.1075863688243.JavaMail.e...</td>\n",
       "      <td>Thu, 31 Aug 2000 05:07:00 -0700 (PDT)</td>\n",
       "      <td>Re: Hello</td>\n",
       "      <td>\\Phillip_Allen_Dec2000\\Notes Folders\\'sent mail</td>\n",
       "      <td>Phillip K Allen</td>\n",
       "      <td>Greg Piper</td>\n",
       "      <td>let's shoot for tuesday at 11:45.</td>\n",
       "      <td>allen-p</td>\n",
       "    </tr>\n",
       "  </tbody>\n",
       "</table>\n",
       "</div>"
      ],
      "text/plain": [
       "                       file  \\\n",
       "0     allen-p/_sent_mail/1.   \n",
       "1    allen-p/_sent_mail/10.   \n",
       "2   allen-p/_sent_mail/100.   \n",
       "3  allen-p/_sent_mail/1000.   \n",
       "4  allen-p/_sent_mail/1001.   \n",
       "\n",
       "                                             message  \\\n",
       "0  Message-ID: <18782981.1075855378110.JavaMail.e...   \n",
       "1  Message-ID: <15464986.1075855378456.JavaMail.e...   \n",
       "2  Message-ID: <24216240.1075855687451.JavaMail.e...   \n",
       "3  Message-ID: <13505866.1075863688222.JavaMail.e...   \n",
       "4  Message-ID: <30922949.1075863688243.JavaMail.e...   \n",
       "\n",
       "                                    Date    Subject  \\\n",
       "0  Mon, 14 May 2001 16:39:00 -0700 (PDT)              \n",
       "1   Fri, 4 May 2001 13:51:00 -0700 (PDT)        Re:   \n",
       "2  Wed, 18 Oct 2000 03:00:00 -0700 (PDT)   Re: test   \n",
       "3  Mon, 23 Oct 2000 06:13:00 -0700 (PDT)              \n",
       "4  Thu, 31 Aug 2000 05:07:00 -0700 (PDT)  Re: Hello   \n",
       "\n",
       "                                            X-Folder           X-From  \\\n",
       "0  \\Phillip_Allen_Jan2002_1\\Allen, Phillip K.\\'Se...  Phillip K Allen   \n",
       "1  \\Phillip_Allen_Jan2002_1\\Allen, Phillip K.\\'Se...  Phillip K Allen   \n",
       "2    \\Phillip_Allen_Dec2000\\Notes Folders\\'sent mail  Phillip K Allen   \n",
       "3    \\Phillip_Allen_Dec2000\\Notes Folders\\'sent mail  Phillip K Allen   \n",
       "4    \\Phillip_Allen_Dec2000\\Notes Folders\\'sent mail  Phillip K Allen   \n",
       "\n",
       "                                                X-To  \\\n",
       "0           Tim Belden <Tim Belden/Enron@EnronXGate>   \n",
       "1  John J Lavorato <John J Lavorato/ENRON@enronXg...   \n",
       "2                                   Leah Van Arsdall   \n",
       "3                                      Randall L Gay   \n",
       "4                                         Greg Piper   \n",
       "\n",
       "                                        Message-Body employee  \n",
       "0                          here is our forecast\\n\\n   allen-p  \n",
       "1  traveling to have a business meeting takes the...  allen-p  \n",
       "2                     test successful.  way to go!!!  allen-p  \n",
       "3  randy,\\n\\n can you send me a schedule of the s...  allen-p  \n",
       "4                let's shoot for tuesday at 11:45.    allen-p  "
      ]
     },
     "execution_count": 10,
     "metadata": {
      "tags": []
     },
     "output_type": "execute_result"
    }
   ],
   "source": [
    "x_from = pd.DataFrame(data[\"X-From\"], columns = [\"X-From\"])\n",
    "if \"X-From\" not in data.columns:\n",
    "    data = pd.concat([data, x_from], axis = 1, join = 'inner')\n",
    "\n",
    "data = add_name(df = data, column = \"file\", labels = [\"employee\"])\n",
    "data.head()"
   ]
  },
  {
   "cell_type": "markdown",
   "metadata": {},
   "source": [
    "# Further Data Processing\n",
    "\n",
    "Once we had the data in a tabular for we had to perform further data extraction. This include extracting the data, converting it to datetime, and extraing the message from the `message` feature. "
   ]
  },
  {
   "cell_type": "markdown",
   "metadata": {
    "colab_type": "text",
    "id": "QNrZ6ylyyYcM"
   },
   "source": [
    "### Converting Date to Datetime"
   ]
  },
  {
   "cell_type": "code",
   "execution_count": null,
   "metadata": {},
   "outputs": [],
   "source": [
    "# return the numerical value of the month\n",
    "# (e.g. Jan = 1, Feb = 2, ...)\n",
    "def month_mapping(month_str):\n",
    "    months = np.array(['Jan', 'Feb', 'Mar', 'Apr',\n",
    "              'May', 'Jun', 'Jul', 'Aug',\n",
    "              'Sep', 'Oct', 'Nov', 'Dec'])\n",
    "    \n",
    "    return np.where(months == month_str)[0][0] + 1\n",
    "\n",
    "def extract_date(date_string):\n",
    "    # should be of the format: DoW, Date, Month (MMM), Year (YYYY), \n",
    "    # Time (HH:MM:SS), timezone num, Timezone name\n",
    "    date_array = re.split(\" \", date_string)\n",
    "    time_array = re.split(\":\", date_array[4])\n",
    "    return dt(year = int(date_array[3]),\n",
    "              month = month_mapping(date_array[2]),\n",
    "              day = int(date_array[1]),\n",
    "              hour = int(time_array[0]),\n",
    "              minute = int(time_array[1]),\n",
    "              second = int(time_array[2]))"
   ]
  },
  {
   "cell_type": "code",
   "execution_count": 0,
   "metadata": {
    "colab": {
     "base_uri": "https://localhost:8080/",
     "height": 673
    },
    "colab_type": "code",
    "executionInfo": {
     "elapsed": 257940,
     "status": "ok",
     "timestamp": 1557214670930,
     "user": {
      "displayName": "Arjun Patel",
      "photoUrl": "https://lh5.googleusercontent.com/-BlLPIwYkZoQ/AAAAAAAAAAI/AAAAAAAABy0/fGnMWZAEyF0/s64/photo.jpg",
      "userId": "15471468418524645217"
     },
     "user_tz": 420
    },
    "id": "QIpVvyfByYcN",
    "outputId": "49a50e9e-3f6e-4c9b-83ce-e92fe61398a8",
    "scrolled": true
   },
   "outputs": [
    {
     "data": {
      "text/html": [
       "<div>\n",
       "<style scoped>\n",
       "    .dataframe tbody tr th:only-of-type {\n",
       "        vertical-align: middle;\n",
       "    }\n",
       "\n",
       "    .dataframe tbody tr th {\n",
       "        vertical-align: top;\n",
       "    }\n",
       "\n",
       "    .dataframe thead th {\n",
       "        text-align: right;\n",
       "    }\n",
       "</style>\n",
       "<table border=\"1\" class=\"dataframe\">\n",
       "  <thead>\n",
       "    <tr style=\"text-align: right;\">\n",
       "      <th></th>\n",
       "      <th>file</th>\n",
       "      <th>message</th>\n",
       "      <th>Date</th>\n",
       "      <th>Subject</th>\n",
       "      <th>X-Folder</th>\n",
       "      <th>X-From</th>\n",
       "      <th>X-To</th>\n",
       "      <th>Message-Body</th>\n",
       "      <th>employee</th>\n",
       "      <th>Date_datetime</th>\n",
       "      <th>Day_of_week</th>\n",
       "    </tr>\n",
       "  </thead>\n",
       "  <tbody>\n",
       "    <tr>\n",
       "      <th>0</th>\n",
       "      <td>allen-p/_sent_mail/1.</td>\n",
       "      <td>Message-ID: &lt;18782981.1075855378110.JavaMail.e...</td>\n",
       "      <td>Mon, 14 May 2001 16:39:00 -0700 (PDT)</td>\n",
       "      <td></td>\n",
       "      <td>\\Phillip_Allen_Jan2002_1\\Allen, Phillip K.\\'Se...</td>\n",
       "      <td>Phillip K Allen</td>\n",
       "      <td>Tim Belden &lt;Tim Belden/Enron@EnronXGate&gt;</td>\n",
       "      <td>here is our forecast\\n\\n</td>\n",
       "      <td>allen-p</td>\n",
       "      <td>2001-05-14 16:39:00</td>\n",
       "      <td>Mon</td>\n",
       "    </tr>\n",
       "    <tr>\n",
       "      <th>1</th>\n",
       "      <td>allen-p/_sent_mail/10.</td>\n",
       "      <td>Message-ID: &lt;15464986.1075855378456.JavaMail.e...</td>\n",
       "      <td>Fri, 4 May 2001 13:51:00 -0700 (PDT)</td>\n",
       "      <td>Re:</td>\n",
       "      <td>\\Phillip_Allen_Jan2002_1\\Allen, Phillip K.\\'Se...</td>\n",
       "      <td>Phillip K Allen</td>\n",
       "      <td>John J Lavorato &lt;John J Lavorato/ENRON@enronXg...</td>\n",
       "      <td>traveling to have a business meeting takes the...</td>\n",
       "      <td>allen-p</td>\n",
       "      <td>2001-05-04 13:51:00</td>\n",
       "      <td>Fri</td>\n",
       "    </tr>\n",
       "    <tr>\n",
       "      <th>2</th>\n",
       "      <td>allen-p/_sent_mail/100.</td>\n",
       "      <td>Message-ID: &lt;24216240.1075855687451.JavaMail.e...</td>\n",
       "      <td>Wed, 18 Oct 2000 03:00:00 -0700 (PDT)</td>\n",
       "      <td>Re: test</td>\n",
       "      <td>\\Phillip_Allen_Dec2000\\Notes Folders\\'sent mail</td>\n",
       "      <td>Phillip K Allen</td>\n",
       "      <td>Leah Van Arsdall</td>\n",
       "      <td>test successful.  way to go!!!</td>\n",
       "      <td>allen-p</td>\n",
       "      <td>2000-10-18 03:00:00</td>\n",
       "      <td>Wed</td>\n",
       "    </tr>\n",
       "    <tr>\n",
       "      <th>3</th>\n",
       "      <td>allen-p/_sent_mail/1000.</td>\n",
       "      <td>Message-ID: &lt;13505866.1075863688222.JavaMail.e...</td>\n",
       "      <td>Mon, 23 Oct 2000 06:13:00 -0700 (PDT)</td>\n",
       "      <td></td>\n",
       "      <td>\\Phillip_Allen_Dec2000\\Notes Folders\\'sent mail</td>\n",
       "      <td>Phillip K Allen</td>\n",
       "      <td>Randall L Gay</td>\n",
       "      <td>randy,\\n\\n can you send me a schedule of the s...</td>\n",
       "      <td>allen-p</td>\n",
       "      <td>2000-10-23 06:13:00</td>\n",
       "      <td>Mon</td>\n",
       "    </tr>\n",
       "    <tr>\n",
       "      <th>4</th>\n",
       "      <td>allen-p/_sent_mail/1001.</td>\n",
       "      <td>Message-ID: &lt;30922949.1075863688243.JavaMail.e...</td>\n",
       "      <td>Thu, 31 Aug 2000 05:07:00 -0700 (PDT)</td>\n",
       "      <td>Re: Hello</td>\n",
       "      <td>\\Phillip_Allen_Dec2000\\Notes Folders\\'sent mail</td>\n",
       "      <td>Phillip K Allen</td>\n",
       "      <td>Greg Piper</td>\n",
       "      <td>let's shoot for tuesday at 11:45.</td>\n",
       "      <td>allen-p</td>\n",
       "      <td>2000-08-31 05:07:00</td>\n",
       "      <td>Thu</td>\n",
       "    </tr>\n",
       "  </tbody>\n",
       "</table>\n",
       "</div>"
      ],
      "text/plain": [
       "                       file  \\\n",
       "0     allen-p/_sent_mail/1.   \n",
       "1    allen-p/_sent_mail/10.   \n",
       "2   allen-p/_sent_mail/100.   \n",
       "3  allen-p/_sent_mail/1000.   \n",
       "4  allen-p/_sent_mail/1001.   \n",
       "\n",
       "                                             message  \\\n",
       "0  Message-ID: <18782981.1075855378110.JavaMail.e...   \n",
       "1  Message-ID: <15464986.1075855378456.JavaMail.e...   \n",
       "2  Message-ID: <24216240.1075855687451.JavaMail.e...   \n",
       "3  Message-ID: <13505866.1075863688222.JavaMail.e...   \n",
       "4  Message-ID: <30922949.1075863688243.JavaMail.e...   \n",
       "\n",
       "                                    Date    Subject  \\\n",
       "0  Mon, 14 May 2001 16:39:00 -0700 (PDT)              \n",
       "1   Fri, 4 May 2001 13:51:00 -0700 (PDT)        Re:   \n",
       "2  Wed, 18 Oct 2000 03:00:00 -0700 (PDT)   Re: test   \n",
       "3  Mon, 23 Oct 2000 06:13:00 -0700 (PDT)              \n",
       "4  Thu, 31 Aug 2000 05:07:00 -0700 (PDT)  Re: Hello   \n",
       "\n",
       "                                            X-Folder           X-From  \\\n",
       "0  \\Phillip_Allen_Jan2002_1\\Allen, Phillip K.\\'Se...  Phillip K Allen   \n",
       "1  \\Phillip_Allen_Jan2002_1\\Allen, Phillip K.\\'Se...  Phillip K Allen   \n",
       "2    \\Phillip_Allen_Dec2000\\Notes Folders\\'sent mail  Phillip K Allen   \n",
       "3    \\Phillip_Allen_Dec2000\\Notes Folders\\'sent mail  Phillip K Allen   \n",
       "4    \\Phillip_Allen_Dec2000\\Notes Folders\\'sent mail  Phillip K Allen   \n",
       "\n",
       "                                                X-To  \\\n",
       "0           Tim Belden <Tim Belden/Enron@EnronXGate>   \n",
       "1  John J Lavorato <John J Lavorato/ENRON@enronXg...   \n",
       "2                                   Leah Van Arsdall   \n",
       "3                                      Randall L Gay   \n",
       "4                                         Greg Piper   \n",
       "\n",
       "                                        Message-Body employee  \\\n",
       "0                          here is our forecast\\n\\n   allen-p   \n",
       "1  traveling to have a business meeting takes the...  allen-p   \n",
       "2                     test successful.  way to go!!!  allen-p   \n",
       "3  randy,\\n\\n can you send me a schedule of the s...  allen-p   \n",
       "4                let's shoot for tuesday at 11:45.    allen-p   \n",
       "\n",
       "         Date_datetime Day_of_week  \n",
       "0  2001-05-14 16:39:00         Mon  \n",
       "1  2001-05-04 13:51:00         Fri  \n",
       "2  2000-10-18 03:00:00         Wed  \n",
       "3  2000-10-23 06:13:00         Mon  \n",
       "4  2000-08-31 05:07:00         Thu  "
      ]
     },
     "execution_count": 11,
     "metadata": {
      "tags": []
     },
     "output_type": "execute_result"
    }
   ],
   "source": [
    "data['Date_datetime'] = data['Date'].apply(extract_date)\n",
    "data['Day_of_week'] = data['Date'].apply(lambda x: re.split(\" \", x)[0][:-1])\n",
    "data.head()"
   ]
  },
  {
   "cell_type": "markdown",
   "metadata": {
    "colab": {},
    "colab_type": "code",
    "id": "kVf2HtuxyYcO"
   },
   "source": [
    "### X-Folder Contents"
   ]
  },
  {
   "cell_type": "code",
   "execution_count": null,
   "metadata": {},
   "outputs": [],
   "source": [
    "def extract_folder_contents(x): \n",
    "    return re.split(\"\\\\\\\\\", str(x))[-1].lower()"
   ]
  },
  {
   "cell_type": "code",
   "execution_count": 0,
   "metadata": {
    "colab": {
     "base_uri": "https://localhost:8080/",
     "height": 690
    },
    "colab_type": "code",
    "executionInfo": {
     "elapsed": 258920,
     "status": "ok",
     "timestamp": 1557214671924,
     "user": {
      "displayName": "Arjun Patel",
      "photoUrl": "https://lh5.googleusercontent.com/-BlLPIwYkZoQ/AAAAAAAAAAI/AAAAAAAABy0/fGnMWZAEyF0/s64/photo.jpg",
      "userId": "15471468418524645217"
     },
     "user_tz": 420
    },
    "id": "uEpUGdIL_VYy",
    "outputId": "b3f92b2e-dd4f-4840-93eb-66197bf14897"
   },
   "outputs": [
    {
     "data": {
      "text/html": [
       "<div>\n",
       "<style scoped>\n",
       "    .dataframe tbody tr th:only-of-type {\n",
       "        vertical-align: middle;\n",
       "    }\n",
       "\n",
       "    .dataframe tbody tr th {\n",
       "        vertical-align: top;\n",
       "    }\n",
       "\n",
       "    .dataframe thead th {\n",
       "        text-align: right;\n",
       "    }\n",
       "</style>\n",
       "<table border=\"1\" class=\"dataframe\">\n",
       "  <thead>\n",
       "    <tr style=\"text-align: right;\">\n",
       "      <th></th>\n",
       "      <th>file</th>\n",
       "      <th>message</th>\n",
       "      <th>Date</th>\n",
       "      <th>Subject</th>\n",
       "      <th>X-Folder</th>\n",
       "      <th>X-From</th>\n",
       "      <th>X-To</th>\n",
       "      <th>Message-Body</th>\n",
       "      <th>employee</th>\n",
       "      <th>Date_datetime</th>\n",
       "      <th>Day_of_week</th>\n",
       "      <th>X-Folder-split</th>\n",
       "    </tr>\n",
       "  </thead>\n",
       "  <tbody>\n",
       "    <tr>\n",
       "      <th>0</th>\n",
       "      <td>allen-p/_sent_mail/1.</td>\n",
       "      <td>Message-ID: &lt;18782981.1075855378110.JavaMail.e...</td>\n",
       "      <td>Mon, 14 May 2001 16:39:00 -0700 (PDT)</td>\n",
       "      <td></td>\n",
       "      <td>\\Phillip_Allen_Jan2002_1\\Allen, Phillip K.\\'Se...</td>\n",
       "      <td>Phillip K Allen</td>\n",
       "      <td>Tim Belden &lt;Tim Belden/Enron@EnronXGate&gt;</td>\n",
       "      <td>here is our forecast\\n\\n</td>\n",
       "      <td>allen-p</td>\n",
       "      <td>2001-05-14 16:39:00</td>\n",
       "      <td>Mon</td>\n",
       "      <td>'sent mail</td>\n",
       "    </tr>\n",
       "    <tr>\n",
       "      <th>1</th>\n",
       "      <td>allen-p/_sent_mail/10.</td>\n",
       "      <td>Message-ID: &lt;15464986.1075855378456.JavaMail.e...</td>\n",
       "      <td>Fri, 4 May 2001 13:51:00 -0700 (PDT)</td>\n",
       "      <td>Re:</td>\n",
       "      <td>\\Phillip_Allen_Jan2002_1\\Allen, Phillip K.\\'Se...</td>\n",
       "      <td>Phillip K Allen</td>\n",
       "      <td>John J Lavorato &lt;John J Lavorato/ENRON@enronXg...</td>\n",
       "      <td>traveling to have a business meeting takes the...</td>\n",
       "      <td>allen-p</td>\n",
       "      <td>2001-05-04 13:51:00</td>\n",
       "      <td>Fri</td>\n",
       "      <td>'sent mail</td>\n",
       "    </tr>\n",
       "    <tr>\n",
       "      <th>2</th>\n",
       "      <td>allen-p/_sent_mail/100.</td>\n",
       "      <td>Message-ID: &lt;24216240.1075855687451.JavaMail.e...</td>\n",
       "      <td>Wed, 18 Oct 2000 03:00:00 -0700 (PDT)</td>\n",
       "      <td>Re: test</td>\n",
       "      <td>\\Phillip_Allen_Dec2000\\Notes Folders\\'sent mail</td>\n",
       "      <td>Phillip K Allen</td>\n",
       "      <td>Leah Van Arsdall</td>\n",
       "      <td>test successful.  way to go!!!</td>\n",
       "      <td>allen-p</td>\n",
       "      <td>2000-10-18 03:00:00</td>\n",
       "      <td>Wed</td>\n",
       "      <td>'sent mail</td>\n",
       "    </tr>\n",
       "    <tr>\n",
       "      <th>3</th>\n",
       "      <td>allen-p/_sent_mail/1000.</td>\n",
       "      <td>Message-ID: &lt;13505866.1075863688222.JavaMail.e...</td>\n",
       "      <td>Mon, 23 Oct 2000 06:13:00 -0700 (PDT)</td>\n",
       "      <td></td>\n",
       "      <td>\\Phillip_Allen_Dec2000\\Notes Folders\\'sent mail</td>\n",
       "      <td>Phillip K Allen</td>\n",
       "      <td>Randall L Gay</td>\n",
       "      <td>randy,\\n\\n can you send me a schedule of the s...</td>\n",
       "      <td>allen-p</td>\n",
       "      <td>2000-10-23 06:13:00</td>\n",
       "      <td>Mon</td>\n",
       "      <td>'sent mail</td>\n",
       "    </tr>\n",
       "    <tr>\n",
       "      <th>4</th>\n",
       "      <td>allen-p/_sent_mail/1001.</td>\n",
       "      <td>Message-ID: &lt;30922949.1075863688243.JavaMail.e...</td>\n",
       "      <td>Thu, 31 Aug 2000 05:07:00 -0700 (PDT)</td>\n",
       "      <td>Re: Hello</td>\n",
       "      <td>\\Phillip_Allen_Dec2000\\Notes Folders\\'sent mail</td>\n",
       "      <td>Phillip K Allen</td>\n",
       "      <td>Greg Piper</td>\n",
       "      <td>let's shoot for tuesday at 11:45.</td>\n",
       "      <td>allen-p</td>\n",
       "      <td>2000-08-31 05:07:00</td>\n",
       "      <td>Thu</td>\n",
       "      <td>'sent mail</td>\n",
       "    </tr>\n",
       "  </tbody>\n",
       "</table>\n",
       "</div>"
      ],
      "text/plain": [
       "                       file  \\\n",
       "0     allen-p/_sent_mail/1.   \n",
       "1    allen-p/_sent_mail/10.   \n",
       "2   allen-p/_sent_mail/100.   \n",
       "3  allen-p/_sent_mail/1000.   \n",
       "4  allen-p/_sent_mail/1001.   \n",
       "\n",
       "                                             message  \\\n",
       "0  Message-ID: <18782981.1075855378110.JavaMail.e...   \n",
       "1  Message-ID: <15464986.1075855378456.JavaMail.e...   \n",
       "2  Message-ID: <24216240.1075855687451.JavaMail.e...   \n",
       "3  Message-ID: <13505866.1075863688222.JavaMail.e...   \n",
       "4  Message-ID: <30922949.1075863688243.JavaMail.e...   \n",
       "\n",
       "                                    Date    Subject  \\\n",
       "0  Mon, 14 May 2001 16:39:00 -0700 (PDT)              \n",
       "1   Fri, 4 May 2001 13:51:00 -0700 (PDT)        Re:   \n",
       "2  Wed, 18 Oct 2000 03:00:00 -0700 (PDT)   Re: test   \n",
       "3  Mon, 23 Oct 2000 06:13:00 -0700 (PDT)              \n",
       "4  Thu, 31 Aug 2000 05:07:00 -0700 (PDT)  Re: Hello   \n",
       "\n",
       "                                            X-Folder           X-From  \\\n",
       "0  \\Phillip_Allen_Jan2002_1\\Allen, Phillip K.\\'Se...  Phillip K Allen   \n",
       "1  \\Phillip_Allen_Jan2002_1\\Allen, Phillip K.\\'Se...  Phillip K Allen   \n",
       "2    \\Phillip_Allen_Dec2000\\Notes Folders\\'sent mail  Phillip K Allen   \n",
       "3    \\Phillip_Allen_Dec2000\\Notes Folders\\'sent mail  Phillip K Allen   \n",
       "4    \\Phillip_Allen_Dec2000\\Notes Folders\\'sent mail  Phillip K Allen   \n",
       "\n",
       "                                                X-To  \\\n",
       "0           Tim Belden <Tim Belden/Enron@EnronXGate>   \n",
       "1  John J Lavorato <John J Lavorato/ENRON@enronXg...   \n",
       "2                                   Leah Van Arsdall   \n",
       "3                                      Randall L Gay   \n",
       "4                                         Greg Piper   \n",
       "\n",
       "                                        Message-Body employee  \\\n",
       "0                          here is our forecast\\n\\n   allen-p   \n",
       "1  traveling to have a business meeting takes the...  allen-p   \n",
       "2                     test successful.  way to go!!!  allen-p   \n",
       "3  randy,\\n\\n can you send me a schedule of the s...  allen-p   \n",
       "4                let's shoot for tuesday at 11:45.    allen-p   \n",
       "\n",
       "         Date_datetime Day_of_week X-Folder-split  \n",
       "0  2001-05-14 16:39:00         Mon     'sent mail  \n",
       "1  2001-05-04 13:51:00         Fri     'sent mail  \n",
       "2  2000-10-18 03:00:00         Wed     'sent mail  \n",
       "3  2000-10-23 06:13:00         Mon     'sent mail  \n",
       "4  2000-08-31 05:07:00         Thu     'sent mail  "
      ]
     },
     "execution_count": 13,
     "metadata": {
      "tags": []
     },
     "output_type": "execute_result"
    }
   ],
   "source": [
    "data['X-Folder-split'] = data['X-Folder'].apply(extract_folder_contents)\n",
    "data.head()"
   ]
  },
  {
   "cell_type": "code",
   "execution_count": 0,
   "metadata": {
    "colab": {},
    "colab_type": "code",
    "id": "LADI7N99Vx32"
   },
   "outputs": [],
   "source": [
    "#Add column with message length\n",
    "data['message_length']  = data['Message-Body'].str.len()\n",
    "\n",
    "#drop columns that are not needed anymore\n",
    "columns_to_drop = ['file', 'X-From', 'X-Folder', 'X-To', 'employee']\n",
    "data = data.drop(columns_to_drop, axis=1)\n",
    "\n",
    "# Remaining columns to focus on\n",
    "data.columns\n",
    "\n",
    "# shows one entire message with all fields\n",
    "print(data['message'][1])"
   ]
  },
  {
   "cell_type": "code",
   "execution_count": 0,
   "metadata": {
    "colab": {
     "base_uri": "https://localhost:8080/",
     "height": 690
    },
    "colab_type": "code",
    "executionInfo": {
     "elapsed": 261623,
     "status": "ok",
     "timestamp": 1557214674669,
     "user": {
      "displayName": "Arjun Patel",
      "photoUrl": "https://lh5.googleusercontent.com/-BlLPIwYkZoQ/AAAAAAAAAAI/AAAAAAAABy0/fGnMWZAEyF0/s64/photo.jpg",
      "userId": "15471468418524645217"
     },
     "user_tz": 420
    },
    "id": "HvXp5A7wCPxS",
    "outputId": "bc2cdde1-f9b2-439b-9705-a14148df4abf"
   },
   "outputs": [
    {
     "data": {
      "text/html": [
       "<div>\n",
       "<style scoped>\n",
       "    .dataframe tbody tr th:only-of-type {\n",
       "        vertical-align: middle;\n",
       "    }\n",
       "\n",
       "    .dataframe tbody tr th {\n",
       "        vertical-align: top;\n",
       "    }\n",
       "\n",
       "    .dataframe thead th {\n",
       "        text-align: right;\n",
       "    }\n",
       "</style>\n",
       "<table border=\"1\" class=\"dataframe\">\n",
       "  <thead>\n",
       "    <tr style=\"text-align: right;\">\n",
       "      <th></th>\n",
       "      <th>message</th>\n",
       "      <th>Date</th>\n",
       "      <th>Subject</th>\n",
       "      <th>Message-Body</th>\n",
       "      <th>Date_datetime</th>\n",
       "      <th>Day_of_week</th>\n",
       "      <th>X-Folder-split</th>\n",
       "      <th>message_length</th>\n",
       "      <th>contains-cc</th>\n",
       "      <th>contains-bcc</th>\n",
       "    </tr>\n",
       "  </thead>\n",
       "  <tbody>\n",
       "    <tr>\n",
       "      <th>0</th>\n",
       "      <td>Message-ID: &lt;18782981.1075855378110.JavaMail.e...</td>\n",
       "      <td>Mon, 14 May 2001 16:39:00 -0700 (PDT)</td>\n",
       "      <td></td>\n",
       "      <td>here is our forecast\\n\\n</td>\n",
       "      <td>2001-05-14 16:39:00</td>\n",
       "      <td>Mon</td>\n",
       "      <td>'sent mail</td>\n",
       "      <td>23</td>\n",
       "      <td>False</td>\n",
       "      <td>False</td>\n",
       "    </tr>\n",
       "    <tr>\n",
       "      <th>1</th>\n",
       "      <td>Message-ID: &lt;15464986.1075855378456.JavaMail.e...</td>\n",
       "      <td>Fri, 4 May 2001 13:51:00 -0700 (PDT)</td>\n",
       "      <td>Re:</td>\n",
       "      <td>traveling to have a business meeting takes the...</td>\n",
       "      <td>2001-05-04 13:51:00</td>\n",
       "      <td>Fri</td>\n",
       "      <td>'sent mail</td>\n",
       "      <td>786</td>\n",
       "      <td>False</td>\n",
       "      <td>False</td>\n",
       "    </tr>\n",
       "    <tr>\n",
       "      <th>2</th>\n",
       "      <td>Message-ID: &lt;24216240.1075855687451.JavaMail.e...</td>\n",
       "      <td>Wed, 18 Oct 2000 03:00:00 -0700 (PDT)</td>\n",
       "      <td>Re: test</td>\n",
       "      <td>test successful.  way to go!!!</td>\n",
       "      <td>2000-10-18 03:00:00</td>\n",
       "      <td>Wed</td>\n",
       "      <td>'sent mail</td>\n",
       "      <td>30</td>\n",
       "      <td>False</td>\n",
       "      <td>False</td>\n",
       "    </tr>\n",
       "    <tr>\n",
       "      <th>3</th>\n",
       "      <td>Message-ID: &lt;13505866.1075863688222.JavaMail.e...</td>\n",
       "      <td>Mon, 23 Oct 2000 06:13:00 -0700 (PDT)</td>\n",
       "      <td></td>\n",
       "      <td>randy,\\n\\n can you send me a schedule of the s...</td>\n",
       "      <td>2000-10-23 06:13:00</td>\n",
       "      <td>Mon</td>\n",
       "      <td>'sent mail</td>\n",
       "      <td>187</td>\n",
       "      <td>False</td>\n",
       "      <td>False</td>\n",
       "    </tr>\n",
       "    <tr>\n",
       "      <th>4</th>\n",
       "      <td>Message-ID: &lt;30922949.1075863688243.JavaMail.e...</td>\n",
       "      <td>Thu, 31 Aug 2000 05:07:00 -0700 (PDT)</td>\n",
       "      <td>Re: Hello</td>\n",
       "      <td>let's shoot for tuesday at 11:45.</td>\n",
       "      <td>2000-08-31 05:07:00</td>\n",
       "      <td>Thu</td>\n",
       "      <td>'sent mail</td>\n",
       "      <td>35</td>\n",
       "      <td>False</td>\n",
       "      <td>False</td>\n",
       "    </tr>\n",
       "  </tbody>\n",
       "</table>\n",
       "</div>"
      ],
      "text/plain": [
       "                                             message  \\\n",
       "0  Message-ID: <18782981.1075855378110.JavaMail.e...   \n",
       "1  Message-ID: <15464986.1075855378456.JavaMail.e...   \n",
       "2  Message-ID: <24216240.1075855687451.JavaMail.e...   \n",
       "3  Message-ID: <13505866.1075863688222.JavaMail.e...   \n",
       "4  Message-ID: <30922949.1075863688243.JavaMail.e...   \n",
       "\n",
       "                                    Date    Subject  \\\n",
       "0  Mon, 14 May 2001 16:39:00 -0700 (PDT)              \n",
       "1   Fri, 4 May 2001 13:51:00 -0700 (PDT)        Re:   \n",
       "2  Wed, 18 Oct 2000 03:00:00 -0700 (PDT)   Re: test   \n",
       "3  Mon, 23 Oct 2000 06:13:00 -0700 (PDT)              \n",
       "4  Thu, 31 Aug 2000 05:07:00 -0700 (PDT)  Re: Hello   \n",
       "\n",
       "                                        Message-Body        Date_datetime  \\\n",
       "0                          here is our forecast\\n\\n   2001-05-14 16:39:00   \n",
       "1  traveling to have a business meeting takes the...  2001-05-04 13:51:00   \n",
       "2                     test successful.  way to go!!!  2000-10-18 03:00:00   \n",
       "3  randy,\\n\\n can you send me a schedule of the s...  2000-10-23 06:13:00   \n",
       "4                let's shoot for tuesday at 11:45.    2000-08-31 05:07:00   \n",
       "\n",
       "  Day_of_week X-Folder-split  message_length  contains-cc  contains-bcc  \n",
       "0         Mon     'sent mail              23        False         False  \n",
       "1         Fri     'sent mail             786        False         False  \n",
       "2         Wed     'sent mail              30        False         False  \n",
       "3         Mon     'sent mail             187        False         False  \n",
       "4         Thu     'sent mail              35        False         False  "
      ]
     },
     "execution_count": 18,
     "metadata": {
      "tags": []
     },
     "output_type": "execute_result"
    }
   ],
   "source": [
    "data['contains-cc'] = data.message.str.contains(r'X-cc: .+').astype(int)\n",
    "\n",
    "data['contains-bcc'] = data.message.str.contains(r'X-bcc: .+').astype(int)\n",
    "\n",
    "data.head()"
   ]
  },
  {
   "cell_type": "code",
   "execution_count": null,
   "metadata": {},
   "outputs": [],
   "source": [
    "data.to_csv(os.path.join(dataset_directory, \"preprocessed_data.csv\"))"
   ]
  },
  {
   "cell_type": "markdown",
   "metadata": {
    "colab_type": "text",
    "id": "VesmiudwdnhA"
   },
   "source": [
    "## Clustering"
   ]
  },
  {
   "cell_type": "code",
   "execution_count": 0,
   "metadata": {
    "colab": {
     "base_uri": "https://localhost:8080/",
     "height": 401
    },
    "colab_type": "code",
    "executionInfo": {
     "elapsed": 269398,
     "status": "ok",
     "timestamp": 1557214682474,
     "user": {
      "displayName": "Arjun Patel",
      "photoUrl": "https://lh5.googleusercontent.com/-BlLPIwYkZoQ/AAAAAAAAAAI/AAAAAAAABy0/fGnMWZAEyF0/s64/photo.jpg",
      "userId": "15471468418524645217"
     },
     "user_tz": 420
    },
    "id": "wkOBt8oLdqpd",
    "outputId": "97c98252-7755-46ca-8c2e-6b4784fd7576"
   },
   "outputs": [
    {
     "name": "stdout",
     "output_type": "stream",
     "text": [
      "Requirement already satisfied: gensim in /usr/local/lib/python3.6/dist-packages (3.6.0)\n",
      "Requirement already satisfied: six>=1.5.0 in /usr/local/lib/python3.6/dist-packages (from gensim) (1.12.0)\n",
      "Requirement already satisfied: numpy>=1.11.3 in /usr/local/lib/python3.6/dist-packages (from gensim) (1.16.3)\n",
      "Requirement already satisfied: scipy>=0.18.1 in /usr/local/lib/python3.6/dist-packages (from gensim) (1.2.1)\n",
      "Requirement already satisfied: smart-open>=1.2.1 in /usr/local/lib/python3.6/dist-packages (from gensim) (1.8.3)\n",
      "Requirement already satisfied: boto>=2.32 in /usr/local/lib/python3.6/dist-packages (from smart-open>=1.2.1->gensim) (2.49.0)\n",
      "Requirement already satisfied: boto3 in /usr/local/lib/python3.6/dist-packages (from smart-open>=1.2.1->gensim) (1.9.139)\n",
      "Requirement already satisfied: requests in /usr/local/lib/python3.6/dist-packages (from smart-open>=1.2.1->gensim) (2.21.0)\n",
      "Requirement already satisfied: s3transfer<0.3.0,>=0.2.0 in /usr/local/lib/python3.6/dist-packages (from boto3->smart-open>=1.2.1->gensim) (0.2.0)\n",
      "Requirement already satisfied: jmespath<1.0.0,>=0.7.1 in /usr/local/lib/python3.6/dist-packages (from boto3->smart-open>=1.2.1->gensim) (0.9.4)\n",
      "Requirement already satisfied: botocore<1.13.0,>=1.12.139 in /usr/local/lib/python3.6/dist-packages (from boto3->smart-open>=1.2.1->gensim) (1.12.139)\n",
      "Requirement already satisfied: idna<2.9,>=2.5 in /usr/local/lib/python3.6/dist-packages (from requests->smart-open>=1.2.1->gensim) (2.8)\n",
      "Requirement already satisfied: urllib3<1.25,>=1.21.1 in /usr/local/lib/python3.6/dist-packages (from requests->smart-open>=1.2.1->gensim) (1.24.2)\n",
      "Requirement already satisfied: certifi>=2017.4.17 in /usr/local/lib/python3.6/dist-packages (from requests->smart-open>=1.2.1->gensim) (2019.3.9)\n",
      "Requirement already satisfied: chardet<3.1.0,>=3.0.2 in /usr/local/lib/python3.6/dist-packages (from requests->smart-open>=1.2.1->gensim) (3.0.4)\n",
      "Requirement already satisfied: python-dateutil<3.0.0,>=2.1; python_version >= \"2.7\" in /usr/local/lib/python3.6/dist-packages (from botocore<1.13.0,>=1.12.139->boto3->smart-open>=1.2.1->gensim) (2.5.3)\n",
      "Requirement already satisfied: docutils>=0.10 in /usr/local/lib/python3.6/dist-packages (from botocore<1.13.0,>=1.12.139->boto3->smart-open>=1.2.1->gensim) (0.14)\n",
      "[nltk_data] Downloading package stopwords to /root/nltk_data...\n",
      "[nltk_data]   Unzipping corpora/stopwords.zip.\n",
      "[nltk_data] Downloading package punkt to /root/nltk_data...\n",
      "[nltk_data]   Unzipping tokenizers/punkt.zip.\n"
     ]
    }
   ],
   "source": [
    "import numpy as np\n",
    "import pandas as pd\n",
    "\n",
    "import gensim\n",
    "from gensim.models import KeyedVectors, Word2Vec\n",
    "\n",
    "from sklearn.cluster import KMeans\n",
    "from sklearn.decomposition import PCA\n",
    "import nltk\n",
    "\n",
    "nltk.download('stopwords')\n",
    "nltk.download('punkt')\n",
    "\n",
    "from nltk.corpus import stopwords\n",
    "from nltk.tokenize import word_tokenize\n",
    "import string"
   ]
  },
  {
   "cell_type": "code",
   "execution_count": 0,
   "metadata": {
    "colab": {},
    "colab_type": "code",
    "id": "064OTXMjeqy6"
   },
   "outputs": [],
   "source": [
    "data2 = data.copy()"
   ]
  },
  {
   "cell_type": "code",
   "execution_count": 0,
   "metadata": {
    "colab": {
     "base_uri": "https://localhost:8080/",
     "height": 208
    },
    "colab_type": "code",
    "executionInfo": {
     "elapsed": 425438,
     "status": "ok",
     "timestamp": 1557214838535,
     "user": {
      "displayName": "Arjun Patel",
      "photoUrl": "https://lh5.googleusercontent.com/-BlLPIwYkZoQ/AAAAAAAAAAI/AAAAAAAABy0/fGnMWZAEyF0/s64/photo.jpg",
      "userId": "15471468418524645217"
     },
     "user_tz": 420
    },
    "id": "Jz7_Lx1cehn3",
    "outputId": "84846a95-7c9e-4739-abbc-4f9d0c3c5af9"
   },
   "outputs": [
    {
     "name": "stdout",
     "output_type": "stream",
     "text": [
      "--2019-05-07 07:38:01--  https://s3.amazonaws.com/dl4j-distribution/GoogleNews-vectors-negative300.bin.gz\n",
      "Resolving s3.amazonaws.com (s3.amazonaws.com)... 52.216.185.173\n",
      "Connecting to s3.amazonaws.com (s3.amazonaws.com)|52.216.185.173|:443... connected.\n",
      "HTTP request sent, awaiting response... 200 OK\n",
      "Length: 1647046227 (1.5G) [application/x-gzip]\n",
      "Saving to: ‘GoogleNews-vectors-negative300.bin.gz’\n",
      "\n",
      "GoogleNews-vectors- 100%[===================>]   1.53G  84.1MB/s    in 26s     \n",
      "\n",
      "2019-05-07 07:38:27 (61.0 MB/s) - ‘GoogleNews-vectors-negative300.bin.gz’ saved [1647046227/1647046227]\n",
      "\n"
     ]
    }
   ],
   "source": [
    "# Step 1\n",
    "# SKIP IF ALREADY HAVE vectorized_folders_df\n",
    "\n",
    "!wget -nd https://s3.amazonaws.com/dl4j-distribution/GoogleNews-vectors-negative300.bin.gz \n",
    "model = KeyedVectors.load_word2vec_format('GoogleNews-vectors-negative300.bin.gz', binary=True)\n",
    "\n",
    "# Words are encoded into length 300 vector"
   ]
  },
  {
   "cell_type": "code",
   "execution_count": 0,
   "metadata": {
    "colab": {
     "base_uri": "https://localhost:8080/",
     "height": 72
    },
    "colab_type": "code",
    "executionInfo": {
     "elapsed": 159770,
     "status": "ok",
     "timestamp": 1557215298044,
     "user": {
      "displayName": "Arjun Patel",
      "photoUrl": "https://lh5.googleusercontent.com/-BlLPIwYkZoQ/AAAAAAAAAAI/AAAAAAAABy0/fGnMWZAEyF0/s64/photo.jpg",
      "userId": "15471468418524645217"
     },
     "user_tz": 420
    },
    "id": "c2YilfLmehlu",
    "outputId": "bdc2d3ec-f306-4764-9aa5-7078f7cd20c9"
   },
   "outputs": [
    {
     "name": "stderr",
     "output_type": "stream",
     "text": [
      "/usr/local/lib/python3.6/dist-packages/ipykernel_launcher.py:21: DeprecationWarning: Call to deprecated `wv` (Attribute will be removed in 4.0.0, use self instead).\n",
      "/usr/local/lib/python3.6/dist-packages/ipykernel_launcher.py:22: DeprecationWarning: Call to deprecated `wv` (Attribute will be removed in 4.0.0, use self instead).\n"
     ]
    }
   ],
   "source": [
    "# Step 2\n",
    "\n",
    "# RUN THIS CELL IF DO NOT HAVE EMBEDDINGS YET\n",
    "# RUN THE CELL BELOW IF ALREADY DO\n",
    "\n",
    "# Preprocess the labels\n",
    "\n",
    "#    Remove certain words that are irrelevant\n",
    "#    e.g. the NLTK stopwords, 'items', 'inbox'\n",
    "\n",
    "def remove_unnecessary_words(s):\n",
    "    tokenized_s = word_tokenize(s)\n",
    "    add_to_stopwords = ['items', 'item', 'mails', 'mail', \n",
    "                      'inboxes', 'inbox', 'threads', 'thread']\n",
    "    to_remove = stopwords.words('english') + add_to_stopwords\n",
    "    new_sent = [c for c in tokenized_s if not c in to_remove]\n",
    "    return ' '.join(new_sent)\n",
    "\n",
    "#    Remove punctuation\n",
    "\n",
    "def remove_punctuation(s):\n",
    "    return ''.join([s[i] for i in np.arange(len(s)) if not s[i] in string.punctuation])\n",
    "\n",
    "\n",
    "#    Find vector representation of every folder\n",
    "#    If folder has multiple words after cleaning,\n",
    "#    then just average the vectors\n",
    "\n",
    "def vector_rep(word):\n",
    "    if word in model.wv.vocab:\n",
    "        return model.wv[word]\n",
    "    return np.zeros(shape=(1, 300))\n",
    "\n",
    "def general_vector_rep(phrase):\n",
    "    tokenized = word_tokenize(phrase)\n",
    "    if (len(tokenized) == 0):\n",
    "        return np.zeros(shape=(1, 300))\n",
    "    if (len(tokenized) == 1):\n",
    "        return vector_rep(tokenized[0])\n",
    "    vectors = np.zeros(shape = (len(tokenized), 300))\n",
    "    for i, word in enumerate(tokenized):\n",
    "        vectors[i] = vector_rep(word).reshape((1, 300))\n",
    "    #print(vectors)\n",
    "    return np.average(vectors, axis=0)\n",
    "\n",
    "def make_vector_rep_df(labels):\n",
    "    d = dict.fromkeys(labels)\n",
    "    for key in list(d.keys()):\n",
    "        d[key] = general_vector_rep(key)\n",
    "    df = pd.DataFrame.from_dict(d, orient='index')\n",
    "    del d\n",
    "    for i in np.arange(len(df)):\n",
    "        if(pd.isnull(df.iloc[i, 1])):\n",
    "            df.iloc[i, :] = pd.Series(np.zeros(300))\n",
    "    return df\n",
    "\n",
    "\n",
    "data2['X-Folder-split_cleaned'] = data2['X-Folder-split'].apply(remove_unnecessary_words)\n",
    "data2['X-Folder-split_cleaned'] = data2['X-Folder-split_cleaned'].apply(remove_punctuation)\n",
    "vectorized_folders_df = make_vector_rep_df(list(data2['X-Folder-split_cleaned'].unique()))"
   ]
  },
  {
   "cell_type": "code",
   "execution_count": 0,
   "metadata": {
    "colab": {
     "base_uri": "https://localhost:8080/",
     "height": 356
    },
    "colab_type": "code",
    "executionInfo": {
     "elapsed": 159773,
     "status": "ok",
     "timestamp": 1557215299684,
     "user": {
      "displayName": "Arjun Patel",
      "photoUrl": "https://lh5.googleusercontent.com/-BlLPIwYkZoQ/AAAAAAAAAAI/AAAAAAAABy0/fGnMWZAEyF0/s64/photo.jpg",
      "userId": "15471468418524645217"
     },
     "user_tz": 420
    },
    "id": "naKk2KMAehj6",
    "outputId": "2dafaaa3-1f8e-4cf3-8972-0eb00df81d30"
   },
   "outputs": [
    {
     "name": "stdout",
     "output_type": "stream",
     "text": [
      "[-0.67695268 -0.63491529  2.95959552 -0.64114383 -0.67041276 -0.0176373\n",
      "  0.2901788   0.22088992 -0.68010893 -0.14949346]\n",
      "[-0.62812492 -0.5218733  -0.8144685  -0.42829967 -0.68669157  1.11955266\n",
      "  1.5172405   0.82177795 -0.49046844  0.1113553 ]\n"
     ]
    },
    {
     "data": {
      "text/plain": [
       "<matplotlib.collections.PathCollection at 0x7f8ba8596160>"
      ]
     },
     "execution_count": 27,
     "metadata": {
      "tags": []
     },
     "output_type": "execute_result"
    },
    {
     "data": {
      "image/png": "[encoded data removed]",
      "text/plain": [
       "<Figure size 432x288 with 1 Axes>"
      ]
     },
     "metadata": {
      "tags": []
     },
     "output_type": "display_data"
    }
   ],
   "source": [
    "# Step 3\n",
    "\n",
    "kmeans1 = KMeans(n_clusters = 10)\n",
    "kmeans1.fit(vectorized_folders_df)\n",
    "labels1 = kmeans1.predict(vectorized_folders_df)\n",
    "vectorized_folders_df['label'] = labels1\n",
    "\n",
    "centers1 = kmeans1.cluster_centers_\n",
    "\n",
    "pca_model1 = PCA(n_components=2)\n",
    "centers_pca1 = pca_model1.fit_transform(centers1)\n",
    "centers_pca1_X = centers_pca1.T[0]\n",
    "centers_pca1_y = centers_pca1.T[1]\n",
    "\n",
    "print(centers_pca1_X)\n",
    "print(centers_pca1_y)\n",
    "\n",
    "plt.scatter(centers_pca1_X, centers_pca1_y)"
   ]
  },
  {
   "cell_type": "code",
   "execution_count": 0,
   "metadata": {
    "colab": {},
    "colab_type": "code",
    "id": "6F04DLzBehh0"
   },
   "outputs": [],
   "source": [
    "# Remove the word embedding columns from vectorized_folders_df\n",
    "vectorized_folders_df = vectorized_folders_df.reset_index().rename(columns = {'index': 'subject'})\n",
    "vectorized_folders_df = vectorized_folders_df[['subject', 'label']]"
   ]
  },
  {
   "cell_type": "markdown",
   "metadata": {
    "colab_type": "text",
    "id": "sf2g61C5f06Z"
   },
   "source": [
    "Unfortunately, many of these items were not placed in the correct label. After much manual feature engineering (refer to the PDF labeled 'Updated_labels' for more details) to modify the labels, we read in the NEW_vectorized_folders_df instead."
   ]
  },
  {
   "cell_type": "code",
   "execution_count": 0,
   "metadata": {
    "colab": {},
    "colab_type": "code",
    "id": "4tkoagYtfw3T"
   },
   "outputs": [],
   "source": [
    "link = 'https://drive.google.com/open?id=1NtrrpIt7JEonzcoskgj-2N4Mf3vic6yF'\n",
    "fluff, id = link.split('=')\n",
    "downloaded = drive.CreateFile({'id':id}) \n",
    "downloaded.GetContentFile('NEW_vectorized_folders_df.csv')\n",
    "\n",
    "NEW_vectorized_folders_df = pd.read_csv('NEW_vectorized_folders_df.csv')\n",
    "NEW_vectorized_folders_df = NEW_vectorized_folders_df[['subject', 'label']]"
   ]
  },
  {
   "cell_type": "markdown",
   "metadata": {
    "colab_type": "text",
    "id": "H3mXfCf5dq69"
   },
   "source": [
    "## Joining Clustering Results with Main DF"
   ]
  },
  {
   "cell_type": "code",
   "execution_count": 0,
   "metadata": {
    "colab": {},
    "colab_type": "code",
    "id": "PhvIzXejd130"
   },
   "outputs": [],
   "source": [
    "data2 = data2.merge(right = NEW_vectorized_folders_df,\n",
    "                    how = 'left',\n",
    "                    left_on = 'X-Folder-split_cleaned',\n",
    "                    right_on = 'subject')\n",
    "\n",
    "data = data2.copy()"
   ]
  },
  {
   "cell_type": "markdown",
   "metadata": {
    "colab_type": "text",
    "id": "zeK-H25CjA96"
   },
   "source": [
    "## Drop Labels 1 and 2"
   ]
  },
  {
   "cell_type": "code",
   "execution_count": 0,
   "metadata": {
    "colab": {},
    "colab_type": "code",
    "id": "zDTwpvRejBRM"
   },
   "outputs": [],
   "source": [
    "data_filtered = data[(data['label'] != 1) & \n",
    "                     (data['label'] != 2)]"
   ]
  },
  {
   "cell_type": "markdown",
   "metadata": {
    "colab_type": "text",
    "id": "_XYzBHDMO4LV"
   },
   "source": [
    "The data_filtered is ready to go as our main dataset. Unfortunately, we cannot export to CSV because there aren't any delimiters that work -- the message bodies contain the special characters we'd use as delimiters and so they cause errors in reading back in the exported CSV.\n",
    "\n",
    "As such, the preprocessing must be run each time the notebook is opened."
   ]
  },
  {
   "cell_type": "markdown",
   "metadata": {
    "colab_type": "text",
    "id": "rDb8QODER7T5"
   },
   "source": [
    "## One Hot Encoding and Adding in Embedded Dataset"
   ]
  },
  {
   "cell_type": "code",
   "execution_count": 0,
   "metadata": {
    "colab": {},
    "colab_type": "code",
    "id": "GtNlDWu-RtoD"
   },
   "outputs": [],
   "source": [
    "dfDummies = pd.get_dummies(data_filtered['Day_of_week'], prefix = 'Day= ')\n",
    "data_filtered = pd.concat([data_filtered, dfDummies], axis=1)\n",
    "data_filtered = data_filtered.drop(labels='Day_of_week', axis=1)"
   ]
  },
  {
   "cell_type": "code",
   "execution_count": 0,
   "metadata": {
    "colab": {
     "base_uri": "https://localhost:8080/",
     "height": 269
    },
    "colab_type": "code",
    "executionInfo": {
     "elapsed": 1676,
     "status": "ok",
     "timestamp": 1557216522905,
     "user": {
      "displayName": "Arjun Patel",
      "photoUrl": "https://lh5.googleusercontent.com/-BlLPIwYkZoQ/AAAAAAAAAAI/AAAAAAAABy0/fGnMWZAEyF0/s64/photo.jpg",
      "userId": "15471468418524645217"
     },
     "user_tz": 420
    },
    "id": "Tr4iU_sXaMzu",
    "outputId": "be8644f2-a9f1-4068-f47f-417188348cf5"
   },
   "outputs": [
    {
     "data": {
      "text/html": [
       "<div>\n",
       "<style scoped>\n",
       "    .dataframe tbody tr th:only-of-type {\n",
       "        vertical-align: middle;\n",
       "    }\n",
       "\n",
       "    .dataframe tbody tr th {\n",
       "        vertical-align: top;\n",
       "    }\n",
       "\n",
       "    .dataframe thead th {\n",
       "        text-align: right;\n",
       "    }\n",
       "</style>\n",
       "<table border=\"1\" class=\"dataframe\">\n",
       "  <thead>\n",
       "    <tr style=\"text-align: right;\">\n",
       "      <th></th>\n",
       "      <th>Unnamed: 0</th>\n",
       "      <th>message_length</th>\n",
       "      <th>label</th>\n",
       "      <th>0</th>\n",
       "      <th>1</th>\n",
       "      <th>2</th>\n",
       "      <th>3</th>\n",
       "      <th>4</th>\n",
       "      <th>5</th>\n",
       "      <th>6</th>\n",
       "      <th>...</th>\n",
       "      <th>247</th>\n",
       "      <th>248</th>\n",
       "      <th>249</th>\n",
       "      <th>Day= _Fri</th>\n",
       "      <th>Day= _Mon</th>\n",
       "      <th>Day= _Sat</th>\n",
       "      <th>Day= _Sun</th>\n",
       "      <th>Day= _Thu</th>\n",
       "      <th>Day= _Tue</th>\n",
       "      <th>Day= _Wed</th>\n",
       "    </tr>\n",
       "  </thead>\n",
       "  <tbody>\n",
       "    <tr>\n",
       "      <th>0</th>\n",
       "      <td>0</td>\n",
       "      <td>262</td>\n",
       "      <td>0</td>\n",
       "      <td>0</td>\n",
       "      <td>0</td>\n",
       "      <td>0</td>\n",
       "      <td>0</td>\n",
       "      <td>0</td>\n",
       "      <td>0</td>\n",
       "      <td>0</td>\n",
       "      <td>...</td>\n",
       "      <td>5</td>\n",
       "      <td>13</td>\n",
       "      <td>5</td>\n",
       "      <td>0</td>\n",
       "      <td>0</td>\n",
       "      <td>0</td>\n",
       "      <td>0</td>\n",
       "      <td>0</td>\n",
       "      <td>1</td>\n",
       "      <td>0</td>\n",
       "    </tr>\n",
       "    <tr>\n",
       "      <th>1</th>\n",
       "      <td>1</td>\n",
       "      <td>1255</td>\n",
       "      <td>0</td>\n",
       "      <td>0</td>\n",
       "      <td>0</td>\n",
       "      <td>0</td>\n",
       "      <td>0</td>\n",
       "      <td>0</td>\n",
       "      <td>0</td>\n",
       "      <td>0</td>\n",
       "      <td>...</td>\n",
       "      <td>56189</td>\n",
       "      <td>17</td>\n",
       "      <td>76024</td>\n",
       "      <td>0</td>\n",
       "      <td>0</td>\n",
       "      <td>0</td>\n",
       "      <td>0</td>\n",
       "      <td>1</td>\n",
       "      <td>0</td>\n",
       "      <td>0</td>\n",
       "    </tr>\n",
       "    <tr>\n",
       "      <th>2</th>\n",
       "      <td>2</td>\n",
       "      <td>1120</td>\n",
       "      <td>0</td>\n",
       "      <td>0</td>\n",
       "      <td>0</td>\n",
       "      <td>0</td>\n",
       "      <td>0</td>\n",
       "      <td>0</td>\n",
       "      <td>0</td>\n",
       "      <td>0</td>\n",
       "      <td>...</td>\n",
       "      <td>374</td>\n",
       "      <td>1365</td>\n",
       "      <td>6669</td>\n",
       "      <td>0</td>\n",
       "      <td>0</td>\n",
       "      <td>0</td>\n",
       "      <td>0</td>\n",
       "      <td>1</td>\n",
       "      <td>0</td>\n",
       "      <td>0</td>\n",
       "    </tr>\n",
       "    <tr>\n",
       "      <th>3</th>\n",
       "      <td>3</td>\n",
       "      <td>541</td>\n",
       "      <td>0</td>\n",
       "      <td>0</td>\n",
       "      <td>0</td>\n",
       "      <td>0</td>\n",
       "      <td>0</td>\n",
       "      <td>0</td>\n",
       "      <td>0</td>\n",
       "      <td>0</td>\n",
       "      <td>...</td>\n",
       "      <td>32619</td>\n",
       "      <td>17</td>\n",
       "      <td>26431</td>\n",
       "      <td>0</td>\n",
       "      <td>0</td>\n",
       "      <td>0</td>\n",
       "      <td>0</td>\n",
       "      <td>1</td>\n",
       "      <td>0</td>\n",
       "      <td>0</td>\n",
       "    </tr>\n",
       "    <tr>\n",
       "      <th>4</th>\n",
       "      <td>4</td>\n",
       "      <td>1415</td>\n",
       "      <td>0</td>\n",
       "      <td>366</td>\n",
       "      <td>137</td>\n",
       "      <td>1915</td>\n",
       "      <td>47</td>\n",
       "      <td>10180</td>\n",
       "      <td>1061</td>\n",
       "      <td>8563</td>\n",
       "      <td>...</td>\n",
       "      <td>86</td>\n",
       "      <td>1957</td>\n",
       "      <td>76038</td>\n",
       "      <td>1</td>\n",
       "      <td>0</td>\n",
       "      <td>0</td>\n",
       "      <td>0</td>\n",
       "      <td>0</td>\n",
       "      <td>0</td>\n",
       "      <td>0</td>\n",
       "    </tr>\n",
       "  </tbody>\n",
       "</table>\n",
       "<p>5 rows × 260 columns</p>\n",
       "</div>"
      ],
      "text/plain": [
       "   Unnamed: 0  message_length  label    0    1     2   3      4     5     6  \\\n",
       "0           0             262      0    0    0     0   0      0     0     0   \n",
       "1           1            1255      0    0    0     0   0      0     0     0   \n",
       "2           2            1120      0    0    0     0   0      0     0     0   \n",
       "3           3             541      0    0    0     0   0      0     0     0   \n",
       "4           4            1415      0  366  137  1915  47  10180  1061  8563   \n",
       "\n",
       "   ...    247   248    249  Day= _Fri  Day= _Mon  Day= _Sat  Day= _Sun  \\\n",
       "0  ...      5    13      5          0          0          0          0   \n",
       "1  ...  56189    17  76024          0          0          0          0   \n",
       "2  ...    374  1365   6669          0          0          0          0   \n",
       "3  ...  32619    17  26431          0          0          0          0   \n",
       "4  ...     86  1957  76038          1          0          0          0   \n",
       "\n",
       "   Day= _Thu  Day= _Tue  Day= _Wed  \n",
       "0          0          1          0  \n",
       "1          1          0          0  \n",
       "2          1          0          0  \n",
       "3          1          0          0  \n",
       "4          0          0          0  \n",
       "\n",
       "[5 rows x 260 columns]"
      ]
     },
     "execution_count": 34,
     "metadata": {
      "tags": []
     },
     "output_type": "execute_result"
    }
   ],
   "source": [
    "embedded_df = pd.read_csv('Embedded_Dataset.csv')\n",
    "embedded_df.head()"
   ]
  },
  {
   "cell_type": "code",
   "execution_count": 0,
   "metadata": {
    "colab": {
     "base_uri": "https://localhost:8080/",
     "height": 52
    },
    "colab_type": "code",
    "executionInfo": {
     "elapsed": 975,
     "status": "ok",
     "timestamp": 1557216522907,
     "user": {
      "displayName": "Arjun Patel",
      "photoUrl": "https://lh5.googleusercontent.com/-BlLPIwYkZoQ/AAAAAAAAAAI/AAAAAAAABy0/fGnMWZAEyF0/s64/photo.jpg",
      "userId": "15471468418524645217"
     },
     "user_tz": 420
    },
    "id": "db1AyA5Td75J",
    "outputId": "6bfde6e2-b0b8-4c78-9b2a-cae061f118bb"
   },
   "outputs": [
    {
     "name": "stdout",
     "output_type": "stream",
     "text": [
      "(71374, 19)\n",
      "(29141, 260)\n"
     ]
    }
   ],
   "source": [
    "print(data_filtered.shape)\n",
    "print(embedded_df.shape)"
   ]
  },
  {
   "cell_type": "markdown",
   "metadata": {
    "colab_type": "text",
    "id": "ibqIOkX9bWio"
   },
   "source": [
    "## Decision Tree"
   ]
  },
  {
   "cell_type": "code",
   "execution_count": 0,
   "metadata": {
    "colab": {},
    "colab_type": "code",
    "id": "tezFAMNW-72x"
   },
   "outputs": [],
   "source": [
    "from sklearn.model_selection import train_test_split, KFold, cross_val_score\n",
    "from sklearn.tree import DecisionTreeClassifier\n",
    "from sklearn.metrics import accuracy_score, make_scorer\n",
    "from sklearn import tree\n",
    "from sklearn.ensemble import BaggingClassifier\n",
    "from sklearn.model_selection import "
   ]
  },
  {
   "cell_type": "code",
   "execution_count": 0,
   "metadata": {
    "colab": {},
    "colab_type": "code",
    "id": "JRoKPBseOlr6"
   },
   "outputs": [],
   "source": [
    "data_filtered_cleaned = embedded_df"
   ]
  },
  {
   "cell_type": "code",
   "execution_count": 0,
   "metadata": {
    "colab": {
     "base_uri": "https://localhost:8080/",
     "height": 146
    },
    "colab_type": "code",
    "executionInfo": {
     "elapsed": 234,
     "status": "ok",
     "timestamp": 1557216522911,
     "user": {
      "displayName": "Arjun Patel",
      "photoUrl": "https://lh5.googleusercontent.com/-BlLPIwYkZoQ/AAAAAAAAAAI/AAAAAAAABy0/fGnMWZAEyF0/s64/photo.jpg",
      "userId": "15471468418524645217"
     },
     "user_tz": 420
    },
    "id": "3x2BOWYGOyTh",
    "outputId": "2bb27593-b8db-4851-aeb6-fcba10f725cc"
   },
   "outputs": [
    {
     "data": {
      "text/html": [
       "<div>\n",
       "<style scoped>\n",
       "    .dataframe tbody tr th:only-of-type {\n",
       "        vertical-align: middle;\n",
       "    }\n",
       "\n",
       "    .dataframe tbody tr th {\n",
       "        vertical-align: top;\n",
       "    }\n",
       "\n",
       "    .dataframe thead th {\n",
       "        text-align: right;\n",
       "    }\n",
       "</style>\n",
       "<table border=\"1\" class=\"dataframe\">\n",
       "  <thead>\n",
       "    <tr style=\"text-align: right;\">\n",
       "      <th></th>\n",
       "      <th>Unnamed: 0</th>\n",
       "      <th>message_length</th>\n",
       "      <th>label</th>\n",
       "      <th>0</th>\n",
       "      <th>1</th>\n",
       "      <th>2</th>\n",
       "      <th>3</th>\n",
       "      <th>4</th>\n",
       "      <th>5</th>\n",
       "      <th>6</th>\n",
       "      <th>...</th>\n",
       "      <th>247</th>\n",
       "      <th>248</th>\n",
       "      <th>249</th>\n",
       "      <th>Day= _Fri</th>\n",
       "      <th>Day= _Mon</th>\n",
       "      <th>Day= _Sat</th>\n",
       "      <th>Day= _Sun</th>\n",
       "      <th>Day= _Thu</th>\n",
       "      <th>Day= _Tue</th>\n",
       "      <th>Day= _Wed</th>\n",
       "    </tr>\n",
       "  </thead>\n",
       "  <tbody>\n",
       "    <tr>\n",
       "      <th>0</th>\n",
       "      <td>0</td>\n",
       "      <td>262</td>\n",
       "      <td>0</td>\n",
       "      <td>0</td>\n",
       "      <td>0</td>\n",
       "      <td>0</td>\n",
       "      <td>0</td>\n",
       "      <td>0</td>\n",
       "      <td>0</td>\n",
       "      <td>0</td>\n",
       "      <td>...</td>\n",
       "      <td>5</td>\n",
       "      <td>13</td>\n",
       "      <td>5</td>\n",
       "      <td>0</td>\n",
       "      <td>0</td>\n",
       "      <td>0</td>\n",
       "      <td>0</td>\n",
       "      <td>0</td>\n",
       "      <td>1</td>\n",
       "      <td>0</td>\n",
       "    </tr>\n",
       "  </tbody>\n",
       "</table>\n",
       "<p>1 rows × 260 columns</p>\n",
       "</div>"
      ],
      "text/plain": [
       "   Unnamed: 0  message_length  label  0  1  2  3  4  5  6  ...  247  248  249  \\\n",
       "0           0             262      0  0  0  0  0  0  0  0  ...    5   13    5   \n",
       "\n",
       "   Day= _Fri  Day= _Mon  Day= _Sat  Day= _Sun  Day= _Thu  Day= _Tue  Day= _Wed  \n",
       "0          0          0          0          0          0          1          0  \n",
       "\n",
       "[1 rows x 260 columns]"
      ]
     },
     "execution_count": 38,
     "metadata": {
      "tags": []
     },
     "output_type": "execute_result"
    }
   ],
   "source": [
    "data_filtered_cleaned.head(1)"
   ]
  },
  {
   "cell_type": "code",
   "execution_count": 0,
   "metadata": {
    "colab": {
     "base_uri": "https://localhost:8080/",
     "height": 121
    },
    "colab_type": "code",
    "executionInfo": {
     "elapsed": 219,
     "status": "ok",
     "timestamp": 1557216523064,
     "user": {
      "displayName": "Arjun Patel",
      "photoUrl": "https://lh5.googleusercontent.com/-BlLPIwYkZoQ/AAAAAAAAAAI/AAAAAAAABy0/fGnMWZAEyF0/s64/photo.jpg",
      "userId": "15471468418524645217"
     },
     "user_tz": 420
    },
    "id": "4CQki0ILgxhD",
    "outputId": "c31373f5-a431-42cf-f651-a0f19554a874"
   },
   "outputs": [
    {
     "data": {
      "text/plain": [
       "Index(['Unnamed: 0', 'message_length', 'label', '0', '1', '2', '3', '4', '5',\n",
       "       '6',\n",
       "       ...\n",
       "       '247', '248', '249', 'Day= _Fri', 'Day= _Mon', 'Day= _Sat', 'Day= _Sun',\n",
       "       'Day= _Thu', 'Day= _Tue', 'Day= _Wed'],\n",
       "      dtype='object', length=260)"
      ]
     },
     "execution_count": 39,
     "metadata": {
      "tags": []
     },
     "output_type": "execute_result"
    }
   ],
   "source": [
    "data_filtered_cleaned.columns"
   ]
  },
  {
   "cell_type": "code",
   "execution_count": 0,
   "metadata": {
    "colab": {},
    "colab_type": "code",
    "id": "SciA8lxBOm7d"
   },
   "outputs": [],
   "source": [
    "# days_dict = {'Sun': 0, 'Mon': 1, 'Tue': 2, 'Wed': 3, 'Thu': 4, 'Fri': 5, 'Sat': 6}\n",
    "\n",
    "# data_filtered_cleaned = data_filtered_cleaned.replace({'Day_of_week': days_dict})"
   ]
  },
  {
   "cell_type": "code",
   "execution_count": 0,
   "metadata": {
    "colab": {},
    "colab_type": "code",
    "id": "rB20tT1zO5ms"
   },
   "outputs": [],
   "source": [
    "\n",
    "# label_words = ['weather', 'administrative', 'random', 'financial', 'related', 'places', 'legal', 'business', 'random', 'firms', 'recruiting']\n",
    "\n",
    "# for label in label_words:\n",
    "#   data_filtered_cleaned[label] = data_filtered_cleaned['Message-Body'].str.count(label)"
   ]
  },
  {
   "cell_type": "code",
   "execution_count": 0,
   "metadata": {
    "colab": {},
    "colab_type": "code",
    "id": "ZOj2uBe0Dh56"
   },
   "outputs": [],
   "source": [
    "# # columns = ['Day_of_week', 'message_length', 'contains-cc', 'contains-bcc', 'label'].extend(label_words)\n",
    "\n",
    "# data_filtered_cleaned = data_filtered_cleaned[['weather', 'administrative', 'random', 'financial', 'related', 'places', 'legal', 'business', 'random', 'firms', 'recruiting', 'message_length', 'contains-cc', 'contains-bcc', '''label']]\n",
    "# data_filtered_cleaned.head()"
   ]
  },
  {
   "cell_type": "code",
   "execution_count": 0,
   "metadata": {
    "colab": {},
    "colab_type": "code",
    "id": "gA_3v2bVDkW_"
   },
   "outputs": [],
   "source": [
    "X = data_filtered_cleaned.values[:, 3:]\n",
    "Y = data_filtered_cleaned.values[:, 2]"
   ]
  },
  {
   "cell_type": "code",
   "execution_count": 0,
   "metadata": {
    "colab": {},
    "colab_type": "code",
    "id": "S58iNDioI4mu"
   },
   "outputs": [],
   "source": [
    "X_train, X_test, y_train, y_test = train_test_split(X, Y, test_size = 0.3, random_state = 100)"
   ]
  },
  {
   "cell_type": "code",
   "execution_count": 0,
   "metadata": {
    "colab": {
     "base_uri": "https://localhost:8080/",
     "height": 121
    },
    "colab_type": "code",
    "executionInfo": {
     "elapsed": 1583,
     "status": "ok",
     "timestamp": 1557216526440,
     "user": {
      "displayName": "Arjun Patel",
      "photoUrl": "https://lh5.googleusercontent.com/-BlLPIwYkZoQ/AAAAAAAAAAI/AAAAAAAABy0/fGnMWZAEyF0/s64/photo.jpg",
      "userId": "15471468418524645217"
     },
     "user_tz": 420
    },
    "id": "i7pDFlchKJ0U",
    "outputId": "367805c6-b9f2-4985-b16b-2b1460b258eb"
   },
   "outputs": [
    {
     "data": {
      "text/plain": [
       "DecisionTreeClassifier(class_weight=None, criterion='gini', max_depth=630,\n",
       "            max_features=None, max_leaf_nodes=None,\n",
       "            min_impurity_decrease=0.0, min_impurity_split=None,\n",
       "            min_samples_leaf=3000, min_samples_split=2,\n",
       "            min_weight_fraction_leaf=0.0, presort=False, random_state=100,\n",
       "            splitter='best')"
      ]
     },
     "execution_count": 45,
     "metadata": {
      "tags": []
     },
     "output_type": "execute_result"
    }
   ],
   "source": [
    "clf = DecisionTreeClassifier(criterion = \"gini\", random_state = 100,\n",
    "                               max_depth=630, min_samples_leaf=3000)\n",
    "clf.fit(X_train, y_train)"
   ]
  },
  {
   "cell_type": "code",
   "execution_count": 0,
   "metadata": {
    "colab": {},
    "colab_type": "code",
    "id": "oh3DfOibKa47"
   },
   "outputs": [],
   "source": [
    "y_pred = clf.predict(X_test)"
   ]
  },
  {
   "cell_type": "code",
   "execution_count": 0,
   "metadata": {
    "colab": {},
    "colab_type": "code",
    "id": "5juU3Y6mVq4_"
   },
   "outputs": [],
   "source": [
    "y_pred_train = clf.predict(X_train)"
   ]
  },
  {
   "cell_type": "code",
   "execution_count": 0,
   "metadata": {
    "colab": {
     "base_uri": "https://localhost:8080/",
     "height": 35
    },
    "colab_type": "code",
    "executionInfo": {
     "elapsed": 481,
     "status": "ok",
     "timestamp": 1557216585435,
     "user": {
      "displayName": "Arjun Patel",
      "photoUrl": "https://lh5.googleusercontent.com/-BlLPIwYkZoQ/AAAAAAAAAAI/AAAAAAAABy0/fGnMWZAEyF0/s64/photo.jpg",
      "userId": "15471468418524645217"
     },
     "user_tz": 420
    },
    "id": "6WiiNHbqVw7W",
    "outputId": "eca7e0a2-a370-4b64-d4ba-06c681d46a82"
   },
   "outputs": [
    {
     "name": "stdout",
     "output_type": "stream",
     "text": [
      "Decision Tree Accuracy train is  38.60672614962251\n"
     ]
    }
   ],
   "source": [
    "print(\"Decision Tree Accuracy train is \", accuracy_score(y_train, y_pred_train)*100)"
   ]
  },
  {
   "cell_type": "code",
   "execution_count": 0,
   "metadata": {
    "colab": {
     "base_uri": "https://localhost:8080/",
     "height": 35
    },
    "colab_type": "code",
    "executionInfo": {
     "elapsed": 951,
     "status": "ok",
     "timestamp": 1557216526443,
     "user": {
      "displayName": "Arjun Patel",
      "photoUrl": "https://lh5.googleusercontent.com/-BlLPIwYkZoQ/AAAAAAAAAAI/AAAAAAAABy0/fGnMWZAEyF0/s64/photo.jpg",
      "userId": "15471468418524645217"
     },
     "user_tz": 420
    },
    "id": "Zq6tiqShKkaQ",
    "outputId": "f53fbb55-1ed8-498c-e458-c7132cf431ef"
   },
   "outputs": [
    {
     "name": "stdout",
     "output_type": "stream",
     "text": [
      "Decision Tree Accuracy is  38.682374471005375\n"
     ]
    }
   ],
   "source": [
    "# Feature Importance Exploration for DT\n",
    "importances = clf.feature_importances_\n",
    "imp = pd.DataFrame()\n",
    "imp['feature'], imp['importance'] = X_train.columns, importances\n",
    "print(\"Feature ranking:\")\n",
    "print(imp.sort_values(by='importance', ascending=False))\n",
    "plt.figure(figsize=(23, 10))\n",
    "sns.barplot(x='feature', y='importance', data=imp)\n",
    "plt.title('Feature Importance')\n",
    "plt.show()"
   ]
  },
  {
   "cell_type": "code",
   "execution_count": 0,
   "metadata": {
    "colab": {},
    "colab_type": "code",
    "id": "H4RS1Zk2KrAz"
   },
   "outputs": [],
   "source": [
    "# add feature for how many times category labels appear in the body\n",
    "# NEW_vectorized_folders_df.head()"
   ]
  },
  {
   "cell_type": "code",
   "execution_count": 0,
   "metadata": {
    "colab": {},
    "colab_type": "code",
    "id": "jl9KT7NCKjp3"
   },
   "outputs": [],
   "source": []
  },
  {
   "cell_type": "code",
   "execution_count": 0,
   "metadata": {
    "colab": {
     "base_uri": "https://localhost:8080/",
     "height": 121
    },
    "colab_type": "code",
    "executionInfo": {
     "elapsed": 27710,
     "status": "ok",
     "timestamp": 1557216554995,
     "user": {
      "displayName": "Arjun Patel",
      "photoUrl": "https://lh5.googleusercontent.com/-BlLPIwYkZoQ/AAAAAAAAAAI/AAAAAAAABy0/fGnMWZAEyF0/s64/photo.jpg",
      "userId": "15471468418524645217"
     },
     "user_tz": 420
    },
    "id": "JzLDORDl_rry",
    "outputId": "c25b4535-ae80-4b02-f28f-60bd0473aff5"
   },
   "outputs": [
    {
     "data": {
      "text/plain": [
       "RandomForestClassifier(bootstrap=True, class_weight=None, criterion='gini',\n",
       "            max_depth=100, max_features='auto', max_leaf_nodes=None,\n",
       "            min_impurity_decrease=0.0, min_impurity_split=None,\n",
       "            min_samples_leaf=1, min_samples_split=2,\n",
       "            min_weight_fraction_leaf=0.0, n_estimators=100, n_jobs=None,\n",
       "            oob_score=False, random_state=0, verbose=0, warm_start=False)"
      ]
     },
     "execution_count": 50,
     "metadata": {
      "tags": []
     },
     "output_type": "execute_result"
    }
   ],
   "source": [
    "# X, y = make_classification(n_samples=1000, n_features=4, n_informative=2, n_redundant=0, random_state=0, shuffle=False)\n",
    "clf_rf = RandomForestClassifier(n_estimators=100, max_depth=100, random_state=0)\n",
    "\n",
    "clf_rf.fit(X_train, y_train)"
   ]
  },
  {
   "cell_type": "code",
   "execution_count": 0,
   "metadata": {
    "colab": {},
    "colab_type": "code",
    "id": "bzJSY3seANbj"
   },
   "outputs": [],
   "source": [
    "y_pred_rf = clf.predict(X_test)"
   ]
  },
  {
   "cell_type": "code",
   "execution_count": 0,
   "metadata": {
    "colab": {},
    "colab_type": "code",
    "id": "6kDSAfWwAP3s"
   },
   "outputs": [],
   "source": [
    "print(\"Random Forest Accuracy is \", accuracy_score(y_test, y_pred_rf)*100)"
   ]
  },
  {
   "cell_type": "code",
   "execution_count": 0,
   "metadata": {
    "colab": {},
    "colab_type": "code",
    "id": "_uwNjU0BBVEf"
   },
   "outputs": [],
   "source": [
    "# Feature Importance Exploration for RF\n",
    "importances = clf_rf.feature_importances_\n",
    "imp = pd.DataFrame()\n",
    "imp['feature'], imp['importance'] = X_train.columns, importances\n",
    "print(\"Feature ranking:\")\n",
    "print(imp.sort_values(by='importance', ascending=False))\n",
    "plt.figure(figsize=(23, 10))\n",
    "sns.barplot(x='feature', y='importance', data=imp)\n",
    "plt.title('Feature Importance')\n",
    "plt.show()"
   ]
  },
  {
   "cell_type": "code",
   "execution_count": 0,
   "metadata": {
    "colab": {},
    "colab_type": "code",
    "id": "SitwChl-A-zr"
   },
   "outputs": [],
   "source": [
    "# Bagging\n",
    "kfold = KFold(n_splits=30, random_state=0)\n",
    "bag = BaggingClassifier(base_estimator=clf, n_estimators=100,\n",
    "                        random_state=42, max_samples=0.5, max_features=0.5)\n",
    "bag.fit(X_train, y_train)\n",
    "# results = cross_val_score(bag, X1, y1, cv=kfold)\n",
    "# print('Bagging: ', results.mean())"
   ]
  },
  {
   "cell_type": "code",
   "execution_count": 0,
   "metadata": {
    "colab": {},
    "colab_type": "code",
    "id": "rOZm2DMjA-2w"
   },
   "outputs": [],
   "source": [
    "print(\"Accuracy Score of Bagging on train set\", bag.score(X_train, y_train)*100,'%')\n",
    "print(\"Accuracy Score of Bagging on test set\",bag.score(X_test, y_test)*100,'%')"
   ]
  },
  {
   "cell_type": "code",
   "execution_count": 0,
   "metadata": {
    "colab": {},
    "colab_type": "code",
    "id": "u6uyiO-fA-8B"
   },
   "outputs": [],
   "source": []
  },
  {
   "cell_type": "markdown",
   "metadata": {
    "colab_type": "text",
    "id": "1LJQtuEhBzb1"
   },
   "source": [
    "## KNN"
   ]
  },
  {
   "cell_type": "markdown",
   "metadata": {
    "colab_type": "text",
    "id": "drBvAhLRB068"
   },
   "source": [
    "### 0. Import Libraries and Data"
   ]
  },
  {
   "cell_type": "code",
   "execution_count": 0,
   "metadata": {
    "colab": {},
    "colab_type": "code",
    "id": "wGWe8zf6Bz7m"
   },
   "outputs": [],
   "source": [
    "import numpy as np\n",
    "import pandas as pd\n",
    "import matplotlib.pyplot as plt\n",
    "import time\n",
    "from sklearn.neighbors import KNeighborsClassifier as KNN\n",
    "from sklearn.model_selection import train_test_split\n",
    "from sklearn.model_selection import cross_validate\n",
    "from sklearn.ensemble import BaggingClassifier\n",
    "from sklearn.decomposition import PCA\n",
    "import pickle"
   ]
  },
  {
   "cell_type": "code",
   "execution_count": 0,
   "metadata": {
    "colab": {},
    "colab_type": "code",
    "id": "x5DI6wk8B6JQ"
   },
   "outputs": [],
   "source": [
    "# Code to read csv file into Colaboratory:\n",
    "!pip install -U -q PyDrive\n",
    "from pydrive.auth import GoogleAuth\n",
    "from pydrive.drive import GoogleDrive\n",
    "from google.colab import auth\n",
    "from oauth2client.client import GoogleCredentials\n",
    "# Authenticate and create the PyDrive client.\n",
    "auth.authenticate_user()\n",
    "gauth = GoogleAuth()\n",
    "gauth.credentials = GoogleCredentials.get_application_default()\n",
    "drive = GoogleDrive(gauth)\n",
    "\n",
    "\n",
    "link = 'https://drive.google.com/open?id=1YwbXa6EcJIqT_tz7t8lwvi8TBwGEjS4o'\n",
    "fluff, id = link.split('=')\n",
    "print (id) # Verify that you have everything after '='\n",
    "\n",
    "downloaded = drive.CreateFile({'id':id}) \n",
    "downloaded.GetContentFile('Embedded_Dataset.csv')  \n",
    "\n",
    "data = pd.read_csv('Embedded_Dataset.csv', index_col = 0)\n",
    "data.head()"
   ]
  },
  {
   "cell_type": "code",
   "execution_count": 0,
   "metadata": {
    "colab": {},
    "colab_type": "code",
    "id": "-rE0Y4vUB6xz"
   },
   "outputs": [],
   "source": [
    "y = data['label']\n",
    "X = data.drop('label', axis=1)"
   ]
  },
  {
   "cell_type": "markdown",
   "metadata": {
    "colab_type": "text",
    "id": "qPEGEhtoB_0T"
   },
   "source": [
    "### 1. Build and Test KNN Models"
   ]
  },
  {
   "cell_type": "code",
   "execution_count": 0,
   "metadata": {
    "colab": {},
    "colab_type": "code",
    "id": "Ktpr6SSYCCSE"
   },
   "outputs": [],
   "source": [
    "def run_knn(X, y, prop_test, n):\n",
    "  X_train, X_test, y_train, y_test = train_test_split(X, y, test_size=prop_test)\n",
    "  knn = KNN(n_neighbors = n)\n",
    "  print(\"... Fitting model ...\")\n",
    "  knn.fit(X_train, y_train)\n",
    "  print(\"... Train set predictions ...\")\n",
    "  train_preds = knn.predict(X_train)\n",
    "  print(\"... Test set predictions ...\")\n",
    "  test_preds = knn.predict(X_test)\n",
    "\n",
    "  train_score = sum(train_preds == y_train) / len(y_train)\n",
    "  test_score = sum(test_preds == y_test) / len(y_test)\n",
    "\n",
    "  print(\"Training accuracy:\", train_score)\n",
    "  print(\"Testing accuracy: \", test_score)\n",
    "  \n",
    "  return train_score, test_score"
   ]
  },
  {
   "cell_type": "code",
   "execution_count": 0,
   "metadata": {
    "colab": {},
    "colab_type": "code",
    "id": "PL4h-t-rCESz"
   },
   "outputs": [],
   "source": [
    "n_range = np.arange(3, 22)\n",
    "results = np.zeros(shape=(len(n_range), 2))\n",
    "\n",
    "for i in n_range:\n",
    "  results[i-3, 0], results[i-3, 1] = run_knn(X, y, 0.2, i)"
   ]
  },
  {
   "cell_type": "code",
   "execution_count": 0,
   "metadata": {
    "colab": {},
    "colab_type": "code",
    "id": "mUfH-5kzCKAF"
   },
   "outputs": [],
   "source": [
    "plt.plot(n_range, np.transpose(results)[0], color='blue', label=\"Train set accuracy\")\n",
    "plt.plot(n_range, np.transpose(results)[1], color='red', label=\"Test set accuracy\")\n",
    "plt.xticks(n_range)\n",
    "plt.legend()\n",
    "plt.title(\"Train and Test Accuracies per N\")"
   ]
  },
  {
   "cell_type": "markdown",
   "metadata": {
    "colab_type": "text",
    "id": "gKBv-ZJeCMxv"
   },
   "source": [
    "The test accuracy hovers at around 37% or 38% for all values of *n*, but *n=20* had the lowest gap between the train accuracy and test accuracy.\n",
    "\n",
    "Just because it is a better practice to use an odd number of n (so there will always be a majority vote), I will use *n = 21* in the model I tune."
   ]
  },
  {
   "cell_type": "code",
   "execution_count": 0,
   "metadata": {
    "colab": {},
    "colab_type": "code",
    "id": "T0U302Q7CKD2"
   },
   "outputs": [],
   "source": [
    "final_knn = KNN(n_neighbors = 21)\n",
    "final_knn_fitted = final_knn.fit(X, y)"
   ]
  },
  {
   "cell_type": "markdown",
   "metadata": {
    "colab_type": "text",
    "id": "7En0w5zqCQzn"
   },
   "source": [
    "### 2. Bagged KNN\n",
    "\n",
    "Bagging the KNN may improve performance"
   ]
  },
  {
   "cell_type": "code",
   "execution_count": 0,
   "metadata": {
    "colab": {},
    "colab_type": "code",
    "id": "WIYHa0e4CKHM"
   },
   "outputs": [],
   "source": [
    "prop_test = 0.2\n",
    "X_train, X_test, y_train, y_test = train_test_split(X, y, test_size=prop_test)\n",
    "bagging = BaggingClassifier(base_estimator = final_knn,\n",
    "                         n_estimators = 50)\n",
    "print(\"... Fitting model ...\")\n",
    "bagging.fit(X_train, y_train)\n",
    "print(\"... Train set predictions ...\")\n",
    "train_preds = bagging.predict(X_train)\n",
    "print(\"... Test set predictions ...\")\n",
    "test_preds = bagging.predict(X_test)\n",
    "train_score = sum(train_preds == y_train) / len(y_train)\n",
    "test_score = sum(test_preds == y_test) / len(y_test)\n",
    "print(\"Training accuracy:\", train_score)\n",
    "print(\"Testing accuracy: \", test_score)"
   ]
  },
  {
   "cell_type": "markdown",
   "metadata": {
    "colab_type": "text",
    "id": "oZDOkO77Cg0X"
   },
   "source": [
    "It didn't work: the traing accuracy is 46% again and test accuracy is 38%."
   ]
  },
  {
   "cell_type": "markdown",
   "metadata": {
    "colab_type": "text",
    "id": "vmxUI3qXCnb7"
   },
   "source": [
    "### 3. PCA then KNN\n",
    "\n",
    "Maybe using PCA to reduce dimensionality will improve KNN performance"
   ]
  },
  {
   "cell_type": "code",
   "execution_count": 0,
   "metadata": {
    "colab": {},
    "colab_type": "code",
    "id": "kxmWJVPZCgVX"
   },
   "outputs": [],
   "source": [
    "n_range = np.arange(2, 21)\n",
    "\n",
    "results = np.zeros(shape=(len(n_range), 2))\n",
    "\n",
    "for i in n_range:\n",
    "  print(\"Dimension:\", i)\n",
    "  X_pca = PCA(n_components = i).fit_transform(X)\n",
    "  results[i-2, 0], results[i-2, 1] = run_knn(X_pca, y, 0.2, 21)\n",
    "  \n",
    "plt.plot(n_range, np.transpose(results)[0], color='blue', label=\"Train set accuracy\")\n",
    "plt.plot(n_range, np.transpose(results)[1], color='red', label=\"Test set accuracy\")\n",
    "plt.xticks(n_range)\n",
    "plt.legend()\n",
    "plt.title(\"Train and Test Accuracies per Dimension\")"
   ]
  },
  {
   "cell_type": "markdown",
   "metadata": {
    "colab_type": "text",
    "id": "Rf0jTziQCwa2"
   },
   "source": [
    "It looks as if training accuracy peaked at around 46.5% accuracy and test accuracy peaked at around 39%, which occurred at 14 dimensions.\n",
    "\n",
    "This isn't much improvement from the original KNN model, so I will just save that one."
   ]
  }
 ],
 "metadata": {
  "colab": {
   "collapsed_sections": [],
   "name": "MAIN_NOTEBOOK.ipynb",
   "provenance": [
    {
     "file_id": "0ByYbtoChpm1SVlNhVmU0STFNWUhKbzdsVHJPT2pidDdVdUVF",
     "timestamp": 1555110976262
    }
   ],
   "toc_visible": true,
   "version": "0.3.2"
  },
  "kernelspec": {
   "display_name": "Python 3",
   "language": "python",
   "name": "python3"
  },
  "language_info": {
   "codemirror_mode": {
    "name": "ipython",
    "version": 3
   },
   "file_extension": ".py",
   "mimetype": "text/x-python",
   "name": "python",
   "nbconvert_exporter": "python",
   "pygments_lexer": "ipython3",
   "version": "3.7.7"
  }
 },
 "nbformat": 4,
 "nbformat_minor": 1
}
