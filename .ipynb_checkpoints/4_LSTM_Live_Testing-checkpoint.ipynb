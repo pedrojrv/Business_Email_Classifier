{
 "cells": [
  {
   "cell_type": "code",
   "execution_count": 3,
   "metadata": {
    "ExecuteTime": {
     "end_time": "2020-08-04T06:06:26.510817Z",
     "start_time": "2020-08-04T06:06:23.807040Z"
    }
   },
   "outputs": [],
   "source": [
    "import numpy as np \n",
    "from tensorflow.keras.preprocessing.text import Tokenizer\n",
    "from tensorflow.keras.preprocessing.sequence import pad_sequences\n",
    "from tensorflow.keras.models import load_model"
   ]
  },
  {
   "cell_type": "code",
   "execution_count": 4,
   "metadata": {
    "ExecuteTime": {
     "end_time": "2020-08-04T06:06:32.159771Z",
     "start_time": "2020-08-04T06:06:28.319103Z"
    }
   },
   "outputs": [],
   "source": [
    "model = load_model('LSTM_no1n2.h5')"
   ]
  },
  {
   "cell_type": "code",
   "execution_count": 5,
   "metadata": {
    "ExecuteTime": {
     "end_time": "2020-08-04T06:06:34.744869Z",
     "start_time": "2020-08-04T06:06:34.741867Z"
    }
   },
   "outputs": [],
   "source": [
    "max_length = 250"
   ]
  },
  {
   "cell_type": "code",
   "execution_count": 6,
   "metadata": {
    "ExecuteTime": {
     "end_time": "2020-08-04T06:06:41.301279Z",
     "start_time": "2020-08-04T06:06:40.974457Z"
    }
   },
   "outputs": [],
   "source": [
    "import pickle\n",
    "\n",
    "# loading\n",
    "with open('tokenizer.pickle', 'rb') as handle:\n",
    "    tokenizer = pickle.load(handle)"
   ]
  },
  {
   "cell_type": "code",
   "execution_count": 7,
   "metadata": {
    "ExecuteTime": {
     "end_time": "2020-08-04T06:06:44.037793Z",
     "start_time": "2020-08-04T06:06:43.245761Z"
    }
   },
   "outputs": [
    {
     "name": "stdout",
     "output_type": "stream",
     "text": [
      "[[3.24275866e-02 4.29775013e-04 4.41411714e-04 8.45165074e-01\n",
      "  2.43270192e-02 1.67699568e-02 7.10438611e-03 2.19488908e-02\n",
      "  3.25837173e-02 6.28991611e-03 1.25122545e-02]] Financial/Logistics\n"
     ]
    }
   ],
   "source": [
    "new_complaint = ['What are the consequences of a lawsuit?']\n",
    "seq = tokenizer.texts_to_sequences(new_complaint)\n",
    "padded = pad_sequences(seq, maxlen=max_length)\n",
    "pred = model.predict(padded)\n",
    "labels = ['Weather/Natural','Sent Mail','Random/NA','Financial/Logistics','Related to Other People',\n",
    "          'Places','Legal','Buisness','2-Letter/Random','Other Firms','HR/Recruiting/MBA']\n",
    "print(pred, labels[np.argmax(pred)])"
   ]
  },
  {
   "cell_type": "code",
   "execution_count": 8,
   "metadata": {
    "ExecuteTime": {
     "end_time": "2020-08-04T06:06:48.501862Z",
     "start_time": "2020-08-04T06:06:48.382659Z"
    }
   },
   "outputs": [
    {
     "name": "stdout",
     "output_type": "stream",
     "text": [
      "[[0.25816572 0.00338858 0.00290285 0.19505277 0.03923523 0.07588407\n",
      "  0.02688198 0.32902676 0.03238906 0.01407197 0.02300098]] Buisness\n"
     ]
    }
   ],
   "source": [
    "new_complaint = ['Have you transferred the funds to their bank account?']\n",
    "seq = tokenizer.texts_to_sequences(new_complaint)\n",
    "padded = pad_sequences(seq, maxlen=max_length)\n",
    "pred = model.predict(padded)\n",
    "labels = ['Weather/Natural','Sent Mail','Random/NA','Financial/Logistics','Related to Other People',\n",
    "          'Places','Legal','Buisness','2-Letter/Random','Other Firms','HR/Recruiting/MBA']\n",
    "print(pred, labels[np.argmax(pred)])"
   ]
  },
  {
   "cell_type": "code",
   "execution_count": 9,
   "metadata": {
    "ExecuteTime": {
     "end_time": "2020-08-04T06:06:50.896120Z",
     "start_time": "2020-08-04T06:06:50.782564Z"
    }
   },
   "outputs": [
    {
     "name": "stdout",
     "output_type": "stream",
     "text": [
      "[[0.02040642 0.00085435 0.00117312 0.23422034 0.14695795 0.00272716\n",
      "  0.00110299 0.0075815  0.1536321  0.02959302 0.40175107]] HR/Recruiting/MBA\n"
     ]
    }
   ],
   "source": [
    "new_complaint = ['Thank you for contactig us regarding the MBA program, Do you have any specific questions?']\n",
    "seq = tokenizer.texts_to_sequences(new_complaint)\n",
    "padded = pad_sequences(seq, maxlen=max_length)\n",
    "pred = model.predict(padded)\n",
    "labels = ['Weather/Natural','Sent Mail','Random/NA','Financial/Logistics','Related to Other People',\n",
    "          'Places','Legal','Buisness','2-Letter/Random','Other Firms','HR/Recruiting/MBA']\n",
    "print(pred, labels[np.argmax(pred)])"
   ]
  },
  {
   "cell_type": "code",
   "execution_count": 10,
   "metadata": {
    "ExecuteTime": {
     "end_time": "2020-08-04T06:06:51.741196Z",
     "start_time": "2020-08-04T06:06:51.630089Z"
    }
   },
   "outputs": [
    {
     "name": "stdout",
     "output_type": "stream",
     "text": [
      "[[0.6322321  0.00068294 0.00081632 0.0568786  0.02822017 0.08666046\n",
      "  0.00875696 0.01268484 0.10277729 0.04104652 0.02924372]] Weather/Natural\n"
     ]
    }
   ],
   "source": [
    "new_complaint = ['How will the climate be tomorrow? Can I have the weather forecast for tomorrow?']\n",
    "seq = tokenizer.texts_to_sequences(new_complaint)\n",
    "padded = pad_sequences(seq, maxlen=max_length)\n",
    "pred = model.predict(padded)\n",
    "labels = ['Weather/Natural','Sent Mail','Random/NA','Financial/Logistics','Related to Other People',\n",
    "          'Places','Legal','Buisness','2-Letter/Random','Other Firms','HR/Recruiting/MBA']\n",
    "print(pred, labels[np.argmax(pred)])"
   ]
  },
  {
   "cell_type": "code",
   "execution_count": null,
   "metadata": {},
   "outputs": [],
   "source": []
  }
 ],
 "metadata": {
  "kernelspec": {
   "display_name": "Python 3",
   "language": "python",
   "name": "python3"
  },
  "language_info": {
   "codemirror_mode": {
    "name": "ipython",
    "version": 3
   },
   "file_extension": ".py",
   "mimetype": "text/x-python",
   "name": "python",
   "nbconvert_exporter": "python",
   "pygments_lexer": "ipython3",
   "version": "3.7.7"
  }
 },
 "nbformat": 4,
 "nbformat_minor": 2
}
