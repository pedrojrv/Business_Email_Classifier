{
 "cells": [
  {
   "cell_type": "markdown",
   "metadata": {},
   "source": [
    "# LSTM Model for Natural Language Processing"
   ]
  },
  {
   "cell_type": "markdown",
   "metadata": {},
   "source": [
    "In this notebook I present the process of how the LSTM Model was build including some preprocessing and feature engineering."
   ]
  },
  {
   "cell_type": "markdown",
   "metadata": {},
   "source": [
    "Import all the following packages:"
   ]
  },
  {
   "cell_type": "code",
   "execution_count": 388,
   "metadata": {},
   "outputs": [
    {
     "data": {
      "text/html": [
       "        <script type=\"text/javascript\">\n",
       "        window.PlotlyConfig = {MathJaxConfig: 'local'};\n",
       "        if (window.MathJax) {MathJax.Hub.Config({SVG: {font: \"STIX-Web\"}});}\n",
       "        if (typeof require !== 'undefined') {\n",
       "        require.undef(\"plotly\");\n",
       "        requirejs.config({\n",
       "            paths: {\n",
       "                'plotly': ['https://cdn.plot.ly/plotly-latest.min']\n",
       "            }\n",
       "        });\n",
       "        require(['plotly'], function(Plotly) {\n",
       "            window._Plotly = Plotly;\n",
       "        });\n",
       "        }\n",
       "        </script>\n",
       "        "
      ]
     },
     "metadata": {},
     "output_type": "display_data"
    }
   ],
   "source": [
    "from plotly.offline import download_plotlyjs, init_notebook_mode, plot, iplot\n",
    "init_notebook_mode(connected=True)"
   ]
  },
  {
   "cell_type": "code",
   "execution_count": 389,
   "metadata": {},
   "outputs": [
    {
     "data": {
      "text/html": [
       "        <script type=\"text/javascript\">\n",
       "        window.PlotlyConfig = {MathJaxConfig: 'local'};\n",
       "        if (window.MathJax) {MathJax.Hub.Config({SVG: {font: \"STIX-Web\"}});}\n",
       "        if (typeof require !== 'undefined') {\n",
       "        require.undef(\"plotly\");\n",
       "        requirejs.config({\n",
       "            paths: {\n",
       "                'plotly': ['https://cdn.plot.ly/plotly-latest.min']\n",
       "            }\n",
       "        });\n",
       "        require(['plotly'], function(Plotly) {\n",
       "            window._Plotly = Plotly;\n",
       "        });\n",
       "        }\n",
       "        </script>\n",
       "        "
      ]
     },
     "metadata": {},
     "output_type": "display_data"
    }
   ],
   "source": [
    "import numpy as np \n",
    "import pandas as pd\n",
    "import matplotlib.pyplot as plt\n",
    "import seaborn as sns\n",
    "from keras.preprocessing.text import Tokenizer\n",
    "from keras.preprocessing.sequence import pad_sequences\n",
    "from keras.models import Sequential\n",
    "from keras.layers import Dense, Embedding, LSTM, SpatialDropout1D\n",
    "from sklearn.model_selection import train_test_split\n",
    "from keras.utils.np_utils import to_categorical\n",
    "from keras.callbacks import EarlyStopping\n",
    "from keras.layers import Dropout\n",
    "import re\n",
    "from nltk.corpus import stopwords\n",
    "from nltk import word_tokenize\n",
    "STOPWORDS = set(stopwords.words('english'))\n",
    "from bs4 import BeautifulSoup\n",
    "import plotly.graph_objs as go\n",
    "import plotly.plotly as py\n",
    "import cufflinks\n",
    "from pickle import dump\n",
    "from IPython.core.interactiveshell import InteractiveShell\n",
    "import plotly.figure_factory as ff\n",
    "InteractiveShell.ast_node_interactivity = 'all'\n",
    "from plotly.offline import iplot\n",
    "cufflinks.go_offline()\n",
    "cufflinks.set_config_file(world_readable=True, theme='pearl')"
   ]
  },
  {
   "cell_type": "markdown",
   "metadata": {},
   "source": [
    "## Exploratory Data Analysis"
   ]
  },
  {
   "cell_type": "code",
   "execution_count": 390,
   "metadata": {},
   "outputs": [],
   "source": [
    "# Read preprocessed csv from main notebook\n",
    "data = pd.read_csv('message_length.csv', index_col=0)"
   ]
  },
  {
   "cell_type": "code",
   "execution_count": 500,
   "metadata": {},
   "outputs": [],
   "source": [
    "# Create a copy for modifications\n",
    "df = data.copy()"
   ]
  },
  {
   "cell_type": "code",
   "execution_count": 501,
   "metadata": {},
   "outputs": [],
   "source": [
    "# We will drop several columns that are not useful for this model\n",
    "df.drop(df.columns.difference(['message','label','Day_of_week', 'message_length']), 1, inplace=True)\n",
    "df.dropna(axis=0, how='any', inplace=True)\n",
    "df.reset_index(drop=True, inplace=True)"
   ]
  },
  {
   "cell_type": "markdown",
   "metadata": {},
   "source": [
    "Exploring our dataset:"
   ]
  },
  {
   "cell_type": "code",
   "execution_count": 502,
   "metadata": {},
   "outputs": [
    {
     "data": {
      "text/html": [
       "<div>\n",
       "<style scoped>\n",
       "    .dataframe tbody tr th:only-of-type {\n",
       "        vertical-align: middle;\n",
       "    }\n",
       "\n",
       "    .dataframe tbody tr th {\n",
       "        vertical-align: top;\n",
       "    }\n",
       "\n",
       "    .dataframe thead th {\n",
       "        text-align: right;\n",
       "    }\n",
       "</style>\n",
       "<table border=\"1\" class=\"dataframe\">\n",
       "  <thead>\n",
       "    <tr style=\"text-align: right;\">\n",
       "      <th></th>\n",
       "      <th>message</th>\n",
       "      <th>Day_of_week</th>\n",
       "      <th>message_length</th>\n",
       "      <th>label</th>\n",
       "    </tr>\n",
       "  </thead>\n",
       "  <tbody>\n",
       "    <tr>\n",
       "      <th>0</th>\n",
       "      <td>here is our forecast\\n\\n</td>\n",
       "      <td>Mon</td>\n",
       "      <td>23</td>\n",
       "      <td>1</td>\n",
       "    </tr>\n",
       "    <tr>\n",
       "      <th>1</th>\n",
       "      <td>traveling to have a business meeting takes the...</td>\n",
       "      <td>Fri</td>\n",
       "      <td>786</td>\n",
       "      <td>1</td>\n",
       "    </tr>\n",
       "    <tr>\n",
       "      <th>2</th>\n",
       "      <td>test successful.  way to go!!!</td>\n",
       "      <td>Wed</td>\n",
       "      <td>30</td>\n",
       "      <td>1</td>\n",
       "    </tr>\n",
       "    <tr>\n",
       "      <th>3</th>\n",
       "      <td>randy,\\n\\n can you send me a schedule of the s...</td>\n",
       "      <td>Mon</td>\n",
       "      <td>187</td>\n",
       "      <td>1</td>\n",
       "    </tr>\n",
       "    <tr>\n",
       "      <th>4</th>\n",
       "      <td>let's shoot for tuesday at 11:45.</td>\n",
       "      <td>Thu</td>\n",
       "      <td>35</td>\n",
       "      <td>1</td>\n",
       "    </tr>\n",
       "  </tbody>\n",
       "</table>\n",
       "</div>"
      ],
      "text/plain": [
       "                                             message Day_of_week  \\\n",
       "0                          here is our forecast\\n\\n          Mon   \n",
       "1  traveling to have a business meeting takes the...         Fri   \n",
       "2                     test successful.  way to go!!!         Wed   \n",
       "3  randy,\\n\\n can you send me a schedule of the s...         Mon   \n",
       "4                let's shoot for tuesday at 11:45.           Thu   \n",
       "\n",
       "   message_length  label  \n",
       "0              23      1  \n",
       "1             786      1  \n",
       "2              30      1  \n",
       "3             187      1  \n",
       "4              35      1  "
      ]
     },
     "execution_count": 502,
     "metadata": {},
     "output_type": "execute_result"
    }
   ],
   "source": [
    "df.head()"
   ]
  },
  {
   "cell_type": "code",
   "execution_count": 503,
   "metadata": {},
   "outputs": [
    {
     "name": "stdout",
     "output_type": "stream",
     "text": [
      "<class 'pandas.core.frame.DataFrame'>\n",
      "RangeIndex: 517401 entries, 0 to 517400\n",
      "Data columns (total 4 columns):\n",
      "message           517401 non-null object\n",
      "Day_of_week       517401 non-null object\n",
      "message_length    517401 non-null int64\n",
      "label             517401 non-null int64\n",
      "dtypes: int64(2), object(2)\n",
      "memory usage: 15.8+ MB\n"
     ]
    }
   ],
   "source": [
    "df.info()"
   ]
  },
  {
   "cell_type": "markdown",
   "metadata": {},
   "source": [
    "As we can observe, we have 517401 rows and 4 columns counting the label. Let us convert both the day of the week and the label to categorical columns:"
   ]
  },
  {
   "cell_type": "code",
   "execution_count": 504,
   "metadata": {},
   "outputs": [],
   "source": [
    "df[\"label\"] = df[\"label\"].astype('category')\n",
    "df[\"Day_of_week\"] = df[\"Day_of_week\"].astype('category')"
   ]
  },
  {
   "cell_type": "markdown",
   "metadata": {},
   "source": [
    "Let us perform some exploratory data analysis starting by visualizing our label distribution:"
   ]
  },
  {
   "cell_type": "code",
   "execution_count": 505,
   "metadata": {},
   "outputs": [
    {
     "data": {
      "application/vnd.plotly.v1+json": {
       "config": {
        "linkText": "Export to plot.ly",
        "plotlyServerURL": "https://plot.ly",
        "responsive": true,
        "showLink": true
       },
       "data": [
        {
         "marker": {
          "color": "rgba(255, 153, 51, 0.6)",
          "line": {
           "color": "rgba(255, 153, 51, 1.0)",
           "width": 1
          }
         },
         "name": "label",
         "orientation": "v",
         "text": "",
         "type": "bar",
         "uid": "6fce9fce-d20d-4ec9-977d-c149315c6f20",
         "x": [
          1,
          2,
          3,
          5,
          7,
          4,
          0,
          10,
          8,
          6,
          9
         ],
         "y": [
          420184,
          68076,
          11257,
          3584,
          3521,
          3248,
          2457,
          1928,
          1868,
          786,
          492
         ]
        }
       ],
       "layout": {
        "legend": {
         "bgcolor": "#F5F6F9",
         "font": {
          "color": "#4D5663"
         }
        },
        "paper_bgcolor": "#F5F6F9",
        "plot_bgcolor": "#F5F6F9",
        "title": {
         "font": {
          "color": "#4D5663"
         },
         "text": "Label Distribution"
        },
        "xaxis": {
         "gridcolor": "#E1E5ED",
         "showgrid": true,
         "tickfont": {
          "color": "#4D5663"
         },
         "title": {
          "font": {
           "color": "#4D5663"
          },
          "text": ""
         },
         "zerolinecolor": "#E1E5ED"
        },
        "yaxis": {
         "gridcolor": "#E1E5ED",
         "showgrid": true,
         "tickfont": {
          "color": "#4D5663"
         },
         "title": {
          "font": {
           "color": "#4D5663"
          },
          "text": "Value Counts"
         },
         "zerolinecolor": "#E1E5ED"
        }
       }
      },
      "text/html": [
       "<div>\n",
       "        \n",
       "        \n",
       "            <div id=\"eaa253d3-fcef-4bfc-a87e-55bf6850ba39\" class=\"plotly-graph-div\" style=\"height:525px; width:100%;\"></div>\n",
       "            <script type=\"text/javascript\">\n",
       "                require([\"plotly\"], function(Plotly) {\n",
       "                    window.PLOTLYENV=window.PLOTLYENV || {};\n",
       "                    window.PLOTLYENV.BASE_URL='https://plot.ly';\n",
       "                    \n",
       "                if (document.getElementById(\"eaa253d3-fcef-4bfc-a87e-55bf6850ba39\")) {\n",
       "                    Plotly.newPlot(\n",
       "                        'eaa253d3-fcef-4bfc-a87e-55bf6850ba39',\n",
       "                        [{\"marker\": {\"color\": \"rgba(255, 153, 51, 0.6)\", \"line\": {\"color\": \"rgba(255, 153, 51, 1.0)\", \"width\": 1}}, \"name\": \"label\", \"orientation\": \"v\", \"text\": \"\", \"type\": \"bar\", \"uid\": \"65f3a35e-73b7-4a4c-80f3-ee1fa7e2db8e\", \"x\": [1, 2, 3, 5, 7, 4, 0, 10, 8, 6, 9], \"y\": [420184, 68076, 11257, 3584, 3521, 3248, 2457, 1928, 1868, 786, 492]}],\n",
       "                        {\"legend\": {\"bgcolor\": \"#F5F6F9\", \"font\": {\"color\": \"#4D5663\"}}, \"paper_bgcolor\": \"#F5F6F9\", \"plot_bgcolor\": \"#F5F6F9\", \"title\": {\"font\": {\"color\": \"#4D5663\"}, \"text\": \"Label Distribution\"}, \"xaxis\": {\"gridcolor\": \"#E1E5ED\", \"showgrid\": true, \"tickfont\": {\"color\": \"#4D5663\"}, \"title\": {\"font\": {\"color\": \"#4D5663\"}, \"text\": \"\"}, \"zerolinecolor\": \"#E1E5ED\"}, \"yaxis\": {\"gridcolor\": \"#E1E5ED\", \"showgrid\": true, \"tickfont\": {\"color\": \"#4D5663\"}, \"title\": {\"font\": {\"color\": \"#4D5663\"}, \"text\": \"Value Counts\"}, \"zerolinecolor\": \"#E1E5ED\"}},\n",
       "                        {\"showLink\": true, \"linkText\": \"Export to plot.ly\", \"plotlyServerURL\": \"https://plot.ly\", \"responsive\": true}\n",
       "                    ).then(function(){\n",
       "                            \n",
       "var gd = document.getElementById('eaa253d3-fcef-4bfc-a87e-55bf6850ba39');\n",
       "var x = new MutationObserver(function (mutations, observer) {{\n",
       "        var display = window.getComputedStyle(gd).display;\n",
       "        if (!display || display === 'none') {{\n",
       "            console.log([gd, 'removed!']);\n",
       "            Plotly.purge(gd);\n",
       "            observer.disconnect();\n",
       "        }}\n",
       "}});\n",
       "\n",
       "// Listen for the removal of the full notebook cells\n",
       "var notebookContainer = gd.closest('#notebook-container');\n",
       "if (notebookContainer) {{\n",
       "    x.observe(notebookContainer, {childList: true});\n",
       "}}\n",
       "\n",
       "// Listen for the clearing of the current output cell\n",
       "var outputEl = gd.closest('.output');\n",
       "if (outputEl) {{\n",
       "    x.observe(outputEl, {childList: true});\n",
       "}}\n",
       "\n",
       "                        })\n",
       "                };\n",
       "                });\n",
       "            </script>\n",
       "        </div>"
      ]
     },
     "metadata": {},
     "output_type": "display_data"
    }
   ],
   "source": [
    "df['label'].value_counts().sort_values(ascending=False).iplot(kind='bar', yTitle='Value Counts',\n",
    "                                                                title='Label Distribution')"
   ]
  },
  {
   "cell_type": "markdown",
   "metadata": {},
   "source": [
    "We can see that the dataset is heavily bias towards the labels 1 and 2. The label 1 belongs to \"sent mail\" which is the default folder were emails get send to. This is actually not a label so we can safely drop the rows with label = 1. Label = 2 belongs to emails that we were not able to classify in any other group in the clustering step disccused in the main notebook. We can also safely discard rows where label = 2."
   ]
  },
  {
   "cell_type": "code",
   "execution_count": 506,
   "metadata": {},
   "outputs": [],
   "source": [
    "# Dropping rows with label 1 and 2\n",
    "df = df.drop(df.query('label == 1').sample(frac=1).index)\n",
    "df = df.drop(df.query('label == 2').sample(frac=1).index)"
   ]
  },
  {
   "cell_type": "markdown",
   "metadata": {},
   "source": [
    "We can now visualize the new label distribution:"
   ]
  },
  {
   "cell_type": "code",
   "execution_count": 507,
   "metadata": {},
   "outputs": [
    {
     "data": {
      "application/vnd.plotly.v1+json": {
       "config": {
        "linkText": "Export to plot.ly",
        "plotlyServerURL": "https://plot.ly",
        "responsive": true,
        "showLink": true
       },
       "data": [
        {
         "marker": {
          "color": "rgba(255, 153, 51, 0.6)",
          "line": {
           "color": "rgba(255, 153, 51, 1.0)",
           "width": 1
          }
         },
         "name": "label",
         "orientation": "v",
         "text": "",
         "type": "bar",
         "uid": "d662f239-0cd7-4820-8575-ab3f229f4695",
         "x": [
          3,
          5,
          7,
          4,
          0,
          10,
          8,
          6,
          9,
          1,
          2
         ],
         "y": [
          11257,
          3584,
          3521,
          3248,
          2457,
          1928,
          1868,
          786,
          492,
          0,
          0
         ]
        }
       ],
       "layout": {
        "legend": {
         "bgcolor": "#F5F6F9",
         "font": {
          "color": "#4D5663"
         }
        },
        "paper_bgcolor": "#F5F6F9",
        "plot_bgcolor": "#F5F6F9",
        "title": {
         "font": {
          "color": "#4D5663"
         },
         "text": "Label Distribution"
        },
        "xaxis": {
         "gridcolor": "#E1E5ED",
         "showgrid": true,
         "tickfont": {
          "color": "#4D5663"
         },
         "title": {
          "font": {
           "color": "#4D5663"
          },
          "text": ""
         },
         "zerolinecolor": "#E1E5ED"
        },
        "yaxis": {
         "gridcolor": "#E1E5ED",
         "showgrid": true,
         "tickfont": {
          "color": "#4D5663"
         },
         "title": {
          "font": {
           "color": "#4D5663"
          },
          "text": "Value Counts"
         },
         "zerolinecolor": "#E1E5ED"
        }
       }
      },
      "text/html": [
       "<div>\n",
       "        \n",
       "        \n",
       "            <div id=\"34df1df2-1852-4bcd-aee2-2616cbf212a5\" class=\"plotly-graph-div\" style=\"height:525px; width:100%;\"></div>\n",
       "            <script type=\"text/javascript\">\n",
       "                require([\"plotly\"], function(Plotly) {\n",
       "                    window.PLOTLYENV=window.PLOTLYENV || {};\n",
       "                    window.PLOTLYENV.BASE_URL='https://plot.ly';\n",
       "                    \n",
       "                if (document.getElementById(\"34df1df2-1852-4bcd-aee2-2616cbf212a5\")) {\n",
       "                    Plotly.newPlot(\n",
       "                        '34df1df2-1852-4bcd-aee2-2616cbf212a5',\n",
       "                        [{\"marker\": {\"color\": \"rgba(255, 153, 51, 0.6)\", \"line\": {\"color\": \"rgba(255, 153, 51, 1.0)\", \"width\": 1}}, \"name\": \"label\", \"orientation\": \"v\", \"text\": \"\", \"type\": \"bar\", \"uid\": \"49c8743c-2ada-44e7-aa05-c0f43651d9dd\", \"x\": [3, 5, 7, 4, 0, 10, 8, 6, 9, 1, 2], \"y\": [11257, 3584, 3521, 3248, 2457, 1928, 1868, 786, 492, 0, 0]}],\n",
       "                        {\"legend\": {\"bgcolor\": \"#F5F6F9\", \"font\": {\"color\": \"#4D5663\"}}, \"paper_bgcolor\": \"#F5F6F9\", \"plot_bgcolor\": \"#F5F6F9\", \"title\": {\"font\": {\"color\": \"#4D5663\"}, \"text\": \"Label Distribution\"}, \"xaxis\": {\"gridcolor\": \"#E1E5ED\", \"showgrid\": true, \"tickfont\": {\"color\": \"#4D5663\"}, \"title\": {\"font\": {\"color\": \"#4D5663\"}, \"text\": \"\"}, \"zerolinecolor\": \"#E1E5ED\"}, \"yaxis\": {\"gridcolor\": \"#E1E5ED\", \"showgrid\": true, \"tickfont\": {\"color\": \"#4D5663\"}, \"title\": {\"font\": {\"color\": \"#4D5663\"}, \"text\": \"Value Counts\"}, \"zerolinecolor\": \"#E1E5ED\"}},\n",
       "                        {\"showLink\": true, \"linkText\": \"Export to plot.ly\", \"plotlyServerURL\": \"https://plot.ly\", \"responsive\": true}\n",
       "                    ).then(function(){\n",
       "                            \n",
       "var gd = document.getElementById('34df1df2-1852-4bcd-aee2-2616cbf212a5');\n",
       "var x = new MutationObserver(function (mutations, observer) {{\n",
       "        var display = window.getComputedStyle(gd).display;\n",
       "        if (!display || display === 'none') {{\n",
       "            console.log([gd, 'removed!']);\n",
       "            Plotly.purge(gd);\n",
       "            observer.disconnect();\n",
       "        }}\n",
       "}});\n",
       "\n",
       "// Listen for the removal of the full notebook cells\n",
       "var notebookContainer = gd.closest('#notebook-container');\n",
       "if (notebookContainer) {{\n",
       "    x.observe(notebookContainer, {childList: true});\n",
       "}}\n",
       "\n",
       "// Listen for the clearing of the current output cell\n",
       "var outputEl = gd.closest('.output');\n",
       "if (outputEl) {{\n",
       "    x.observe(outputEl, {childList: true});\n",
       "}}\n",
       "\n",
       "                        })\n",
       "                };\n",
       "                });\n",
       "            </script>\n",
       "        </div>"
      ]
     },
     "metadata": {},
     "output_type": "display_data"
    }
   ],
   "source": [
    "df['label'].value_counts().sort_values(ascending=False).iplot(kind='bar', yTitle='Value Counts', \n",
    "                                                                title='Label Distribution')"
   ]
  },
  {
   "cell_type": "markdown",
   "metadata": {},
   "source": [
    "There are a lot more data points with label = 3 which belongs to legal/corporate emails. Since this dataset belongs to ENRON corporation, it is to be expected that the majority of the emails belong to this class. Let us explore the contents of a few emails:"
   ]
  },
  {
   "cell_type": "code",
   "execution_count": 508,
   "metadata": {},
   "outputs": [],
   "source": [
    "df = df.reset_index()"
   ]
  },
  {
   "cell_type": "code",
   "execution_count": 509,
   "metadata": {},
   "outputs": [],
   "source": [
    "# Function to print the message and label for a datapoint\n",
    "def print_message(index):\n",
    "    example = df[df.index == index][['message', 'label']].values[0]\n",
    "    if len(example) > 0:\n",
    "        print(example[0])\n",
    "        print('Label:', example[1])"
   ]
  },
  {
   "cell_type": "code",
   "execution_count": 510,
   "metadata": {},
   "outputs": [
    {
     "name": "stdout",
     "output_type": "stream",
     "text": [
      "jennifer,\n",
      "in regard to the costs for the gam conference, karen told me the $ 6,695.97 \n",
      "figure was inclusive of all the items for the conference.  however, after \n",
      "speaking with shweta, i found out this is not the case.  the cds are not \n",
      "included in this figure.  \n",
      "\n",
      "the cd cost will be $2,011.50 + the cost of postage/handling (which is \n",
      "currently being tabulated).\n",
      "\n",
      "colleen\n",
      "\n",
      "----- forwarded by colleen koenig/na/enron on 12/04/2000 10:56 am -----\n",
      "\n",
      "\tshweta sawhney\n",
      "\t12/04/2000 10:54 am\n",
      "\t\t \n",
      "\t\t to: colleen koenig/na/enron@enron\n",
      "\t\t cc: \n",
      "\t\t subject: quotes for the cd's.\n",
      "\n",
      "hi,\n",
      "\n",
      "this is the original quote for this project and it did not include the \n",
      "postage. as soon as i have the details from the vendor, i'll forward those to \n",
      "you.\n",
      "please call me if you have any questions.\n",
      "\n",
      "thanks,\n",
      "shweta.\n",
      "----- forwarded by shweta sawhney/na/enron on 12/04/2000 10:52 am -----\n",
      "\n",
      "\tshweta sawhney\n",
      "\t10/30/2000 05:53 pm\n",
      "\t\t \n",
      "\t\t to: karina prizont/na/enron@enron\n",
      "\t\t cc: karen hunter/enron_development@enron_development\n",
      "\t\t subject: quotes for the cd's.\n",
      "\n",
      "hi,\n",
      "\n",
      "we have recieved the quotes from the vendors and the details are:\n",
      "\n",
      "1 . 150 cd's with black printing and the plastc jewel cases - $ 886.50\n",
      "2 . the distribution cost (minimum for 500 cd's)   - $ 355.00\n",
      "     this will include the padded envelope, the address labels, the packing \n",
      "and deliver to the post office, but the postage is not included. \n",
      "3 . the time for coordination, artwork and the inserts output and trimming - \n",
      "$ 770.00\n",
      "\n",
      "so the total amount is approx. $2,011.50. the total time would be about 8 \n",
      "days. these are approximate figures only.\n",
      "\n",
      "if you have any questions you can call karen hunter at x56228. or i can be \n",
      "reached at x55706.\n",
      "\n",
      "thanks,\n",
      "shweta.\n",
      "\n",
      "Label: 3\n"
     ]
    }
   ],
   "source": [
    "print_message(10)"
   ]
  },
  {
   "cell_type": "code",
   "execution_count": 511,
   "metadata": {},
   "outputs": [
    {
     "name": "stdout",
     "output_type": "stream",
     "text": [
      "----- forwarded by jeff dasovich/na/enron on 01/26/2001 11:21 am -----\n",
      "\n",
      "\t\"julee malinowski-ball\" <jmball@ns.net>\n",
      "\t01/26/2001 11:15 am\n",
      "\tplease respond to \"julee malinowski-ball\"\n",
      "\t\t \n",
      "\t\t to: \"william hall\" <wfhall2@duke-energy.com>, \"tony wetzel\" \n",
      "<twetzel@thermoecotek.com>, \"sue mara\" <smara@enron.com>, \"steven kelley\" \n",
      "<steven@iepa.com>, \"steve ponder\" <steve_ponder@fpl.com>, \"stephanie newell\" \n",
      "<stephanie-newell@reliantenergy.com>, \"roger pelote\" \n",
      "<roger.pelote@williams.com>, \"robert lamkin\" <rllamkin@seiworldwide.com>, \n",
      "\"richard hyde\" <rwhyde@duke-energy.com>, \"paula soos\" \n",
      "<paula_soos@ogden-energy.com>, \"nam nguyen\" <nam.nguyen@powersrc.com>, \"marty \n",
      "mcfadden\" <marty_mcfadden@ogden-energy.com>, \"lynn lednicky\" \n",
      "<lale@dynegy.com>, \"kent palmerton\" <kent.palmerton@williams.com>, \"ken \n",
      "hoffman\" <khoffman@caithnessenergy.com>, \"kassandra gough\" \n",
      "<kgough@calpine.com>, \"jonathan weisgall\" <jweisgall@aol.com>, \"john stout\" \n",
      "<john_h_stout@reliantenergy.com>, \"joe ronan\" <joer@calpine.com>, \"joe greco\" \n",
      "<joe.greco@uaecorp.com>, \"jim willey\" <elliottsa@earthlink.net>, \"jeff \n",
      "dasovich\" <jeff.dasovich@enron.com>, \"jack pigott\" <jackp@calpine.com>, \"hap \n",
      "boyd\" <rboyd@enron.com>, \"greg blue\" <gtbl@dynegy.com>, \"frank derosa\" \n",
      "<fderosa@sanfrancisco.usgen.com>, \"ed tomeo\" <ed.tomeo@uaecorp.com>, \"duane \n",
      "nelson\" <dnelsen@msn.com>, \"david parquet\" <dparque@ect.enron.com>, \"curtis \n",
      "kebler\" <curtis_l_kebler@reliantenergy.com>, \"carolyn baker\" \n",
      "<cabaker@duke-energy.com>, \"bob escalante\" <rescalante@riobravo-gm.com>, \"bob \n",
      "ellery\" <bellery@spi-ind.com>, \"bill woods\" <billw@calpine.com>, \"bill \n",
      "carlson\" <william_carlson@wastemanagement.com>, \"craig chancellor\" \n",
      "<craigc@calpine.com>, \"eric eisenman\" <eric.eisenman@gen.pge.com>, \"kate \n",
      "castillo\" <ccastillo@riobravo-gm.com>\n",
      "\t\t cc: \"jan smutny jones\" <smutny@iepa.com>, \"steven kelley\" <steven@iepa.com>, \n",
      "\"katie kaplan\" <kaplan@iepa.com>\n",
      "\t\t subject: ab 18x\n",
      "\n",
      "\n",
      "attached is the newly introduced ab 18x (hertzberg) and the committee\n",
      "analysis.\n",
      "\n",
      "ab 1x (keeley) as amended yesterday will be available later this morning\n",
      "when the senate appropriations committee meets at 10 am.\n",
      "\n",
      "\n",
      "julee malinowski-ball\n",
      "senior associate\n",
      "edson + modisette\n",
      "916-552-7070\n",
      "fax-552-7075\n",
      "jmball@ns.net\n",
      "\n",
      "\n",
      "\n",
      " - abx1_18_bill_20010125_introduced.pdf\n",
      " - analysis.ab18x.doc\n",
      "Label: 5\n"
     ]
    }
   ],
   "source": [
    "print_message(1000)"
   ]
  },
  {
   "cell_type": "markdown",
   "metadata": {},
   "source": [
    "### Preprocessing: Cleaning Text "
   ]
  },
  {
   "cell_type": "markdown",
   "metadata": {},
   "source": [
    "Let us do some text cleaning since NLP models work better in clean text especially withouth unnecessary spaces."
   ]
  },
  {
   "cell_type": "code",
   "execution_count": 512,
   "metadata": {},
   "outputs": [],
   "source": [
    "df = df.reset_index(drop=True)\n",
    "regex = r\"\\S*@\\S*\\s?\"\n",
    "subst = \"\"\n",
    "REPLACE_BY_SPACE_RE = re.compile('[/(){}\\[\\]\\|@,;]')\n",
    "\n",
    "# Fucntion for joining parragraphs and words and replacing specific characters by a space:\n",
    "def clean_text(text):\n",
    "    text = text.lower() # lowercase text\n",
    "    text = REPLACE_BY_SPACE_RE.sub(' ', text)\n",
    "    text = re.sub(regex, subst, text, 0)\n",
    "    text = ' '.join(word for word in text.split())\n",
    "    return text\n",
    "df['message'] = df['message'].apply(clean_text)"
   ]
  },
  {
   "cell_type": "markdown",
   "metadata": {},
   "source": [
    "Know let us print the same two messages that we're previously showed to see the changes:"
   ]
  },
  {
   "cell_type": "code",
   "execution_count": 513,
   "metadata": {},
   "outputs": [
    {
     "name": "stdout",
     "output_type": "stream",
     "text": [
      "jennifer in regard to the costs for the gam conference karen told me the $ 6 695.97 figure was inclusive of all the items for the conference. however after speaking with shweta i found out this is not the case. the cds are not included in this figure. the cd cost will be $2 011.50 + the cost of postage handling which is currently being tabulated . colleen ----- forwarded by colleen koenig na enron on 12 04 2000 10:56 am ----- shweta sawhney 12 04 2000 10:54 am to: colleen koenig na enron enron cc: subject: quotes for the cd's. hi this is the original quote for this project and it did not include the postage. as soon as i have the details from the vendor i'll forward those to you. please call me if you have any questions. thanks shweta. ----- forwarded by shweta sawhney na enron on 12 04 2000 10:52 am ----- shweta sawhney 10 30 2000 05:53 pm to: karina prizont na enron enron cc: karen hunter enron_development enron_development subject: quotes for the cd's. hi we have recieved the quotes from the vendors and the details are: 1 . 150 cd's with black printing and the plastc jewel cases - $ 886.50 2 . the distribution cost minimum for 500 cd's - $ 355.00 this will include the padded envelope the address labels the packing and deliver to the post office but the postage is not included. 3 . the time for coordination artwork and the inserts output and trimming - $ 770.00 so the total amount is approx. $2 011.50. the total time would be about 8 days. these are approximate figures only. if you have any questions you can call karen hunter at x56228. or i can be reached at x55706. thanks shweta.\n",
      "Product: 3\n"
     ]
    }
   ],
   "source": [
    "print_message(10)"
   ]
  },
  {
   "cell_type": "code",
   "execution_count": 514,
   "metadata": {},
   "outputs": [
    {
     "name": "stdout",
     "output_type": "stream",
     "text": [
      "----- forwarded by jeff dasovich na enron on 01 26 2001 11:21 am ----- \"julee malinowski-ball\" <jmball ns.net> 01 26 2001 11:15 am please respond to \"julee malinowski-ball\" to: \"william hall\" <wfhall2 duke-energy.com> \"tony wetzel\" <twetzel thermoecotek.com> \"sue mara\" <smara enron.com> \"steven kelley\" <steven iepa.com> \"steve ponder\" <steve_ponder fpl.com> \"stephanie newell\" <stephanie-newell reliantenergy.com> \"roger pelote\" <roger.pelote williams.com> \"robert lamkin\" <rllamkin seiworldwide.com> \"richard hyde\" <rwhyde duke-energy.com> \"paula soos\" <paula_soos ogden-energy.com> \"nam nguyen\" <nam.nguyen powersrc.com> \"marty mcfadden\" <marty_mcfadden ogden-energy.com> \"lynn lednicky\" <lale dynegy.com> \"kent palmerton\" <kent.palmerton williams.com> \"ken hoffman\" <khoffman caithnessenergy.com> \"kassandra gough\" <kgough calpine.com> \"jonathan weisgall\" <jweisgall aol.com> \"john stout\" <john_h_stout reliantenergy.com> \"joe ronan\" <joer calpine.com> \"joe greco\" <joe.greco uaecorp.com> \"jim willey\" <elliottsa earthlink.net> \"jeff dasovich\" <jeff.dasovich enron.com> \"jack pigott\" <jackp calpine.com> \"hap boyd\" <rboyd enron.com> \"greg blue\" <gtbl dynegy.com> \"frank derosa\" <fderosa sanfrancisco.usgen.com> \"ed tomeo\" <ed.tomeo uaecorp.com> \"duane nelson\" <dnelsen msn.com> \"david parquet\" <dparque ect.enron.com> \"curtis kebler\" <curtis_l_kebler reliantenergy.com> \"carolyn baker\" <cabaker duke-energy.com> \"bob escalante\" <rescalante riobravo-gm.com> \"bob ellery\" <bellery spi-ind.com> \"bill woods\" <billw calpine.com> \"bill carlson\" <william_carlson wastemanagement.com> \"craig chancellor\" <craigc calpine.com> \"eric eisenman\" <eric.eisenman gen.pge.com> \"kate castillo\" <ccastillo riobravo-gm.com> cc: \"jan smutny jones\" <smutny iepa.com> \"steven kelley\" <steven iepa.com> \"katie kaplan\" <kaplan iepa.com> subject: ab 18x attached is the newly introduced ab 18x hertzberg and the committee analysis. ab 1x keeley as amended yesterday will be available later this morning when the senate appropriations committee meets at 10 am. julee malinowski-ball senior associate edson + modisette 916-552-7070 fax-552-7075 jmball ns.net - abx1_18_bill_20010125_introduced.pdf - analysis.ab18x.doc\n",
      "Product: 5\n"
     ]
    }
   ],
   "source": [
    "print_message(1000)"
   ]
  },
  {
   "cell_type": "markdown",
   "metadata": {},
   "source": [
    "We can see that our text is cleaner and more concise. Let us do the embedding now."
   ]
  },
  {
   "cell_type": "markdown",
   "metadata": {},
   "source": [
    "## Building the Embedding"
   ]
  },
  {
   "cell_type": "markdown",
   "metadata": {},
   "source": [
    "We will beging by fixing the number of words to take to generate the embedding. We will fix the input for prediction to 250 characters. We could do longer but for the purposese of this class we will stick with 250. The embedding will be taken arbitrarly to 100 dimensions:"
   ]
  },
  {
   "cell_type": "code",
   "execution_count": 515,
   "metadata": {},
   "outputs": [],
   "source": [
    "# Maximum number of words based on highest frequency:\n",
    "max_words = 1000000 \n",
    "# Maximum number of words to be accepted when predicting. \n",
    "max_length = 250\n",
    "# Setting the dimension of the embedding.\n",
    "embedding_dim = 100"
   ]
  },
  {
   "cell_type": "markdown",
   "metadata": {},
   "source": [
    "Let us tokenize the message:"
   ]
  },
  {
   "cell_type": "code",
   "execution_count": 516,
   "metadata": {},
   "outputs": [],
   "source": [
    "tokenizer = Tokenizer(num_words=max_words, filters='!\"#$%&()*+,-./:;<=>?@[\\]^_`{|}~', lower=True)\n",
    "tokenizer.fit_on_texts(df['message'].values)\n",
    "word_index = tokenizer.word_index"
   ]
  },
  {
   "cell_type": "markdown",
   "metadata": {},
   "source": [
    "We will save the tokenizer with the pickle package since it will be a requirement when using the model for future predictions:"
   ]
  },
  {
   "cell_type": "code",
   "execution_count": 517,
   "metadata": {},
   "outputs": [],
   "source": [
    "with open('tokenizer.pickle', 'wb') as handle:\n",
    "    pickle.dump(tokenizer, handle, protocol=pickle.HIGHEST_PROTOCOL)"
   ]
  },
  {
   "cell_type": "markdown",
   "metadata": {},
   "source": [
    "Let us use the tokenizer to turn the text into sequences:"
   ]
  },
  {
   "cell_type": "code",
   "execution_count": 518,
   "metadata": {},
   "outputs": [],
   "source": [
    "X = tokenizer.texts_to_sequences(df['message'].values)\n",
    "X = pad_sequences(X, maxlen=max_length)"
   ]
  },
  {
   "cell_type": "markdown",
   "metadata": {},
   "source": [
    "We can see that the shape of our sequence is the one we expected in the word embedding:"
   ]
  },
  {
   "cell_type": "code",
   "execution_count": 519,
   "metadata": {},
   "outputs": [
    {
     "data": {
      "text/plain": [
       "(29141, 250)"
      ]
     },
     "execution_count": 519,
     "metadata": {},
     "output_type": "execute_result"
    }
   ],
   "source": [
    "X.shape"
   ]
  },
  {
   "cell_type": "markdown",
   "metadata": {},
   "source": [
    "Since we have 11 possible categories (labels) we need to one hot encode the label column. This means our problem is not a binary classification problem, but a multi-class text classification problem."
   ]
  },
  {
   "cell_type": "code",
   "execution_count": 520,
   "metadata": {},
   "outputs": [],
   "source": [
    "Y = pd.get_dummies(df['label']).values"
   ]
  },
  {
   "cell_type": "code",
   "execution_count": 521,
   "metadata": {},
   "outputs": [
    {
     "data": {
      "text/plain": [
       "numpy.ndarray"
      ]
     },
     "execution_count": 521,
     "metadata": {},
     "output_type": "execute_result"
    }
   ],
   "source": [
    "type(X)"
   ]
  },
  {
   "cell_type": "markdown",
   "metadata": {},
   "source": [
    "Let us convert our message embedding into a dataframe so we can manipulate it in concert with the other dataframes:"
   ]
  },
  {
   "cell_type": "code",
   "execution_count": 522,
   "metadata": {},
   "outputs": [],
   "source": [
    "X_vir = X.copy()\n",
    "Y_vir = Y.copy()"
   ]
  },
  {
   "cell_type": "markdown",
   "metadata": {},
   "source": [
    "Let us copy X and Y for later use since they will be modified for testing:"
   ]
  },
  {
   "cell_type": "code",
   "execution_count": 523,
   "metadata": {},
   "outputs": [],
   "source": [
    "#Turns X into a dataframe\n",
    "array = pd.DataFrame(data=X)"
   ]
  },
  {
   "cell_type": "code",
   "execution_count": 524,
   "metadata": {},
   "outputs": [
    {
     "data": {
      "text/html": [
       "<div>\n",
       "<style scoped>\n",
       "    .dataframe tbody tr th:only-of-type {\n",
       "        vertical-align: middle;\n",
       "    }\n",
       "\n",
       "    .dataframe tbody tr th {\n",
       "        vertical-align: top;\n",
       "    }\n",
       "\n",
       "    .dataframe thead th {\n",
       "        text-align: right;\n",
       "    }\n",
       "</style>\n",
       "<table border=\"1\" class=\"dataframe\">\n",
       "  <thead>\n",
       "    <tr style=\"text-align: right;\">\n",
       "      <th></th>\n",
       "      <th>0</th>\n",
       "      <th>1</th>\n",
       "      <th>2</th>\n",
       "      <th>3</th>\n",
       "      <th>4</th>\n",
       "      <th>5</th>\n",
       "      <th>6</th>\n",
       "      <th>7</th>\n",
       "      <th>8</th>\n",
       "      <th>9</th>\n",
       "      <th>...</th>\n",
       "      <th>240</th>\n",
       "      <th>241</th>\n",
       "      <th>242</th>\n",
       "      <th>243</th>\n",
       "      <th>244</th>\n",
       "      <th>245</th>\n",
       "      <th>246</th>\n",
       "      <th>247</th>\n",
       "      <th>248</th>\n",
       "      <th>249</th>\n",
       "    </tr>\n",
       "  </thead>\n",
       "  <tbody>\n",
       "    <tr>\n",
       "      <th>0</th>\n",
       "      <td>0</td>\n",
       "      <td>0</td>\n",
       "      <td>0</td>\n",
       "      <td>0</td>\n",
       "      <td>0</td>\n",
       "      <td>0</td>\n",
       "      <td>0</td>\n",
       "      <td>0</td>\n",
       "      <td>0</td>\n",
       "      <td>0</td>\n",
       "      <td>...</td>\n",
       "      <td>31</td>\n",
       "      <td>14</td>\n",
       "      <td>59</td>\n",
       "      <td>225</td>\n",
       "      <td>77</td>\n",
       "      <td>1124</td>\n",
       "      <td>76015</td>\n",
       "      <td>5</td>\n",
       "      <td>13</td>\n",
       "      <td>5</td>\n",
       "    </tr>\n",
       "    <tr>\n",
       "      <th>1</th>\n",
       "      <td>0</td>\n",
       "      <td>0</td>\n",
       "      <td>0</td>\n",
       "      <td>0</td>\n",
       "      <td>0</td>\n",
       "      <td>0</td>\n",
       "      <td>0</td>\n",
       "      <td>0</td>\n",
       "      <td>0</td>\n",
       "      <td>0</td>\n",
       "      <td>...</td>\n",
       "      <td>615</td>\n",
       "      <td>758</td>\n",
       "      <td>76023</td>\n",
       "      <td>56189</td>\n",
       "      <td>17</td>\n",
       "      <td>29</td>\n",
       "      <td>132</td>\n",
       "      <td>56189</td>\n",
       "      <td>17</td>\n",
       "      <td>76024</td>\n",
       "    </tr>\n",
       "    <tr>\n",
       "      <th>2</th>\n",
       "      <td>0</td>\n",
       "      <td>0</td>\n",
       "      <td>0</td>\n",
       "      <td>0</td>\n",
       "      <td>0</td>\n",
       "      <td>0</td>\n",
       "      <td>0</td>\n",
       "      <td>0</td>\n",
       "      <td>0</td>\n",
       "      <td>0</td>\n",
       "      <td>...</td>\n",
       "      <td>6385</td>\n",
       "      <td>7909</td>\n",
       "      <td>349</td>\n",
       "      <td>23</td>\n",
       "      <td>265</td>\n",
       "      <td>1825</td>\n",
       "      <td>5</td>\n",
       "      <td>374</td>\n",
       "      <td>1365</td>\n",
       "      <td>6669</td>\n",
       "    </tr>\n",
       "    <tr>\n",
       "      <th>3</th>\n",
       "      <td>0</td>\n",
       "      <td>0</td>\n",
       "      <td>0</td>\n",
       "      <td>0</td>\n",
       "      <td>0</td>\n",
       "      <td>0</td>\n",
       "      <td>0</td>\n",
       "      <td>0</td>\n",
       "      <td>0</td>\n",
       "      <td>0</td>\n",
       "      <td>...</td>\n",
       "      <td>17</td>\n",
       "      <td>2135</td>\n",
       "      <td>8047</td>\n",
       "      <td>13689</td>\n",
       "      <td>26431</td>\n",
       "      <td>98</td>\n",
       "      <td>132</td>\n",
       "      <td>32619</td>\n",
       "      <td>17</td>\n",
       "      <td>26431</td>\n",
       "    </tr>\n",
       "    <tr>\n",
       "      <th>4</th>\n",
       "      <td>366</td>\n",
       "      <td>137</td>\n",
       "      <td>1915</td>\n",
       "      <td>47</td>\n",
       "      <td>10180</td>\n",
       "      <td>1061</td>\n",
       "      <td>8563</td>\n",
       "      <td>1816</td>\n",
       "      <td>100</td>\n",
       "      <td>21</td>\n",
       "      <td>...</td>\n",
       "      <td>5</td>\n",
       "      <td>708</td>\n",
       "      <td>3672</td>\n",
       "      <td>560</td>\n",
       "      <td>16</td>\n",
       "      <td>2485</td>\n",
       "      <td>14</td>\n",
       "      <td>86</td>\n",
       "      <td>1957</td>\n",
       "      <td>76038</td>\n",
       "    </tr>\n",
       "  </tbody>\n",
       "</table>\n",
       "<p>5 rows × 250 columns</p>\n",
       "</div>"
      ],
      "text/plain": [
       "   0    1     2    3      4     5     6     7    8    9    ...   240   241  \\\n",
       "0    0    0     0    0      0     0     0     0    0    0  ...    31    14   \n",
       "1    0    0     0    0      0     0     0     0    0    0  ...   615   758   \n",
       "2    0    0     0    0      0     0     0     0    0    0  ...  6385  7909   \n",
       "3    0    0     0    0      0     0     0     0    0    0  ...    17  2135   \n",
       "4  366  137  1915   47  10180  1061  8563  1816  100   21  ...     5   708   \n",
       "\n",
       "     242    243    244   245    246    247   248    249  \n",
       "0     59    225     77  1124  76015      5    13      5  \n",
       "1  76023  56189     17    29    132  56189    17  76024  \n",
       "2    349     23    265  1825      5    374  1365   6669  \n",
       "3   8047  13689  26431    98    132  32619    17  26431  \n",
       "4   3672    560     16  2485     14     86  1957  76038  \n",
       "\n",
       "[5 rows x 250 columns]"
      ]
     },
     "execution_count": 524,
     "metadata": {},
     "output_type": "execute_result"
    }
   ],
   "source": [
    "array.head()"
   ]
  },
  {
   "cell_type": "code",
   "execution_count": 525,
   "metadata": {},
   "outputs": [],
   "source": [
    "#Concatenating the dataframe with the 250 vector representation dataframe\n",
    "result = pd.concat([df, array], axis=1)"
   ]
  },
  {
   "cell_type": "code",
   "execution_count": 526,
   "metadata": {},
   "outputs": [],
   "source": [
    "result = result.drop(labels=['index','message'], axis=1)"
   ]
  },
  {
   "cell_type": "code",
   "execution_count": 527,
   "metadata": {},
   "outputs": [],
   "source": [
    "result[\"Day_of_week\"] = result[\"Day_of_week\"].astype('category')"
   ]
  },
  {
   "cell_type": "code",
   "execution_count": 528,
   "metadata": {},
   "outputs": [
    {
     "data": {
      "text/html": [
       "<div>\n",
       "<style scoped>\n",
       "    .dataframe tbody tr th:only-of-type {\n",
       "        vertical-align: middle;\n",
       "    }\n",
       "\n",
       "    .dataframe tbody tr th {\n",
       "        vertical-align: top;\n",
       "    }\n",
       "\n",
       "    .dataframe thead th {\n",
       "        text-align: right;\n",
       "    }\n",
       "</style>\n",
       "<table border=\"1\" class=\"dataframe\">\n",
       "  <thead>\n",
       "    <tr style=\"text-align: right;\">\n",
       "      <th></th>\n",
       "      <th>Day_of_week</th>\n",
       "      <th>message_length</th>\n",
       "      <th>label</th>\n",
       "      <th>0</th>\n",
       "      <th>1</th>\n",
       "      <th>2</th>\n",
       "      <th>3</th>\n",
       "      <th>4</th>\n",
       "      <th>5</th>\n",
       "      <th>6</th>\n",
       "      <th>...</th>\n",
       "      <th>240</th>\n",
       "      <th>241</th>\n",
       "      <th>242</th>\n",
       "      <th>243</th>\n",
       "      <th>244</th>\n",
       "      <th>245</th>\n",
       "      <th>246</th>\n",
       "      <th>247</th>\n",
       "      <th>248</th>\n",
       "      <th>249</th>\n",
       "    </tr>\n",
       "  </thead>\n",
       "  <tbody>\n",
       "    <tr>\n",
       "      <th>0</th>\n",
       "      <td>Tue</td>\n",
       "      <td>262</td>\n",
       "      <td>0</td>\n",
       "      <td>0</td>\n",
       "      <td>0</td>\n",
       "      <td>0</td>\n",
       "      <td>0</td>\n",
       "      <td>0</td>\n",
       "      <td>0</td>\n",
       "      <td>0</td>\n",
       "      <td>...</td>\n",
       "      <td>31</td>\n",
       "      <td>14</td>\n",
       "      <td>59</td>\n",
       "      <td>225</td>\n",
       "      <td>77</td>\n",
       "      <td>1124</td>\n",
       "      <td>76015</td>\n",
       "      <td>5</td>\n",
       "      <td>13</td>\n",
       "      <td>5</td>\n",
       "    </tr>\n",
       "    <tr>\n",
       "      <th>1</th>\n",
       "      <td>Thu</td>\n",
       "      <td>1255</td>\n",
       "      <td>0</td>\n",
       "      <td>0</td>\n",
       "      <td>0</td>\n",
       "      <td>0</td>\n",
       "      <td>0</td>\n",
       "      <td>0</td>\n",
       "      <td>0</td>\n",
       "      <td>0</td>\n",
       "      <td>...</td>\n",
       "      <td>615</td>\n",
       "      <td>758</td>\n",
       "      <td>76023</td>\n",
       "      <td>56189</td>\n",
       "      <td>17</td>\n",
       "      <td>29</td>\n",
       "      <td>132</td>\n",
       "      <td>56189</td>\n",
       "      <td>17</td>\n",
       "      <td>76024</td>\n",
       "    </tr>\n",
       "    <tr>\n",
       "      <th>2</th>\n",
       "      <td>Thu</td>\n",
       "      <td>1120</td>\n",
       "      <td>0</td>\n",
       "      <td>0</td>\n",
       "      <td>0</td>\n",
       "      <td>0</td>\n",
       "      <td>0</td>\n",
       "      <td>0</td>\n",
       "      <td>0</td>\n",
       "      <td>0</td>\n",
       "      <td>...</td>\n",
       "      <td>6385</td>\n",
       "      <td>7909</td>\n",
       "      <td>349</td>\n",
       "      <td>23</td>\n",
       "      <td>265</td>\n",
       "      <td>1825</td>\n",
       "      <td>5</td>\n",
       "      <td>374</td>\n",
       "      <td>1365</td>\n",
       "      <td>6669</td>\n",
       "    </tr>\n",
       "    <tr>\n",
       "      <th>3</th>\n",
       "      <td>Thu</td>\n",
       "      <td>541</td>\n",
       "      <td>0</td>\n",
       "      <td>0</td>\n",
       "      <td>0</td>\n",
       "      <td>0</td>\n",
       "      <td>0</td>\n",
       "      <td>0</td>\n",
       "      <td>0</td>\n",
       "      <td>0</td>\n",
       "      <td>...</td>\n",
       "      <td>17</td>\n",
       "      <td>2135</td>\n",
       "      <td>8047</td>\n",
       "      <td>13689</td>\n",
       "      <td>26431</td>\n",
       "      <td>98</td>\n",
       "      <td>132</td>\n",
       "      <td>32619</td>\n",
       "      <td>17</td>\n",
       "      <td>26431</td>\n",
       "    </tr>\n",
       "    <tr>\n",
       "      <th>4</th>\n",
       "      <td>Fri</td>\n",
       "      <td>1415</td>\n",
       "      <td>0</td>\n",
       "      <td>366</td>\n",
       "      <td>137</td>\n",
       "      <td>1915</td>\n",
       "      <td>47</td>\n",
       "      <td>10180</td>\n",
       "      <td>1061</td>\n",
       "      <td>8563</td>\n",
       "      <td>...</td>\n",
       "      <td>5</td>\n",
       "      <td>708</td>\n",
       "      <td>3672</td>\n",
       "      <td>560</td>\n",
       "      <td>16</td>\n",
       "      <td>2485</td>\n",
       "      <td>14</td>\n",
       "      <td>86</td>\n",
       "      <td>1957</td>\n",
       "      <td>76038</td>\n",
       "    </tr>\n",
       "  </tbody>\n",
       "</table>\n",
       "<p>5 rows × 253 columns</p>\n",
       "</div>"
      ],
      "text/plain": [
       "  Day_of_week  message_length label    0    1     2   3      4     5     6  \\\n",
       "0         Tue             262     0    0    0     0   0      0     0     0   \n",
       "1         Thu            1255     0    0    0     0   0      0     0     0   \n",
       "2         Thu            1120     0    0    0     0   0      0     0     0   \n",
       "3         Thu             541     0    0    0     0   0      0     0     0   \n",
       "4         Fri            1415     0  366  137  1915  47  10180  1061  8563   \n",
       "\n",
       "   ...   240   241    242    243    244   245    246    247   248    249  \n",
       "0  ...    31    14     59    225     77  1124  76015      5    13      5  \n",
       "1  ...   615   758  76023  56189     17    29    132  56189    17  76024  \n",
       "2  ...  6385  7909    349     23    265  1825      5    374  1365   6669  \n",
       "3  ...    17  2135   8047  13689  26431    98    132  32619    17  26431  \n",
       "4  ...     5   708   3672    560     16  2485     14     86  1957  76038  \n",
       "\n",
       "[5 rows x 253 columns]"
      ]
     },
     "execution_count": 528,
     "metadata": {},
     "output_type": "execute_result"
    }
   ],
   "source": [
    "result.head()"
   ]
  },
  {
   "cell_type": "code",
   "execution_count": 529,
   "metadata": {},
   "outputs": [
    {
     "name": "stdout",
     "output_type": "stream",
     "text": [
      "<class 'pandas.core.frame.DataFrame'>\n",
      "RangeIndex: 29141 entries, 0 to 29140\n",
      "Columns: 253 entries, Day_of_week to 249\n",
      "dtypes: category(2), int32(250), int64(1)\n",
      "memory usage: 28.1 MB\n"
     ]
    }
   ],
   "source": [
    "result.info()"
   ]
  },
  {
   "cell_type": "markdown",
   "metadata": {},
   "source": [
    "Let us one-hot encode the day of the week:"
   ]
  },
  {
   "cell_type": "code",
   "execution_count": 530,
   "metadata": {},
   "outputs": [],
   "source": [
    "dfDummies = pd.get_dummies(result['Day_of_week'], prefix = 'Day= ')"
   ]
  },
  {
   "cell_type": "code",
   "execution_count": 531,
   "metadata": {},
   "outputs": [
    {
     "data": {
      "text/html": [
       "<div>\n",
       "<style scoped>\n",
       "    .dataframe tbody tr th:only-of-type {\n",
       "        vertical-align: middle;\n",
       "    }\n",
       "\n",
       "    .dataframe tbody tr th {\n",
       "        vertical-align: top;\n",
       "    }\n",
       "\n",
       "    .dataframe thead th {\n",
       "        text-align: right;\n",
       "    }\n",
       "</style>\n",
       "<table border=\"1\" class=\"dataframe\">\n",
       "  <thead>\n",
       "    <tr style=\"text-align: right;\">\n",
       "      <th></th>\n",
       "      <th>Day= _Fri</th>\n",
       "      <th>Day= _Mon</th>\n",
       "      <th>Day= _Sat</th>\n",
       "      <th>Day= _Sun</th>\n",
       "      <th>Day= _Thu</th>\n",
       "      <th>Day= _Tue</th>\n",
       "      <th>Day= _Wed</th>\n",
       "    </tr>\n",
       "  </thead>\n",
       "  <tbody>\n",
       "    <tr>\n",
       "      <th>0</th>\n",
       "      <td>0</td>\n",
       "      <td>0</td>\n",
       "      <td>0</td>\n",
       "      <td>0</td>\n",
       "      <td>0</td>\n",
       "      <td>1</td>\n",
       "      <td>0</td>\n",
       "    </tr>\n",
       "    <tr>\n",
       "      <th>1</th>\n",
       "      <td>0</td>\n",
       "      <td>0</td>\n",
       "      <td>0</td>\n",
       "      <td>0</td>\n",
       "      <td>1</td>\n",
       "      <td>0</td>\n",
       "      <td>0</td>\n",
       "    </tr>\n",
       "    <tr>\n",
       "      <th>2</th>\n",
       "      <td>0</td>\n",
       "      <td>0</td>\n",
       "      <td>0</td>\n",
       "      <td>0</td>\n",
       "      <td>1</td>\n",
       "      <td>0</td>\n",
       "      <td>0</td>\n",
       "    </tr>\n",
       "    <tr>\n",
       "      <th>3</th>\n",
       "      <td>0</td>\n",
       "      <td>0</td>\n",
       "      <td>0</td>\n",
       "      <td>0</td>\n",
       "      <td>1</td>\n",
       "      <td>0</td>\n",
       "      <td>0</td>\n",
       "    </tr>\n",
       "    <tr>\n",
       "      <th>4</th>\n",
       "      <td>1</td>\n",
       "      <td>0</td>\n",
       "      <td>0</td>\n",
       "      <td>0</td>\n",
       "      <td>0</td>\n",
       "      <td>0</td>\n",
       "      <td>0</td>\n",
       "    </tr>\n",
       "  </tbody>\n",
       "</table>\n",
       "</div>"
      ],
      "text/plain": [
       "   Day= _Fri  Day= _Mon  Day= _Sat  Day= _Sun  Day= _Thu  Day= _Tue  Day= _Wed\n",
       "0          0          0          0          0          0          1          0\n",
       "1          0          0          0          0          1          0          0\n",
       "2          0          0          0          0          1          0          0\n",
       "3          0          0          0          0          1          0          0\n",
       "4          1          0          0          0          0          0          0"
      ]
     },
     "execution_count": 531,
     "metadata": {},
     "output_type": "execute_result"
    }
   ],
   "source": [
    "dfDummies.head()"
   ]
  },
  {
   "cell_type": "code",
   "execution_count": 532,
   "metadata": {},
   "outputs": [],
   "source": [
    "result = pd.concat([result, dfDummies], axis=1)"
   ]
  },
  {
   "cell_type": "code",
   "execution_count": 533,
   "metadata": {},
   "outputs": [],
   "source": [
    "result = result.drop(labels='Day_of_week', axis=1)"
   ]
  },
  {
   "cell_type": "markdown",
   "metadata": {},
   "source": [
    "Having done all the preprocessing we know have our final dataframe which consists on 259 columns."
   ]
  },
  {
   "cell_type": "code",
   "execution_count": 534,
   "metadata": {},
   "outputs": [
    {
     "data": {
      "text/html": [
       "<div>\n",
       "<style scoped>\n",
       "    .dataframe tbody tr th:only-of-type {\n",
       "        vertical-align: middle;\n",
       "    }\n",
       "\n",
       "    .dataframe tbody tr th {\n",
       "        vertical-align: top;\n",
       "    }\n",
       "\n",
       "    .dataframe thead th {\n",
       "        text-align: right;\n",
       "    }\n",
       "</style>\n",
       "<table border=\"1\" class=\"dataframe\">\n",
       "  <thead>\n",
       "    <tr style=\"text-align: right;\">\n",
       "      <th></th>\n",
       "      <th>message_length</th>\n",
       "      <th>label</th>\n",
       "      <th>0</th>\n",
       "      <th>1</th>\n",
       "      <th>2</th>\n",
       "      <th>3</th>\n",
       "      <th>4</th>\n",
       "      <th>5</th>\n",
       "      <th>6</th>\n",
       "      <th>7</th>\n",
       "      <th>...</th>\n",
       "      <th>247</th>\n",
       "      <th>248</th>\n",
       "      <th>249</th>\n",
       "      <th>Day= _Fri</th>\n",
       "      <th>Day= _Mon</th>\n",
       "      <th>Day= _Sat</th>\n",
       "      <th>Day= _Sun</th>\n",
       "      <th>Day= _Thu</th>\n",
       "      <th>Day= _Tue</th>\n",
       "      <th>Day= _Wed</th>\n",
       "    </tr>\n",
       "  </thead>\n",
       "  <tbody>\n",
       "    <tr>\n",
       "      <th>0</th>\n",
       "      <td>262</td>\n",
       "      <td>0</td>\n",
       "      <td>0</td>\n",
       "      <td>0</td>\n",
       "      <td>0</td>\n",
       "      <td>0</td>\n",
       "      <td>0</td>\n",
       "      <td>0</td>\n",
       "      <td>0</td>\n",
       "      <td>0</td>\n",
       "      <td>...</td>\n",
       "      <td>5</td>\n",
       "      <td>13</td>\n",
       "      <td>5</td>\n",
       "      <td>0</td>\n",
       "      <td>0</td>\n",
       "      <td>0</td>\n",
       "      <td>0</td>\n",
       "      <td>0</td>\n",
       "      <td>1</td>\n",
       "      <td>0</td>\n",
       "    </tr>\n",
       "    <tr>\n",
       "      <th>1</th>\n",
       "      <td>1255</td>\n",
       "      <td>0</td>\n",
       "      <td>0</td>\n",
       "      <td>0</td>\n",
       "      <td>0</td>\n",
       "      <td>0</td>\n",
       "      <td>0</td>\n",
       "      <td>0</td>\n",
       "      <td>0</td>\n",
       "      <td>0</td>\n",
       "      <td>...</td>\n",
       "      <td>56189</td>\n",
       "      <td>17</td>\n",
       "      <td>76024</td>\n",
       "      <td>0</td>\n",
       "      <td>0</td>\n",
       "      <td>0</td>\n",
       "      <td>0</td>\n",
       "      <td>1</td>\n",
       "      <td>0</td>\n",
       "      <td>0</td>\n",
       "    </tr>\n",
       "    <tr>\n",
       "      <th>2</th>\n",
       "      <td>1120</td>\n",
       "      <td>0</td>\n",
       "      <td>0</td>\n",
       "      <td>0</td>\n",
       "      <td>0</td>\n",
       "      <td>0</td>\n",
       "      <td>0</td>\n",
       "      <td>0</td>\n",
       "      <td>0</td>\n",
       "      <td>0</td>\n",
       "      <td>...</td>\n",
       "      <td>374</td>\n",
       "      <td>1365</td>\n",
       "      <td>6669</td>\n",
       "      <td>0</td>\n",
       "      <td>0</td>\n",
       "      <td>0</td>\n",
       "      <td>0</td>\n",
       "      <td>1</td>\n",
       "      <td>0</td>\n",
       "      <td>0</td>\n",
       "    </tr>\n",
       "    <tr>\n",
       "      <th>3</th>\n",
       "      <td>541</td>\n",
       "      <td>0</td>\n",
       "      <td>0</td>\n",
       "      <td>0</td>\n",
       "      <td>0</td>\n",
       "      <td>0</td>\n",
       "      <td>0</td>\n",
       "      <td>0</td>\n",
       "      <td>0</td>\n",
       "      <td>0</td>\n",
       "      <td>...</td>\n",
       "      <td>32619</td>\n",
       "      <td>17</td>\n",
       "      <td>26431</td>\n",
       "      <td>0</td>\n",
       "      <td>0</td>\n",
       "      <td>0</td>\n",
       "      <td>0</td>\n",
       "      <td>1</td>\n",
       "      <td>0</td>\n",
       "      <td>0</td>\n",
       "    </tr>\n",
       "    <tr>\n",
       "      <th>4</th>\n",
       "      <td>1415</td>\n",
       "      <td>0</td>\n",
       "      <td>366</td>\n",
       "      <td>137</td>\n",
       "      <td>1915</td>\n",
       "      <td>47</td>\n",
       "      <td>10180</td>\n",
       "      <td>1061</td>\n",
       "      <td>8563</td>\n",
       "      <td>1816</td>\n",
       "      <td>...</td>\n",
       "      <td>86</td>\n",
       "      <td>1957</td>\n",
       "      <td>76038</td>\n",
       "      <td>1</td>\n",
       "      <td>0</td>\n",
       "      <td>0</td>\n",
       "      <td>0</td>\n",
       "      <td>0</td>\n",
       "      <td>0</td>\n",
       "      <td>0</td>\n",
       "    </tr>\n",
       "  </tbody>\n",
       "</table>\n",
       "<p>5 rows × 259 columns</p>\n",
       "</div>"
      ],
      "text/plain": [
       "   message_length label    0    1     2   3      4     5     6     7  ...  \\\n",
       "0             262     0    0    0     0   0      0     0     0     0  ...   \n",
       "1            1255     0    0    0     0   0      0     0     0     0  ...   \n",
       "2            1120     0    0    0     0   0      0     0     0     0  ...   \n",
       "3             541     0    0    0     0   0      0     0     0     0  ...   \n",
       "4            1415     0  366  137  1915  47  10180  1061  8563  1816  ...   \n",
       "\n",
       "     247   248    249  Day= _Fri  Day= _Mon  Day= _Sat  Day= _Sun  Day= _Thu  \\\n",
       "0      5    13      5          0          0          0          0          0   \n",
       "1  56189    17  76024          0          0          0          0          1   \n",
       "2    374  1365   6669          0          0          0          0          1   \n",
       "3  32619    17  26431          0          0          0          0          1   \n",
       "4     86  1957  76038          1          0          0          0          0   \n",
       "\n",
       "   Day= _Tue  Day= _Wed  \n",
       "0          1          0  \n",
       "1          0          0  \n",
       "2          0          0  \n",
       "3          0          0  \n",
       "4          0          0  \n",
       "\n",
       "[5 rows x 259 columns]"
      ]
     },
     "execution_count": 534,
     "metadata": {},
     "output_type": "execute_result"
    }
   ],
   "source": [
    "result.head()"
   ]
  },
  {
   "cell_type": "markdown",
   "metadata": {},
   "source": [
    "It is important to normalize numerical values like the message length and maybe the vector representation. We will leave it as it is but we will later test the effect of normalizing the 250 vector representation."
   ]
  },
  {
   "cell_type": "code",
   "execution_count": 535,
   "metadata": {},
   "outputs": [],
   "source": [
    "from sklearn import preprocessing\n",
    "x = result[['message_length']].values #returns a numpy array"
   ]
  },
  {
   "cell_type": "code",
   "execution_count": 536,
   "metadata": {},
   "outputs": [
    {
     "name": "stderr",
     "output_type": "stream",
     "text": [
      "C:\\Users\\vicen\\Anaconda3\\envs\\data_mining\\lib\\site-packages\\sklearn\\utils\\validation.py:595: DataConversionWarning:\n",
      "\n",
      "Data with input dtype int64 was converted to float64 by MinMaxScaler.\n",
      "\n"
     ]
    }
   ],
   "source": [
    "min_max_scaler = preprocessing.MinMaxScaler()\n",
    "x_scaled = min_max_scaler.fit_transform(x)\n",
    "result['message_length'] = pd.DataFrame(x_scaled)"
   ]
  },
  {
   "cell_type": "code",
   "execution_count": 537,
   "metadata": {},
   "outputs": [],
   "source": [
    "X = result.loc[:, result.columns != 'label']"
   ]
  },
  {
   "cell_type": "code",
   "execution_count": 538,
   "metadata": {},
   "outputs": [],
   "source": [
    "#Y = result['label']\n",
    "Y = pd.get_dummies(result['label']).values"
   ]
  },
  {
   "cell_type": "markdown",
   "metadata": {},
   "source": [
    "It is time now to split our dataset into a training and testing set. It is improtant that we do this in a stratiffied way since the label distribution is non uniform. Notice the stratify parameter in the train_test_split() method:"
   ]
  },
  {
   "cell_type": "code",
   "execution_count": 539,
   "metadata": {},
   "outputs": [
    {
     "name": "stdout",
     "output_type": "stream",
     "text": [
      "(26226, 258) (26226, 11)\n",
      "(2915, 258) (2915, 11)\n"
     ]
    }
   ],
   "source": [
    "X_train, X_test, Y_train, Y_test = train_test_split(X,Y, test_size = 0.10, random_state = 42, stratify=Y)\n",
    "print(X_train.shape,Y_train.shape)\n",
    "print(X_test.shape,Y_test.shape)"
   ]
  },
  {
   "cell_type": "markdown",
   "metadata": {},
   "source": [
    "We will now separate the word embedding representation from the messae length and the one hot encoded day of the week:"
   ]
  },
  {
   "cell_type": "code",
   "execution_count": 540,
   "metadata": {},
   "outputs": [],
   "source": [
    "X_train_emb = X_train.drop(['message_length', 'Day= _Fri', 'Day= _Mon', 'Day= _Sat', 'Day= _Sun', 'Day= _Thu', 'Day= _Tue', 'Day= _Wed'], axis=1)\n",
    "X_train_noemb = X_train[['message_length', 'Day= _Fri', 'Day= _Mon', 'Day= _Sat', 'Day= _Sun', 'Day= _Thu', 'Day= _Tue', 'Day= _Wed']]\n",
    "X_test_emb = X_test.drop(['message_length', 'Day= _Fri', 'Day= _Mon', 'Day= _Sat', 'Day= _Sun', 'Day= _Thu', 'Day= _Tue', 'Day= _Wed'], axis=1)\n",
    "X_test_noemb = X_test[['message_length', 'Day= _Fri', 'Day= _Mon', 'Day= _Sat', 'Day= _Sun', 'Day= _Thu', 'Day= _Tue', 'Day= _Wed']]"
   ]
  },
  {
   "cell_type": "markdown",
   "metadata": {},
   "source": [
    "## LSTM Building and Modeling"
   ]
  },
  {
   "cell_type": "code",
   "execution_count": 541,
   "metadata": {},
   "outputs": [],
   "source": [
    "from keras.models import Sequential\n",
    "from keras.layers.normalization import BatchNormalization\n",
    "from keras.layers.convolutional import Conv2D\n",
    "from keras.layers.convolutional import MaxPooling2D\n",
    "from keras.layers.core import Activation\n",
    "from keras.layers.core import Dropout\n",
    "from keras.layers.core import Dense\n",
    "from keras.layers import Flatten\n",
    "from keras.layers import Input\n",
    "from keras.models import Model\n",
    "from keras.layers import concatenate\n",
    "from keras import regularizers"
   ]
  },
  {
   "cell_type": "markdown",
   "metadata": {},
   "source": [
    "Adding the Message length, one hot encoded date actually hurts our model. Therefore we will stick with our previous LSTM Model (only message embedding as input)."
   ]
  },
  {
   "cell_type": "markdown",
   "metadata": {},
   "source": [
    "### LSTM Model only using the Message Embedding"
   ]
  },
  {
   "cell_type": "markdown",
   "metadata": {},
   "source": [
    "We will use a simple sequential model since we do not require to pass two inputs: We will also use the same hyperparameters that we specified in the previous model:"
   ]
  },
  {
   "cell_type": "code",
   "execution_count": 545,
   "metadata": {},
   "outputs": [
    {
     "name": "stdout",
     "output_type": "stream",
     "text": [
      "_________________________________________________________________\n",
      "Layer (type)                 Output Shape              Param #   \n",
      "=================================================================\n",
      "embedding_22 (Embedding)     (None, 250, 100)          100000000 \n",
      "_________________________________________________________________\n",
      "spatial_dropout1d_21 (Spatia (None, 250, 100)          0         \n",
      "_________________________________________________________________\n",
      "lstm_21 (LSTM)               (None, 100)               80400     \n",
      "_________________________________________________________________\n",
      "dense_38 (Dense)             (None, 11)                1111      \n",
      "=================================================================\n",
      "Total params: 100,081,511\n",
      "Trainable params: 100,081,511\n",
      "Non-trainable params: 0\n",
      "_________________________________________________________________\n",
      "None\n"
     ]
    }
   ],
   "source": [
    "model_emb = Sequential()\n",
    "model_emb.add(Embedding(max_words, embedding_dim, input_length=X_vir.shape[1]))\n",
    "#model_emb.add(Embedding(max_words, embedding_dim, input_length=X_vir.shape[1], activity_regularizer=regularizers.l1(0.01)))\n",
    "model_emb.add(SpatialDropout1D(0.2))\n",
    "model_emb.add(LSTM(100, dropout=0.2, recurrent_dropout=0.2))\n",
    "model_emb.add(Dense(11, activation='softmax'))\n",
    "model_emb.compile(loss='categorical_crossentropy', optimizer='adam', metrics=['accuracy'])\n",
    "print(model_emb.summary())"
   ]
  },
  {
   "cell_type": "markdown",
   "metadata": {},
   "source": [
    "Let us train the model for 30 epochs and a batch size of 150, we will do a validation split of 0.1 on the training split, and also use early stopping using validation loss. This will prevent ovefitting the model. "
   ]
  },
  {
   "cell_type": "code",
   "execution_count": 547,
   "metadata": {},
   "outputs": [
    {
     "name": "stdout",
     "output_type": "stream",
     "text": [
      "Train on 23603 samples, validate on 2623 samples\n",
      "Epoch 1/30\n",
      "23603/23603 [==============================] - 211s 9ms/step - loss: 1.6043 - acc: 0.4691 - val_loss: 1.3945 - val_acc: 0.5368\n",
      "Epoch 2/30\n",
      "23603/23603 [==============================] - 198s 8ms/step - loss: 1.1420 - acc: 0.6359 - val_loss: 1.2973 - val_acc: 0.5814\n",
      "Epoch 3/30\n",
      "23603/23603 [==============================] - 185s 8ms/step - loss: 0.8370 - acc: 0.7336 - val_loss: 1.2395 - val_acc: 0.6066\n",
      "Epoch 4/30\n",
      "23603/23603 [==============================] - 184s 8ms/step - loss: 0.6382 - acc: 0.7982 - val_loss: 1.2877 - val_acc: 0.6222\n",
      "Epoch 5/30\n",
      "23603/23603 [==============================] - 185s 8ms/step - loss: 0.5129 - acc: 0.8387 - val_loss: 1.3073 - val_acc: 0.6241\n",
      "Epoch 6/30\n",
      "23603/23603 [==============================] - 185s 8ms/step - loss: 0.4250 - acc: 0.8654 - val_loss: 1.3761 - val_acc: 0.6230\n"
     ]
    }
   ],
   "source": [
    "epochs = 30\n",
    "batch_size = 150\n",
    "\n",
    "history_emb = model_emb.fit(X_train_emb, Y_train, epochs=epochs, \n",
    "                    batch_size=batch_size, validation_split=0.1,\n",
    "                    callbacks=[EarlyStopping(monitor='val_loss', patience=3, min_delta=0.0001)])"
   ]
  },
  {
   "cell_type": "markdown",
   "metadata": {},
   "source": [
    "The model early stopped at 6 epochs with an accuracy of 0.8654. Let us save the model:"
   ]
  },
  {
   "cell_type": "code",
   "execution_count": 548,
   "metadata": {},
   "outputs": [],
   "source": [
    "# save the model to file\n",
    "model_emb.save('LSTM_OnlyE_30epoch.h5')"
   ]
  },
  {
   "cell_type": "markdown",
   "metadata": {},
   "source": [
    "Now we can test the model in the test dataset and see our accuracy:"
   ]
  },
  {
   "cell_type": "code",
   "execution_count": 549,
   "metadata": {},
   "outputs": [
    {
     "name": "stdout",
     "output_type": "stream",
     "text": [
      "2915/2915 [==============================] - 5s 2ms/step\n",
      "Test set\n",
      "  Loss: 1.417\n",
      "  Accuracy: 0.611\n"
     ]
    }
   ],
   "source": [
    "accr = model_emb.evaluate(X_test_emb,Y_test)\n",
    "print('Test set\\n  Loss: {:0.3f}\\n  Accuracy: {:0.3f}'.format(accr[0],accr[1]))"
   ]
  },
  {
   "cell_type": "markdown",
   "metadata": {},
   "source": [
    "Let us also see how the model changed over time in terms of loss and accuracy:"
   ]
  },
  {
   "cell_type": "code",
   "execution_count": 551,
   "metadata": {},
   "outputs": [
    {
     "data": {
      "image/png": "[encoded data removed]",
      "text/plain": [
       "<Figure size 432x288 with 1 Axes>"
      ]
     },
     "metadata": {
      "needs_background": "light"
     },
     "output_type": "display_data"
    }
   ],
   "source": [
    "plt.title('Loss')\n",
    "plt.plot(history_emb.history['loss'], label='train')\n",
    "plt.plot(history_emb.history['val_loss'], label='test')\n",
    "plt.legend()\n",
    "plt.show();"
   ]
  },
  {
   "cell_type": "code",
   "execution_count": 552,
   "metadata": {},
   "outputs": [
    {
     "data": {
      "image/png": "[encoded data removed]",
      "text/plain": [
       "<Figure size 432x288 with 1 Axes>"
      ]
     },
     "metadata": {
      "needs_background": "light"
     },
     "output_type": "display_data"
    }
   ],
   "source": [
    "plt.title('Accuracy')\n",
    "plt.plot(history_emb.history['acc'], label='train')\n",
    "plt.plot(history_emb.history['val_acc'], label='test')\n",
    "plt.legend()\n",
    "plt.show();"
   ]
  },
  {
   "cell_type": "markdown",
   "metadata": {},
   "source": [
    "We can see that the model loss decrease in the training dataset almost perfectly but the validation dataset did not see any improvement. This signals overfitting of the training split. This is why early stopping was implemented. For onw let us stick with this model and test it but it is important to say that more optimization needs to be done."
   ]
  },
  {
   "cell_type": "markdown",
   "metadata": {},
   "source": [
    "## Let us test our model in aribtraty text to which we intuitively know the answer"
   ]
  },
  {
   "cell_type": "code",
   "execution_count": 135,
   "metadata": {},
   "outputs": [
    {
     "name": "stdout",
     "output_type": "stream",
     "text": [
      "[[0.05559555 0.00283545 0.00313111 0.51477635 0.13551567 0.12418976\n",
      "  0.03945212 0.03281857 0.04109936 0.02883642 0.02174963]] 3\n"
     ]
    }
   ],
   "source": [
    "new_complaint = ['What is the legal consequences of a lawsuite']\n",
    "seq = tokenizer.texts_to_sequences(new_complaint)\n",
    "padded = pad_sequences(seq, maxlen=max_length)\n",
    "pred = model_emb.predict(padded)\n",
    "labels = ['0','1','2','3','4','5','6','7','8','9','10']\n",
    "print(pred, labels[np.argmax(pred)])"
   ]
  },
  {
   "cell_type": "code",
   "execution_count": 137,
   "metadata": {},
   "outputs": [
    {
     "name": "stdout",
     "output_type": "stream",
     "text": [
      "[[0.206241   0.00180363 0.00147454 0.12211586 0.01405801 0.05601064\n",
      "  0.02303758 0.5223241  0.03262794 0.00714187 0.01316478]] 7\n"
     ]
    }
   ],
   "source": [
    "new_complaint = ['Have you transferred the funds to the bank account']\n",
    "seq = tokenizer.texts_to_sequences(new_complaint)\n",
    "padded = pad_sequences(seq, maxlen=max_length)\n",
    "pred = model_emb.predict(padded)\n",
    "labels = ['0','1','2','3','4','5','6','7','8','9','10']\n",
    "print(pred, labels[np.argmax(pred)])"
   ]
  },
  {
   "cell_type": "code",
   "execution_count": 147,
   "metadata": {},
   "outputs": [
    {
     "name": "stdout",
     "output_type": "stream",
     "text": [
      "[[0.01847702 0.00082748 0.00112296 0.10232089 0.13056819 0.00560034\n",
      "  0.00132967 0.00850991 0.1549232  0.02847201 0.54784834]] 10\n"
     ]
    }
   ],
   "source": [
    "new_complaint = ['Thank you for contactig us regarding the MBA program, Do you have any questions?']\n",
    "seq = tokenizer.texts_to_sequences(new_complaint)\n",
    "padded = pad_sequences(seq, maxlen=max_length)\n",
    "pred = model_emb.predict(padded)\n",
    "labels = ['0','1','2','3','4','5','6','7','8','9','10']\n",
    "print(pred, labels[np.argmax(pred)])"
   ]
  },
  {
   "cell_type": "markdown",
   "metadata": {},
   "source": [
    "## Testing two neural networks with two different inputs:"
   ]
  },
  {
   "cell_type": "markdown",
   "metadata": {},
   "source": [
    "We will create two different neural networks and then combined their output. We will add L1 Regularization to create a sparce and more concise model since we have many feautures"
   ]
  },
  {
   "cell_type": "code",
   "execution_count": 553,
   "metadata": {},
   "outputs": [
    {
     "name": "stdout",
     "output_type": "stream",
     "text": [
      "__________________________________________________________________________________________________\n",
      "Layer (type)                    Output Shape         Param #     Connected to                     \n",
      "==================================================================================================\n",
      "input_19 (InputLayer)           (None, 250)          0                                            \n",
      "__________________________________________________________________________________________________\n",
      "embedding_23 (Embedding)        (None, 250, 100)     100000000   input_19[0][0]                   \n",
      "__________________________________________________________________________________________________\n",
      "input_20 (InputLayer)           (None, 8)            0                                            \n",
      "__________________________________________________________________________________________________\n",
      "spatial_dropout1d_22 (SpatialDr (None, 250, 100)     0           embedding_23[0][0]               \n",
      "__________________________________________________________________________________________________\n",
      "dense_40 (Dense)                (None, 64)           576         input_20[0][0]                   \n",
      "__________________________________________________________________________________________________\n",
      "lstm_22 (LSTM)                  (None, 100)          80400       spatial_dropout1d_22[0][0]       \n",
      "__________________________________________________________________________________________________\n",
      "dense_41 (Dense)                (None, 32)           2080        dense_40[0][0]                   \n",
      "__________________________________________________________________________________________________\n",
      "dense_39 (Dense)                (None, 11)           1111        lstm_22[0][0]                    \n",
      "__________________________________________________________________________________________________\n",
      "dense_42 (Dense)                (None, 11)           363         dense_41[0][0]                   \n",
      "__________________________________________________________________________________________________\n",
      "concatenate_5 (Concatenate)     (None, 22)           0           dense_39[0][0]                   \n",
      "                                                                 dense_42[0][0]                   \n",
      "__________________________________________________________________________________________________\n",
      "dense_43 (Dense)                (None, 11)           253         concatenate_5[0][0]              \n",
      "==================================================================================================\n",
      "Total params: 100,084,783\n",
      "Trainable params: 100,084,783\n",
      "Non-trainable params: 0\n",
      "__________________________________________________________________________________________________\n",
      "None\n"
     ]
    }
   ],
   "source": [
    "# define two sets of inputs\n",
    "inputA = Input(shape=(250,)) # Embedding\n",
    "inputB = Input(shape=(8,)) # Day and length\n",
    "\n",
    "# the first branch operates on the first input\n",
    "x = Embedding(max_words, embedding_dim)(inputA)\n",
    "x = SpatialDropout1D(0.2)(x)\n",
    "x = LSTM(100, dropout=0.2, recurrent_dropout=0.2, kernel_regularizer=regularizers.l1(0.01))(x)\n",
    "x = Dense(11, activation='softmax')(x)\n",
    "x = Model(inputs=inputA, outputs=x)\n",
    "\n",
    "# the second branch opreates on the second input\n",
    "y = Dense(64, activation=\"relu\", kernel_regularizer=regularizers.l2(0.01))(inputB)\n",
    "y = Dense(32, activation=\"relu\")(y)\n",
    "y = Dense(11, activation='softmax')(y)\n",
    "y = Model(inputs=inputB, outputs=y)\n",
    "\n",
    "# combine the output of the two branches\n",
    "combined = concatenate([x.output, y.output])\n",
    "\n",
    "z = Dense(11, activation=\"softmax\")(combined)\n",
    "\n",
    "# our model will accept the inputs of the two branches and\n",
    "# then output a single value\n",
    "model = Model(inputs=[x.input, y.input], outputs=z)\n",
    "model.compile(loss='categorical_crossentropy', optimizer='adam', metrics=['accuracy'])\n",
    "print(model.summary())"
   ]
  },
  {
   "cell_type": "markdown",
   "metadata": {},
   "source": [
    "Now that the model is compiled we can pass both inputs (the embedding and the non-embedding features). We will train only for 5 epochs since it takes a long time to train in a batch size of 64. We will do a validation split of 0.1 and we will use early stopping by monitoring validation loss. "
   ]
  },
  {
   "cell_type": "code",
   "execution_count": null,
   "metadata": {},
   "outputs": [],
   "source": [
    "from keras.callbacks import ModelCheckpoint"
   ]
  },
  {
   "cell_type": "code",
   "execution_count": null,
   "metadata": {
    "scrolled": true
   },
   "outputs": [],
   "source": [
    "#opt = Adam(lr=1e-3, decay=1e-3 / 200)\n",
    "#model.compile(loss=\"mean_absolute_percentage_error\", optimizer=opt)\n",
    "\n",
    "epochs = 5\n",
    "batch_size = 64\n",
    "\n",
    "# train the model\n",
    "print(\"[INFO] training model...\")\n",
    "history = model.fit([X_train_emb, X_train_noemb], Y_train,\n",
    "                    epochs=epochs, batch_size=batch_size,\n",
    "                    validation_split=0.1,callbacks=[EarlyStopping(monitor='val_loss', patience=3, min_delta=0.0001)])"
   ]
  },
  {
   "cell_type": "markdown",
   "metadata": {},
   "source": [
    "Let us save the model so we can test it later:"
   ]
  },
  {
   "cell_type": "code",
   "execution_count": 455,
   "metadata": {},
   "outputs": [],
   "source": [
    "model.save('LSTM_ALLfeatures.h5')"
   ]
  },
  {
   "cell_type": "markdown",
   "metadata": {},
   "source": [
    "Let us evaluate the performance on the test data set:"
   ]
  },
  {
   "cell_type": "code",
   "execution_count": 468,
   "metadata": {},
   "outputs": [
    {
     "name": "stdout",
     "output_type": "stream",
     "text": [
      "2915/2915 [==============================] - 6s 2ms/step\n",
      "Test set\n",
      "  Loss: 1.950\n",
      "  Accuracy: 0.386\n"
     ]
    }
   ],
   "source": [
    "accr = model.evaluate([X_test_emb, X_test_noemb], Y_test)\n",
    "print('Test set\\n  Loss: {:0.3f}\\n  Accuracy: {:0.3f}'.format(accr[0],accr[1]))"
   ]
  },
  {
   "cell_type": "markdown",
   "metadata": {},
   "source": [
    "The model is not performing very well in neither the test data nor the training data. Let us see how the loss and accuracy changed over time."
   ]
  },
  {
   "cell_type": "code",
   "execution_count": null,
   "metadata": {},
   "outputs": [],
   "source": [
    "plt.title('Loss')\n",
    "plt.plot(history.history['loss'], label='train')\n",
    "plt.plot(history.history['val_loss'], label='test')\n",
    "plt.legend()\n",
    "plt.show();"
   ]
  },
  {
   "cell_type": "code",
   "execution_count": null,
   "metadata": {},
   "outputs": [],
   "source": [
    "plt.title('Accuracy')\n",
    "plt.plot(history.history['acc'], label='train')\n",
    "plt.plot(history.history['val_acc'], label='test')\n",
    "plt.legend()\n",
    "plt.show();"
   ]
  }
 ],
 "metadata": {
  "kernelspec": {
   "display_name": "Python 3",
   "language": "python",
   "name": "python3"
  },
  "language_info": {
   "codemirror_mode": {
    "name": "ipython",
    "version": 3
   },
   "file_extension": ".py",
   "mimetype": "text/x-python",
   "name": "python",
   "nbconvert_exporter": "python",
   "pygments_lexer": "ipython3",
   "version": "3.7.2"
  }
 },
 "nbformat": 4,
 "nbformat_minor": 2
}
