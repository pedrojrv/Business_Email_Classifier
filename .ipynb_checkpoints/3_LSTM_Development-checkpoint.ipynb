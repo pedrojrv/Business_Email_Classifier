{
 "cells": [
  {
   "cell_type": "code",
   "execution_count": 1,
   "metadata": {
    "ExecuteTime": {
     "end_time": "2021-01-22T19:28:47.977134Z",
     "start_time": "2021-01-22T19:28:47.973132Z"
    }
   },
   "outputs": [],
   "source": [
    "import os\n",
    "os.environ[\"CUDA_DEVICE_ORDER\"]=\"PCI_BUS_ID\"   # see issue #152\n",
    "os.environ[\"CUDA_VISIBLE_DEVICES\"]=\"0\""
   ]
  },
  {
   "cell_type": "markdown",
   "metadata": {
    "colab_type": "text",
    "id": "aoNxlymDcpkZ"
   },
   "source": [
    "# LSTM Model for Natural Language Processing"
   ]
  },
  {
   "cell_type": "markdown",
   "metadata": {
    "colab_type": "text",
    "id": "zFEW982pcpkb"
   },
   "source": [
    "In this notebook I present the process of how the LSTM Model was build including some preprocessing and feature engineering."
   ]
  },
  {
   "cell_type": "markdown",
   "metadata": {
    "colab_type": "text",
    "id": "TICxLu8Ocpkc"
   },
   "source": [
    "Import all the following packages:"
   ]
  },
  {
   "cell_type": "code",
   "execution_count": 2,
   "metadata": {
    "ExecuteTime": {
     "end_time": "2021-01-22T19:28:50.952332Z",
     "start_time": "2021-01-22T19:28:47.979125Z"
    }
   },
   "outputs": [],
   "source": [
    "import tensorflow as tf"
   ]
  },
  {
   "cell_type": "code",
   "execution_count": 3,
   "metadata": {
    "ExecuteTime": {
     "end_time": "2021-01-22T19:28:50.962335Z",
     "start_time": "2021-01-22T19:28:50.954342Z"
    }
   },
   "outputs": [
    {
     "data": {
      "text/plain": [
       "'2.1.0'"
      ]
     },
     "execution_count": 3,
     "metadata": {},
     "output_type": "execute_result"
    }
   ],
   "source": [
    "tf.__version__"
   ]
  },
  {
   "cell_type": "code",
   "execution_count": 4,
   "metadata": {
    "ExecuteTime": {
     "end_time": "2021-01-22T19:28:50.966337Z",
     "start_time": "2021-01-22T19:28:50.964336Z"
    }
   },
   "outputs": [],
   "source": [
    "# print(tf.test.gpu_device_name())\n",
    "# print(\"Num GPUs Available: \", len(tf.config.experimental.list_physical_devices('GPU')))"
   ]
  },
  {
   "cell_type": "code",
   "execution_count": 5,
   "metadata": {
    "ExecuteTime": {
     "end_time": "2021-01-22T19:28:51.967999Z",
     "start_time": "2021-01-22T19:28:50.968336Z"
    },
    "colab": {},
    "colab_type": "code",
    "id": "tdkL-I4Ocpkw",
    "outputId": "4dd5c4bd-fa0b-4d30-bf55-0cfb97df0052"
   },
   "outputs": [],
   "source": [
    "import numpy as np \n",
    "import pandas as pd\n",
    "import matplotlib.pyplot as plt\n",
    "\n",
    "from tensorflow.keras.preprocessing.text import Tokenizer\n",
    "from tensorflow.keras.preprocessing.sequence import pad_sequences\n",
    "\n",
    "from sklearn.model_selection import train_test_split\n",
    "\n",
    "import re\n",
    "\n",
    "from nltk.corpus import stopwords\n",
    "from nltk import word_tokenize\n",
    "\n",
    "STOPWORDS = set(stopwords.words('english'))\n",
    "from pickle import dump"
   ]
  },
  {
   "cell_type": "markdown",
   "metadata": {
    "colab_type": "text",
    "id": "cnzgeY9ccpk2"
   },
   "source": [
    "## Exploratory Data Analysis"
   ]
  },
  {
   "cell_type": "code",
   "execution_count": 6,
   "metadata": {
    "ExecuteTime": {
     "end_time": "2021-01-22T19:29:00.663316Z",
     "start_time": "2021-01-22T19:28:51.969009Z"
    },
    "colab": {},
    "colab_type": "code",
    "id": "7-qB6-OPcpk3"
   },
   "outputs": [],
   "source": [
    "# Read preprocessed csv from main notebook\n",
    "data = pd.read_csv('Datasets/message_length.csv', index_col=0)"
   ]
  },
  {
   "cell_type": "code",
   "execution_count": 7,
   "metadata": {
    "ExecuteTime": {
     "end_time": "2021-01-22T19:29:00.688343Z",
     "start_time": "2021-01-22T19:29:00.665337Z"
    },
    "colab": {},
    "colab_type": "code",
    "id": "cfV9-NCycpk8"
   },
   "outputs": [],
   "source": [
    "# Create a copy for modifications\n",
    "df = data.copy()"
   ]
  },
  {
   "cell_type": "code",
   "execution_count": 8,
   "metadata": {
    "ExecuteTime": {
     "end_time": "2021-01-22T19:29:00.877426Z",
     "start_time": "2021-01-22T19:29:00.689353Z"
    },
    "colab": {},
    "colab_type": "code",
    "id": "D9O-lo2dcplA"
   },
   "outputs": [],
   "source": [
    "# We will drop several columns that are not useful for this model\n",
    "df.drop(df.columns.difference(['message','label','Day_of_week', 'message_length']), 1, inplace=True)\n",
    "df.dropna(axis=0, how='any', inplace=True)\n",
    "df.reset_index(drop=True, inplace=True)"
   ]
  },
  {
   "cell_type": "markdown",
   "metadata": {
    "colab_type": "text",
    "id": "FI-VVQW4cplD"
   },
   "source": [
    "Exploring our dataset:"
   ]
  },
  {
   "cell_type": "code",
   "execution_count": 9,
   "metadata": {
    "ExecuteTime": {
     "end_time": "2021-01-22T19:29:00.888429Z",
     "start_time": "2021-01-22T19:29:00.878418Z"
    },
    "colab": {},
    "colab_type": "code",
    "id": "sCxBd-PhcplF",
    "outputId": "a6dd6cc9-39bb-4bf5-bb3d-5384fd82f5a6"
   },
   "outputs": [
    {
     "data": {
      "text/html": [
       "<div>\n",
       "<style scoped>\n",
       "    .dataframe tbody tr th:only-of-type {\n",
       "        vertical-align: middle;\n",
       "    }\n",
       "\n",
       "    .dataframe tbody tr th {\n",
       "        vertical-align: top;\n",
       "    }\n",
       "\n",
       "    .dataframe thead th {\n",
       "        text-align: right;\n",
       "    }\n",
       "</style>\n",
       "<table border=\"1\" class=\"dataframe\">\n",
       "  <thead>\n",
       "    <tr style=\"text-align: right;\">\n",
       "      <th></th>\n",
       "      <th>message</th>\n",
       "      <th>Day_of_week</th>\n",
       "      <th>message_length</th>\n",
       "      <th>label</th>\n",
       "    </tr>\n",
       "  </thead>\n",
       "  <tbody>\n",
       "    <tr>\n",
       "      <th>0</th>\n",
       "      <td>here is our forecast\\n\\n</td>\n",
       "      <td>Mon</td>\n",
       "      <td>23</td>\n",
       "      <td>1</td>\n",
       "    </tr>\n",
       "    <tr>\n",
       "      <th>1</th>\n",
       "      <td>traveling to have a business meeting takes the...</td>\n",
       "      <td>Fri</td>\n",
       "      <td>786</td>\n",
       "      <td>1</td>\n",
       "    </tr>\n",
       "    <tr>\n",
       "      <th>2</th>\n",
       "      <td>test successful.  way to go!!!</td>\n",
       "      <td>Wed</td>\n",
       "      <td>30</td>\n",
       "      <td>1</td>\n",
       "    </tr>\n",
       "    <tr>\n",
       "      <th>3</th>\n",
       "      <td>randy,\\n\\n can you send me a schedule of the s...</td>\n",
       "      <td>Mon</td>\n",
       "      <td>187</td>\n",
       "      <td>1</td>\n",
       "    </tr>\n",
       "    <tr>\n",
       "      <th>4</th>\n",
       "      <td>let's shoot for tuesday at 11:45.</td>\n",
       "      <td>Thu</td>\n",
       "      <td>35</td>\n",
       "      <td>1</td>\n",
       "    </tr>\n",
       "  </tbody>\n",
       "</table>\n",
       "</div>"
      ],
      "text/plain": [
       "                                             message Day_of_week  \\\n",
       "0                          here is our forecast\\n\\n          Mon   \n",
       "1  traveling to have a business meeting takes the...         Fri   \n",
       "2                     test successful.  way to go!!!         Wed   \n",
       "3  randy,\\n\\n can you send me a schedule of the s...         Mon   \n",
       "4                let's shoot for tuesday at 11:45.           Thu   \n",
       "\n",
       "   message_length  label  \n",
       "0              23      1  \n",
       "1             786      1  \n",
       "2              30      1  \n",
       "3             187      1  \n",
       "4              35      1  "
      ]
     },
     "execution_count": 9,
     "metadata": {},
     "output_type": "execute_result"
    }
   ],
   "source": [
    "df.head()"
   ]
  },
  {
   "cell_type": "code",
   "execution_count": 10,
   "metadata": {
    "ExecuteTime": {
     "end_time": "2021-01-22T19:29:00.986552Z",
     "start_time": "2021-01-22T19:29:00.889420Z"
    },
    "colab": {},
    "colab_type": "code",
    "id": "9tGCzF32cplL",
    "outputId": "e5f5e1ae-645d-4590-d4a1-5367bdd13c00"
   },
   "outputs": [
    {
     "name": "stdout",
     "output_type": "stream",
     "text": [
      "<class 'pandas.core.frame.DataFrame'>\n",
      "RangeIndex: 517401 entries, 0 to 517400\n",
      "Data columns (total 4 columns):\n",
      " #   Column          Non-Null Count   Dtype \n",
      "---  ------          --------------   ----- \n",
      " 0   message         517401 non-null  object\n",
      " 1   Day_of_week     517401 non-null  object\n",
      " 2   message_length  517401 non-null  int64 \n",
      " 3   label           517401 non-null  int64 \n",
      "dtypes: int64(2), object(2)\n",
      "memory usage: 15.8+ MB\n"
     ]
    }
   ],
   "source": [
    "df.info()"
   ]
  },
  {
   "cell_type": "markdown",
   "metadata": {
    "colab_type": "text",
    "id": "oMDymAGfcplu"
   },
   "source": [
    "As we can observe, we have 517401 rows and 4 columns counting the label. Let us convert both the day of the week and the label to categorical columns:"
   ]
  },
  {
   "cell_type": "code",
   "execution_count": 11,
   "metadata": {
    "ExecuteTime": {
     "end_time": "2021-01-22T19:29:01.039562Z",
     "start_time": "2021-01-22T19:29:00.987560Z"
    },
    "colab": {},
    "colab_type": "code",
    "id": "vPdhLbhHcplw"
   },
   "outputs": [],
   "source": [
    "df[\"label\"] = df[\"label\"].astype('category')\n",
    "df[\"Day_of_week\"] = df[\"Day_of_week\"].astype('category')"
   ]
  },
  {
   "cell_type": "markdown",
   "metadata": {
    "colab_type": "text",
    "id": "PGrmCsP9cpl0"
   },
   "source": [
    "Let us perform some exploratory data analysis starting by visualizing our label distribution:"
   ]
  },
  {
   "cell_type": "code",
   "execution_count": 12,
   "metadata": {
    "ExecuteTime": {
     "end_time": "2021-01-22T19:29:01.043563Z",
     "start_time": "2021-01-22T19:29:01.040572Z"
    },
    "colab": {},
    "colab_type": "code",
    "id": "7_eOkAKccpl1",
    "outputId": "b0b6792b-d2d9-4ef0-94a1-b458aa55bafa"
   },
   "outputs": [],
   "source": [
    "# df['label'].value_counts().sort_values(ascending=False).iplot(kind='bar', yTitle='Value Counts',\n",
    "#                                                                 title='Label Distribution')"
   ]
  },
  {
   "cell_type": "markdown",
   "metadata": {
    "colab_type": "text",
    "id": "TtGR2-hHcpl_"
   },
   "source": [
    "We can see that the dataset is heavily bias towards the labels 1 and 2. The label 1 belongs to \"sent mail\" which is the default folder were emails get send to. This is actually not a label so we can safely drop the rows with label = 1. Label = 2 belongs to emails that we were not able to classify in any other group in the clustering step disccused in the main notebook. We can also safely discard rows where label = 2."
   ]
  },
  {
   "cell_type": "code",
   "execution_count": 13,
   "metadata": {
    "ExecuteTime": {
     "end_time": "2021-01-22T19:29:01.279184Z",
     "start_time": "2021-01-22T19:29:01.044565Z"
    },
    "colab": {},
    "colab_type": "code",
    "id": "ulN3g7iAcpmC"
   },
   "outputs": [],
   "source": [
    "# Dropping rows with label 1 and 2\n",
    "df = df.drop(df.query('label == 1').sample(frac=1).index)\n",
    "df = df.drop(df.query('label == 2').sample(frac=1).index)"
   ]
  },
  {
   "cell_type": "markdown",
   "metadata": {
    "colab_type": "text",
    "id": "e9sHmAl7cpmH"
   },
   "source": [
    "We can now visualize the new label distribution:"
   ]
  },
  {
   "cell_type": "code",
   "execution_count": 14,
   "metadata": {
    "ExecuteTime": {
     "end_time": "2021-01-22T19:29:01.282175Z",
     "start_time": "2021-01-22T19:29:01.280174Z"
    },
    "colab": {},
    "colab_type": "code",
    "id": "BjgHtAOtcpmI",
    "outputId": "a3185f93-f343-40dd-d675-d85c04439ff4"
   },
   "outputs": [],
   "source": [
    "# df['label'].value_counts().sort_values(ascending=False).iplot(kind='bar', yTitle='Value Counts', title='Label Distribution')"
   ]
  },
  {
   "cell_type": "markdown",
   "metadata": {
    "colab_type": "text",
    "id": "K8WHv6j6cpmO"
   },
   "source": [
    "There are a lot more data points with label = 3 which belongs to legal/corporate emails. Since this dataset belongs to ENRON corporation, it is to be expected that the majority of the emails belong to this class. Let us explore the contents of a few emails:"
   ]
  },
  {
   "cell_type": "code",
   "execution_count": 15,
   "metadata": {
    "ExecuteTime": {
     "end_time": "2021-01-22T19:29:01.288176Z",
     "start_time": "2021-01-22T19:29:01.283176Z"
    },
    "colab": {},
    "colab_type": "code",
    "id": "4cz_vBnAcpmP"
   },
   "outputs": [],
   "source": [
    "df = df.reset_index()"
   ]
  },
  {
   "cell_type": "code",
   "execution_count": 16,
   "metadata": {
    "ExecuteTime": {
     "end_time": "2021-01-22T19:29:01.293177Z",
     "start_time": "2021-01-22T19:29:01.289177Z"
    },
    "colab": {},
    "colab_type": "code",
    "id": "NO6F-hNCcpmW"
   },
   "outputs": [],
   "source": [
    "# Function to print the message and label for a datapoint\n",
    "def print_message(index):\n",
    "    example = df[df.index == index][['message', 'label']].values[0]\n",
    "    if len(example) > 0:\n",
    "        print(example[0])\n",
    "        print('Label:', example[1])"
   ]
  },
  {
   "cell_type": "code",
   "execution_count": 17,
   "metadata": {
    "ExecuteTime": {
     "end_time": "2021-01-22T19:29:01.299179Z",
     "start_time": "2021-01-22T19:29:01.294177Z"
    },
    "colab": {},
    "colab_type": "code",
    "id": "ABeA10Lgcpma",
    "outputId": "f4bb4110-42f4-4d8e-b64a-295a60405e57"
   },
   "outputs": [
    {
     "name": "stdout",
     "output_type": "stream",
     "text": [
      "jennifer,\n",
      "in regard to the costs for the gam conference, karen told me the $ 6,695.97 \n",
      "figure was inclusive of all the items for the conference.  however, after \n",
      "speaking with shweta, i found out this is not the case.  the cds are not \n",
      "included in this figure.  \n",
      "\n",
      "the cd cost will be $2,011.50 + the cost of postage/handling (which is \n",
      "currently being tabulated).\n",
      "\n",
      "colleen\n",
      "\n",
      "----- forwarded by colleen koenig/na/enron on 12/04/2000 10:56 am -----\n",
      "\n",
      "\tshweta sawhney\n",
      "\t12/04/2000 10:54 am\n",
      "\t\t \n",
      "\t\t to: colleen koenig/na/enron@enron\n",
      "\t\t cc: \n",
      "\t\t subject: quotes for the cd's.\n",
      "\n",
      "hi,\n",
      "\n",
      "this is the original quote for this project and it did not include the \n",
      "postage. as soon as i have the details from the vendor, i'll forward those to \n",
      "you.\n",
      "please call me if you have any questions.\n",
      "\n",
      "thanks,\n",
      "shweta.\n",
      "----- forwarded by shweta sawhney/na/enron on 12/04/2000 10:52 am -----\n",
      "\n",
      "\tshweta sawhney\n",
      "\t10/30/2000 05:53 pm\n",
      "\t\t \n",
      "\t\t to: karina prizont/na/enron@enron\n",
      "\t\t cc: karen hunter/enron_development@enron_development\n",
      "\t\t subject: quotes for the cd's.\n",
      "\n",
      "hi,\n",
      "\n",
      "we have recieved the quotes from the vendors and the details are:\n",
      "\n",
      "1 . 150 cd's with black printing and the plastc jewel cases - $ 886.50\n",
      "2 . the distribution cost (minimum for 500 cd's)   - $ 355.00\n",
      "     this will include the padded envelope, the address labels, the packing \n",
      "and deliver to the post office, but the postage is not included. \n",
      "3 . the time for coordination, artwork and the inserts output and trimming - \n",
      "$ 770.00\n",
      "\n",
      "so the total amount is approx. $2,011.50. the total time would be about 8 \n",
      "days. these are approximate figures only.\n",
      "\n",
      "if you have any questions you can call karen hunter at x56228. or i can be \n",
      "reached at x55706.\n",
      "\n",
      "thanks,\n",
      "shweta.\n",
      "\n",
      "Label: 3\n"
     ]
    }
   ],
   "source": [
    "print_message(10)"
   ]
  },
  {
   "cell_type": "code",
   "execution_count": 18,
   "metadata": {
    "ExecuteTime": {
     "end_time": "2021-01-22T19:29:01.305180Z",
     "start_time": "2021-01-22T19:29:01.300179Z"
    },
    "colab": {},
    "colab_type": "code",
    "id": "UU-DI5qwcpmm",
    "outputId": "515778ee-09ca-4a7c-f9da-539abb531017"
   },
   "outputs": [
    {
     "name": "stdout",
     "output_type": "stream",
     "text": [
      "----- forwarded by jeff dasovich/na/enron on 01/26/2001 11:21 am -----\n",
      "\n",
      "\t\"julee malinowski-ball\" <jmball@ns.net>\n",
      "\t01/26/2001 11:15 am\n",
      "\tplease respond to \"julee malinowski-ball\"\n",
      "\t\t \n",
      "\t\t to: \"william hall\" <wfhall2@duke-energy.com>, \"tony wetzel\" \n",
      "<twetzel@thermoecotek.com>, \"sue mara\" <smara@enron.com>, \"steven kelley\" \n",
      "<steven@iepa.com>, \"steve ponder\" <steve_ponder@fpl.com>, \"stephanie newell\" \n",
      "<stephanie-newell@reliantenergy.com>, \"roger pelote\" \n",
      "<roger.pelote@williams.com>, \"robert lamkin\" <rllamkin@seiworldwide.com>, \n",
      "\"richard hyde\" <rwhyde@duke-energy.com>, \"paula soos\" \n",
      "<paula_soos@ogden-energy.com>, \"nam nguyen\" <nam.nguyen@powersrc.com>, \"marty \n",
      "mcfadden\" <marty_mcfadden@ogden-energy.com>, \"lynn lednicky\" \n",
      "<lale@dynegy.com>, \"kent palmerton\" <kent.palmerton@williams.com>, \"ken \n",
      "hoffman\" <khoffman@caithnessenergy.com>, \"kassandra gough\" \n",
      "<kgough@calpine.com>, \"jonathan weisgall\" <jweisgall@aol.com>, \"john stout\" \n",
      "<john_h_stout@reliantenergy.com>, \"joe ronan\" <joer@calpine.com>, \"joe greco\" \n",
      "<joe.greco@uaecorp.com>, \"jim willey\" <elliottsa@earthlink.net>, \"jeff \n",
      "dasovich\" <jeff.dasovich@enron.com>, \"jack pigott\" <jackp@calpine.com>, \"hap \n",
      "boyd\" <rboyd@enron.com>, \"greg blue\" <gtbl@dynegy.com>, \"frank derosa\" \n",
      "<fderosa@sanfrancisco.usgen.com>, \"ed tomeo\" <ed.tomeo@uaecorp.com>, \"duane \n",
      "nelson\" <dnelsen@msn.com>, \"david parquet\" <dparque@ect.enron.com>, \"curtis \n",
      "kebler\" <curtis_l_kebler@reliantenergy.com>, \"carolyn baker\" \n",
      "<cabaker@duke-energy.com>, \"bob escalante\" <rescalante@riobravo-gm.com>, \"bob \n",
      "ellery\" <bellery@spi-ind.com>, \"bill woods\" <billw@calpine.com>, \"bill \n",
      "carlson\" <william_carlson@wastemanagement.com>, \"craig chancellor\" \n",
      "<craigc@calpine.com>, \"eric eisenman\" <eric.eisenman@gen.pge.com>, \"kate \n",
      "castillo\" <ccastillo@riobravo-gm.com>\n",
      "\t\t cc: \"jan smutny jones\" <smutny@iepa.com>, \"steven kelley\" <steven@iepa.com>, \n",
      "\"katie kaplan\" <kaplan@iepa.com>\n",
      "\t\t subject: ab 18x\n",
      "\n",
      "\n",
      "attached is the newly introduced ab 18x (hertzberg) and the committee\n",
      "analysis.\n",
      "\n",
      "ab 1x (keeley) as amended yesterday will be available later this morning\n",
      "when the senate appropriations committee meets at 10 am.\n",
      "\n",
      "\n",
      "julee malinowski-ball\n",
      "senior associate\n",
      "edson + modisette\n",
      "916-552-7070\n",
      "fax-552-7075\n",
      "jmball@ns.net\n",
      "\n",
      "\n",
      "\n",
      " - abx1_18_bill_20010125_introduced.pdf\n",
      " - analysis.ab18x.doc\n",
      "Label: 5\n"
     ]
    }
   ],
   "source": [
    "print_message(1000)"
   ]
  },
  {
   "cell_type": "markdown",
   "metadata": {
    "colab_type": "text",
    "id": "r1RL9y1zcpmt"
   },
   "source": [
    "### Preprocessing: Cleaning Text "
   ]
  },
  {
   "cell_type": "markdown",
   "metadata": {
    "colab_type": "text",
    "id": "MtaQIK2scpmv"
   },
   "source": [
    "Let us do some text cleaning since NLP models work better in clean text especially withouth unnecessary spaces."
   ]
  },
  {
   "cell_type": "code",
   "execution_count": 19,
   "metadata": {
    "ExecuteTime": {
     "end_time": "2021-01-22T19:29:06.956480Z",
     "start_time": "2021-01-22T19:29:01.308091Z"
    },
    "colab": {},
    "colab_type": "code",
    "id": "Rq2kJrE1cpmx"
   },
   "outputs": [],
   "source": [
    "df = df.reset_index(drop=True)\n",
    "regex = r\"\\S*@\\S*\\s?\"\n",
    "subst = \"\"\n",
    "REPLACE_BY_SPACE_RE = re.compile('[/(){}\\[\\]\\|@,;]')\n",
    "\n",
    "# Fucntion for joining parragraphs and words and replacing specific characters by a space:\n",
    "def clean_text(text):\n",
    "    text = text.lower() # lowercase text\n",
    "    text = REPLACE_BY_SPACE_RE.sub(' ', text)\n",
    "    text = re.sub(regex, subst, text, 0)\n",
    "    text = ' '.join(word for word in text.split())\n",
    "    return text\n",
    "df['message'] = df['message'].apply(clean_text)"
   ]
  },
  {
   "cell_type": "markdown",
   "metadata": {
    "colab_type": "text",
    "id": "l5Q8uWHmcpm7"
   },
   "source": [
    "Know let us print the same two messages that we're previously showed to see the changes:"
   ]
  },
  {
   "cell_type": "code",
   "execution_count": 20,
   "metadata": {
    "ExecuteTime": {
     "end_time": "2021-01-22T19:29:06.964483Z",
     "start_time": "2021-01-22T19:29:06.958481Z"
    },
    "colab": {},
    "colab_type": "code",
    "id": "VH2jzO0Kcpnh",
    "outputId": "168f2d36-1683-44f0-f757-5ee7c2641e1e"
   },
   "outputs": [
    {
     "name": "stdout",
     "output_type": "stream",
     "text": [
      "jennifer in regard to the costs for the gam conference karen told me the $ 6 695.97 figure was inclusive of all the items for the conference. however after speaking with shweta i found out this is not the case. the cds are not included in this figure. the cd cost will be $2 011.50 + the cost of postage handling which is currently being tabulated . colleen ----- forwarded by colleen koenig na enron on 12 04 2000 10:56 am ----- shweta sawhney 12 04 2000 10:54 am to: colleen koenig na enron enron cc: subject: quotes for the cd's. hi this is the original quote for this project and it did not include the postage. as soon as i have the details from the vendor i'll forward those to you. please call me if you have any questions. thanks shweta. ----- forwarded by shweta sawhney na enron on 12 04 2000 10:52 am ----- shweta sawhney 10 30 2000 05:53 pm to: karina prizont na enron enron cc: karen hunter enron_development enron_development subject: quotes for the cd's. hi we have recieved the quotes from the vendors and the details are: 1 . 150 cd's with black printing and the plastc jewel cases - $ 886.50 2 . the distribution cost minimum for 500 cd's - $ 355.00 this will include the padded envelope the address labels the packing and deliver to the post office but the postage is not included. 3 . the time for coordination artwork and the inserts output and trimming - $ 770.00 so the total amount is approx. $2 011.50. the total time would be about 8 days. these are approximate figures only. if you have any questions you can call karen hunter at x56228. or i can be reached at x55706. thanks shweta.\n",
      "Label: 3\n"
     ]
    }
   ],
   "source": [
    "print_message(10)"
   ]
  },
  {
   "cell_type": "code",
   "execution_count": 21,
   "metadata": {
    "ExecuteTime": {
     "end_time": "2021-01-22T19:29:06.970484Z",
     "start_time": "2021-01-22T19:29:06.965482Z"
    },
    "colab": {},
    "colab_type": "code",
    "id": "VFCitVdycpnp",
    "outputId": "298d4861-cca6-4248-fb2b-affa91ba47a7"
   },
   "outputs": [
    {
     "name": "stdout",
     "output_type": "stream",
     "text": [
      "----- forwarded by jeff dasovich na enron on 01 26 2001 11:21 am ----- \"julee malinowski-ball\" <jmball ns.net> 01 26 2001 11:15 am please respond to \"julee malinowski-ball\" to: \"william hall\" <wfhall2 duke-energy.com> \"tony wetzel\" <twetzel thermoecotek.com> \"sue mara\" <smara enron.com> \"steven kelley\" <steven iepa.com> \"steve ponder\" <steve_ponder fpl.com> \"stephanie newell\" <stephanie-newell reliantenergy.com> \"roger pelote\" <roger.pelote williams.com> \"robert lamkin\" <rllamkin seiworldwide.com> \"richard hyde\" <rwhyde duke-energy.com> \"paula soos\" <paula_soos ogden-energy.com> \"nam nguyen\" <nam.nguyen powersrc.com> \"marty mcfadden\" <marty_mcfadden ogden-energy.com> \"lynn lednicky\" <lale dynegy.com> \"kent palmerton\" <kent.palmerton williams.com> \"ken hoffman\" <khoffman caithnessenergy.com> \"kassandra gough\" <kgough calpine.com> \"jonathan weisgall\" <jweisgall aol.com> \"john stout\" <john_h_stout reliantenergy.com> \"joe ronan\" <joer calpine.com> \"joe greco\" <joe.greco uaecorp.com> \"jim willey\" <elliottsa earthlink.net> \"jeff dasovich\" <jeff.dasovich enron.com> \"jack pigott\" <jackp calpine.com> \"hap boyd\" <rboyd enron.com> \"greg blue\" <gtbl dynegy.com> \"frank derosa\" <fderosa sanfrancisco.usgen.com> \"ed tomeo\" <ed.tomeo uaecorp.com> \"duane nelson\" <dnelsen msn.com> \"david parquet\" <dparque ect.enron.com> \"curtis kebler\" <curtis_l_kebler reliantenergy.com> \"carolyn baker\" <cabaker duke-energy.com> \"bob escalante\" <rescalante riobravo-gm.com> \"bob ellery\" <bellery spi-ind.com> \"bill woods\" <billw calpine.com> \"bill carlson\" <william_carlson wastemanagement.com> \"craig chancellor\" <craigc calpine.com> \"eric eisenman\" <eric.eisenman gen.pge.com> \"kate castillo\" <ccastillo riobravo-gm.com> cc: \"jan smutny jones\" <smutny iepa.com> \"steven kelley\" <steven iepa.com> \"katie kaplan\" <kaplan iepa.com> subject: ab 18x attached is the newly introduced ab 18x hertzberg and the committee analysis. ab 1x keeley as amended yesterday will be available later this morning when the senate appropriations committee meets at 10 am. julee malinowski-ball senior associate edson + modisette 916-552-7070 fax-552-7075 jmball ns.net - abx1_18_bill_20010125_introduced.pdf - analysis.ab18x.doc\n",
      "Label: 5\n"
     ]
    }
   ],
   "source": [
    "print_message(1000)"
   ]
  },
  {
   "cell_type": "markdown",
   "metadata": {
    "colab_type": "text",
    "id": "WEAEwKRlcpnu"
   },
   "source": [
    "We can see that our text is cleaner and more concise. Let us do the embedding now."
   ]
  },
  {
   "cell_type": "markdown",
   "metadata": {
    "colab_type": "text",
    "id": "2mKaSNlGcpnx"
   },
   "source": [
    "## Building the Embedding"
   ]
  },
  {
   "cell_type": "markdown",
   "metadata": {
    "colab_type": "text",
    "id": "vZ1o6f86cpn0"
   },
   "source": [
    "We will beging by fixing the number of words to take to generate the embedding. We will fix the input for prediction to 250 characters. We could do longer but for the purposese of this class we will stick with 250. The embedding will be taken arbitrarly to 100 dimensions:"
   ]
  },
  {
   "cell_type": "code",
   "execution_count": 22,
   "metadata": {
    "ExecuteTime": {
     "end_time": "2021-01-22T19:29:06.973484Z",
     "start_time": "2021-01-22T19:29:06.971484Z"
    },
    "colab": {},
    "colab_type": "code",
    "id": "tOMEfru3cpn1"
   },
   "outputs": [],
   "source": [
    "# Maximum number of words based on highest frequency:\n",
    "max_words = 1000000 \n",
    "# Maximum number of words to be accepted when predicting. \n",
    "max_length = 250\n",
    "# Setting the dimension of the embedding.\n",
    "embedding_dim = 100"
   ]
  },
  {
   "cell_type": "markdown",
   "metadata": {
    "colab_type": "text",
    "id": "Fhe9gd3Ccpn4"
   },
   "source": [
    "Let us tokenize the message:"
   ]
  },
  {
   "cell_type": "code",
   "execution_count": 23,
   "metadata": {
    "ExecuteTime": {
     "end_time": "2021-01-22T19:29:12.591045Z",
     "start_time": "2021-01-22T19:29:06.974485Z"
    },
    "colab": {},
    "colab_type": "code",
    "id": "9aEEGtnYcpn5"
   },
   "outputs": [],
   "source": [
    "tokenizer = Tokenizer(num_words=max_words, filters='!\"#$%&()*+,-./:;<=>?@[\\]^_`{|}~', lower=True)\n",
    "tokenizer.fit_on_texts(df['message'].values)\n",
    "word_index = tokenizer.word_index"
   ]
  },
  {
   "cell_type": "markdown",
   "metadata": {
    "colab_type": "text",
    "id": "aX5-2plKcpn8"
   },
   "source": [
    "We will save the tokenizer with the pickle package since it will be a requirement when using the model for future predictions:"
   ]
  },
  {
   "cell_type": "code",
   "execution_count": 24,
   "metadata": {
    "ExecuteTime": {
     "end_time": "2021-01-22T19:29:12.594033Z",
     "start_time": "2021-01-22T19:29:12.592032Z"
    },
    "colab": {},
    "colab_type": "code",
    "id": "fcgRXAc8cpn9"
   },
   "outputs": [],
   "source": [
    "# with open('tokenizer.pickle', 'wb') as handle:\n",
    "#     pickle.dump(tokenizer, handle, protocol=pickle.HIGHEST_PROTOCOL)"
   ]
  },
  {
   "cell_type": "markdown",
   "metadata": {
    "colab_type": "text",
    "id": "S29gr2g4cpoA"
   },
   "source": [
    "Let us use the tokenizer to turn the text into sequences:"
   ]
  },
  {
   "cell_type": "code",
   "execution_count": 25,
   "metadata": {
    "ExecuteTime": {
     "end_time": "2021-01-22T19:29:16.900977Z",
     "start_time": "2021-01-22T19:29:12.595665Z"
    },
    "colab": {},
    "colab_type": "code",
    "id": "G8prL044cpoD"
   },
   "outputs": [],
   "source": [
    "X = tokenizer.texts_to_sequences(df['message'].values)\n",
    "X = pad_sequences(X, maxlen=max_length)"
   ]
  },
  {
   "cell_type": "markdown",
   "metadata": {
    "colab_type": "text",
    "id": "VmdsgCGtcpoO"
   },
   "source": [
    "We can see that the shape of our sequence is the one we expected in the word embedding:"
   ]
  },
  {
   "cell_type": "code",
   "execution_count": 26,
   "metadata": {
    "ExecuteTime": {
     "end_time": "2021-01-22T19:29:16.906504Z",
     "start_time": "2021-01-22T19:29:16.901977Z"
    },
    "colab": {},
    "colab_type": "code",
    "id": "ZghWFZT1cpoP",
    "outputId": "847ae99f-4bf9-4e86-c2cd-cd704f5e6ed0"
   },
   "outputs": [
    {
     "data": {
      "text/plain": [
       "(29141, 250)"
      ]
     },
     "execution_count": 26,
     "metadata": {},
     "output_type": "execute_result"
    }
   ],
   "source": [
    "X.shape"
   ]
  },
  {
   "cell_type": "markdown",
   "metadata": {
    "colab_type": "text",
    "id": "bAgKZ5A2cpoT"
   },
   "source": [
    "Since we have 11 possible categories (labels) we need to one hot encode the label column. This means our problem is not a binary classification problem, but a multi-class text classification problem."
   ]
  },
  {
   "cell_type": "code",
   "execution_count": 27,
   "metadata": {
    "ExecuteTime": {
     "end_time": "2021-01-22T19:29:16.911505Z",
     "start_time": "2021-01-22T19:29:16.907504Z"
    },
    "colab": {},
    "colab_type": "code",
    "id": "i3ahfSYwcpoU"
   },
   "outputs": [],
   "source": [
    "Y = pd.get_dummies(df['label']).values"
   ]
  },
  {
   "cell_type": "code",
   "execution_count": 28,
   "metadata": {
    "ExecuteTime": {
     "end_time": "2021-01-22T19:29:16.916507Z",
     "start_time": "2021-01-22T19:29:16.912507Z"
    },
    "colab": {},
    "colab_type": "code",
    "id": "FXloxRTScpoZ",
    "outputId": "6547f1aa-571b-4cbf-b97a-80c40df7bb85"
   },
   "outputs": [
    {
     "data": {
      "text/plain": [
       "numpy.ndarray"
      ]
     },
     "execution_count": 28,
     "metadata": {},
     "output_type": "execute_result"
    }
   ],
   "source": [
    "type(X)"
   ]
  },
  {
   "cell_type": "markdown",
   "metadata": {
    "colab_type": "text",
    "id": "tDiAOrXrcpon"
   },
   "source": [
    "Let us convert our message embedding into a dataframe so we can manipulate it in concert with the other dataframes:"
   ]
  },
  {
   "cell_type": "code",
   "execution_count": 29,
   "metadata": {
    "ExecuteTime": {
     "end_time": "2021-01-22T19:29:16.931510Z",
     "start_time": "2021-01-22T19:29:16.917506Z"
    },
    "colab": {},
    "colab_type": "code",
    "id": "-_orbx3tcpoo"
   },
   "outputs": [],
   "source": [
    "X_vir = X.copy()\n",
    "Y_vir = Y.copy()"
   ]
  },
  {
   "cell_type": "markdown",
   "metadata": {
    "colab_type": "text",
    "id": "UkAk8H1kcpoq"
   },
   "source": [
    "Let us copy X and Y for later use since they will be modified for testing:"
   ]
  },
  {
   "cell_type": "code",
   "execution_count": 30,
   "metadata": {
    "ExecuteTime": {
     "end_time": "2021-01-22T19:29:16.934510Z",
     "start_time": "2021-01-22T19:29:16.932510Z"
    },
    "colab": {},
    "colab_type": "code",
    "id": "y_sUOcJucpor"
   },
   "outputs": [],
   "source": [
    "#Turns X into a dataframe\n",
    "array = pd.DataFrame(data=X)"
   ]
  },
  {
   "cell_type": "code",
   "execution_count": 31,
   "metadata": {
    "ExecuteTime": {
     "end_time": "2021-01-22T19:29:16.949514Z",
     "start_time": "2021-01-22T19:29:16.935510Z"
    },
    "colab": {},
    "colab_type": "code",
    "id": "c66h1OLNcpow",
    "outputId": "98b19c83-afd8-4c42-e254-103f98552ce2"
   },
   "outputs": [
    {
     "data": {
      "text/html": [
       "<div>\n",
       "<style scoped>\n",
       "    .dataframe tbody tr th:only-of-type {\n",
       "        vertical-align: middle;\n",
       "    }\n",
       "\n",
       "    .dataframe tbody tr th {\n",
       "        vertical-align: top;\n",
       "    }\n",
       "\n",
       "    .dataframe thead th {\n",
       "        text-align: right;\n",
       "    }\n",
       "</style>\n",
       "<table border=\"1\" class=\"dataframe\">\n",
       "  <thead>\n",
       "    <tr style=\"text-align: right;\">\n",
       "      <th></th>\n",
       "      <th>0</th>\n",
       "      <th>1</th>\n",
       "      <th>2</th>\n",
       "      <th>3</th>\n",
       "      <th>4</th>\n",
       "      <th>5</th>\n",
       "      <th>6</th>\n",
       "      <th>7</th>\n",
       "      <th>8</th>\n",
       "      <th>9</th>\n",
       "      <th>...</th>\n",
       "      <th>240</th>\n",
       "      <th>241</th>\n",
       "      <th>242</th>\n",
       "      <th>243</th>\n",
       "      <th>244</th>\n",
       "      <th>245</th>\n",
       "      <th>246</th>\n",
       "      <th>247</th>\n",
       "      <th>248</th>\n",
       "      <th>249</th>\n",
       "    </tr>\n",
       "  </thead>\n",
       "  <tbody>\n",
       "    <tr>\n",
       "      <th>0</th>\n",
       "      <td>0</td>\n",
       "      <td>0</td>\n",
       "      <td>0</td>\n",
       "      <td>0</td>\n",
       "      <td>0</td>\n",
       "      <td>0</td>\n",
       "      <td>0</td>\n",
       "      <td>0</td>\n",
       "      <td>0</td>\n",
       "      <td>0</td>\n",
       "      <td>...</td>\n",
       "      <td>31</td>\n",
       "      <td>14</td>\n",
       "      <td>59</td>\n",
       "      <td>225</td>\n",
       "      <td>77</td>\n",
       "      <td>1124</td>\n",
       "      <td>76015</td>\n",
       "      <td>5</td>\n",
       "      <td>13</td>\n",
       "      <td>5</td>\n",
       "    </tr>\n",
       "    <tr>\n",
       "      <th>1</th>\n",
       "      <td>0</td>\n",
       "      <td>0</td>\n",
       "      <td>0</td>\n",
       "      <td>0</td>\n",
       "      <td>0</td>\n",
       "      <td>0</td>\n",
       "      <td>0</td>\n",
       "      <td>0</td>\n",
       "      <td>0</td>\n",
       "      <td>0</td>\n",
       "      <td>...</td>\n",
       "      <td>615</td>\n",
       "      <td>758</td>\n",
       "      <td>76023</td>\n",
       "      <td>56189</td>\n",
       "      <td>17</td>\n",
       "      <td>29</td>\n",
       "      <td>132</td>\n",
       "      <td>56189</td>\n",
       "      <td>17</td>\n",
       "      <td>76024</td>\n",
       "    </tr>\n",
       "    <tr>\n",
       "      <th>2</th>\n",
       "      <td>0</td>\n",
       "      <td>0</td>\n",
       "      <td>0</td>\n",
       "      <td>0</td>\n",
       "      <td>0</td>\n",
       "      <td>0</td>\n",
       "      <td>0</td>\n",
       "      <td>0</td>\n",
       "      <td>0</td>\n",
       "      <td>0</td>\n",
       "      <td>...</td>\n",
       "      <td>6385</td>\n",
       "      <td>7909</td>\n",
       "      <td>349</td>\n",
       "      <td>23</td>\n",
       "      <td>265</td>\n",
       "      <td>1825</td>\n",
       "      <td>5</td>\n",
       "      <td>374</td>\n",
       "      <td>1365</td>\n",
       "      <td>6669</td>\n",
       "    </tr>\n",
       "    <tr>\n",
       "      <th>3</th>\n",
       "      <td>0</td>\n",
       "      <td>0</td>\n",
       "      <td>0</td>\n",
       "      <td>0</td>\n",
       "      <td>0</td>\n",
       "      <td>0</td>\n",
       "      <td>0</td>\n",
       "      <td>0</td>\n",
       "      <td>0</td>\n",
       "      <td>0</td>\n",
       "      <td>...</td>\n",
       "      <td>17</td>\n",
       "      <td>2135</td>\n",
       "      <td>8047</td>\n",
       "      <td>13689</td>\n",
       "      <td>26431</td>\n",
       "      <td>98</td>\n",
       "      <td>132</td>\n",
       "      <td>32619</td>\n",
       "      <td>17</td>\n",
       "      <td>26431</td>\n",
       "    </tr>\n",
       "    <tr>\n",
       "      <th>4</th>\n",
       "      <td>366</td>\n",
       "      <td>137</td>\n",
       "      <td>1915</td>\n",
       "      <td>47</td>\n",
       "      <td>10180</td>\n",
       "      <td>1061</td>\n",
       "      <td>8563</td>\n",
       "      <td>1816</td>\n",
       "      <td>100</td>\n",
       "      <td>21</td>\n",
       "      <td>...</td>\n",
       "      <td>5</td>\n",
       "      <td>708</td>\n",
       "      <td>3672</td>\n",
       "      <td>560</td>\n",
       "      <td>16</td>\n",
       "      <td>2485</td>\n",
       "      <td>14</td>\n",
       "      <td>86</td>\n",
       "      <td>1957</td>\n",
       "      <td>76038</td>\n",
       "    </tr>\n",
       "  </tbody>\n",
       "</table>\n",
       "<p>5 rows × 250 columns</p>\n",
       "</div>"
      ],
      "text/plain": [
       "   0    1     2    3      4     5     6     7    8    9    ...   240   241  \\\n",
       "0    0    0     0    0      0     0     0     0    0    0  ...    31    14   \n",
       "1    0    0     0    0      0     0     0     0    0    0  ...   615   758   \n",
       "2    0    0     0    0      0     0     0     0    0    0  ...  6385  7909   \n",
       "3    0    0     0    0      0     0     0     0    0    0  ...    17  2135   \n",
       "4  366  137  1915   47  10180  1061  8563  1816  100   21  ...     5   708   \n",
       "\n",
       "     242    243    244   245    246    247   248    249  \n",
       "0     59    225     77  1124  76015      5    13      5  \n",
       "1  76023  56189     17    29    132  56189    17  76024  \n",
       "2    349     23    265  1825      5    374  1365   6669  \n",
       "3   8047  13689  26431    98    132  32619    17  26431  \n",
       "4   3672    560     16  2485     14     86  1957  76038  \n",
       "\n",
       "[5 rows x 250 columns]"
      ]
     },
     "execution_count": 31,
     "metadata": {},
     "output_type": "execute_result"
    }
   ],
   "source": [
    "array.head()"
   ]
  },
  {
   "cell_type": "code",
   "execution_count": 58,
   "metadata": {
    "ExecuteTime": {
     "end_time": "2021-01-22T19:37:23.260007Z",
     "start_time": "2021-01-22T19:37:23.219999Z"
    },
    "colab": {},
    "colab_type": "code",
    "id": "A5IEkzLdcpo2"
   },
   "outputs": [],
   "source": [
    "#Concatenating the dataframe with the 250 vector representation dataframe\n",
    "result = pd.concat([df, array], axis=1)"
   ]
  },
  {
   "cell_type": "code",
   "execution_count": 59,
   "metadata": {
    "ExecuteTime": {
     "end_time": "2021-01-22T19:37:23.462272Z",
     "start_time": "2021-01-22T19:37:23.442268Z"
    },
    "colab": {},
    "colab_type": "code",
    "id": "WZMoXMLEcpo5"
   },
   "outputs": [],
   "source": [
    "result = result.drop(labels=['index','message'], axis=1)"
   ]
  },
  {
   "cell_type": "code",
   "execution_count": 60,
   "metadata": {
    "ExecuteTime": {
     "end_time": "2021-01-22T19:37:23.628626Z",
     "start_time": "2021-01-22T19:37:23.625625Z"
    },
    "colab": {},
    "colab_type": "code",
    "id": "v5Jn6Hizcpo8"
   },
   "outputs": [],
   "source": [
    "result[\"Day_of_week\"] = result[\"Day_of_week\"].astype('category')"
   ]
  },
  {
   "cell_type": "code",
   "execution_count": 61,
   "metadata": {
    "ExecuteTime": {
     "end_time": "2021-01-22T19:37:24.025563Z",
     "start_time": "2021-01-22T19:37:24.010569Z"
    },
    "colab": {},
    "colab_type": "code",
    "id": "XucvnDencppC",
    "outputId": "cf0c5ccb-0704-4415-af6a-ef6c0da081f0"
   },
   "outputs": [
    {
     "data": {
      "text/html": [
       "<div>\n",
       "<style scoped>\n",
       "    .dataframe tbody tr th:only-of-type {\n",
       "        vertical-align: middle;\n",
       "    }\n",
       "\n",
       "    .dataframe tbody tr th {\n",
       "        vertical-align: top;\n",
       "    }\n",
       "\n",
       "    .dataframe thead th {\n",
       "        text-align: right;\n",
       "    }\n",
       "</style>\n",
       "<table border=\"1\" class=\"dataframe\">\n",
       "  <thead>\n",
       "    <tr style=\"text-align: right;\">\n",
       "      <th></th>\n",
       "      <th>Day_of_week</th>\n",
       "      <th>message_length</th>\n",
       "      <th>label</th>\n",
       "      <th>0</th>\n",
       "      <th>1</th>\n",
       "      <th>2</th>\n",
       "      <th>3</th>\n",
       "      <th>4</th>\n",
       "      <th>5</th>\n",
       "      <th>6</th>\n",
       "      <th>...</th>\n",
       "      <th>240</th>\n",
       "      <th>241</th>\n",
       "      <th>242</th>\n",
       "      <th>243</th>\n",
       "      <th>244</th>\n",
       "      <th>245</th>\n",
       "      <th>246</th>\n",
       "      <th>247</th>\n",
       "      <th>248</th>\n",
       "      <th>249</th>\n",
       "    </tr>\n",
       "  </thead>\n",
       "  <tbody>\n",
       "    <tr>\n",
       "      <th>0</th>\n",
       "      <td>Tue</td>\n",
       "      <td>262</td>\n",
       "      <td>0</td>\n",
       "      <td>0</td>\n",
       "      <td>0</td>\n",
       "      <td>0</td>\n",
       "      <td>0</td>\n",
       "      <td>0</td>\n",
       "      <td>0</td>\n",
       "      <td>0</td>\n",
       "      <td>...</td>\n",
       "      <td>31</td>\n",
       "      <td>14</td>\n",
       "      <td>59</td>\n",
       "      <td>225</td>\n",
       "      <td>77</td>\n",
       "      <td>1124</td>\n",
       "      <td>76015</td>\n",
       "      <td>5</td>\n",
       "      <td>13</td>\n",
       "      <td>5</td>\n",
       "    </tr>\n",
       "    <tr>\n",
       "      <th>1</th>\n",
       "      <td>Thu</td>\n",
       "      <td>1255</td>\n",
       "      <td>0</td>\n",
       "      <td>0</td>\n",
       "      <td>0</td>\n",
       "      <td>0</td>\n",
       "      <td>0</td>\n",
       "      <td>0</td>\n",
       "      <td>0</td>\n",
       "      <td>0</td>\n",
       "      <td>...</td>\n",
       "      <td>615</td>\n",
       "      <td>758</td>\n",
       "      <td>76023</td>\n",
       "      <td>56189</td>\n",
       "      <td>17</td>\n",
       "      <td>29</td>\n",
       "      <td>132</td>\n",
       "      <td>56189</td>\n",
       "      <td>17</td>\n",
       "      <td>76024</td>\n",
       "    </tr>\n",
       "    <tr>\n",
       "      <th>2</th>\n",
       "      <td>Thu</td>\n",
       "      <td>1120</td>\n",
       "      <td>0</td>\n",
       "      <td>0</td>\n",
       "      <td>0</td>\n",
       "      <td>0</td>\n",
       "      <td>0</td>\n",
       "      <td>0</td>\n",
       "      <td>0</td>\n",
       "      <td>0</td>\n",
       "      <td>...</td>\n",
       "      <td>6385</td>\n",
       "      <td>7909</td>\n",
       "      <td>349</td>\n",
       "      <td>23</td>\n",
       "      <td>265</td>\n",
       "      <td>1825</td>\n",
       "      <td>5</td>\n",
       "      <td>374</td>\n",
       "      <td>1365</td>\n",
       "      <td>6669</td>\n",
       "    </tr>\n",
       "    <tr>\n",
       "      <th>3</th>\n",
       "      <td>Thu</td>\n",
       "      <td>541</td>\n",
       "      <td>0</td>\n",
       "      <td>0</td>\n",
       "      <td>0</td>\n",
       "      <td>0</td>\n",
       "      <td>0</td>\n",
       "      <td>0</td>\n",
       "      <td>0</td>\n",
       "      <td>0</td>\n",
       "      <td>...</td>\n",
       "      <td>17</td>\n",
       "      <td>2135</td>\n",
       "      <td>8047</td>\n",
       "      <td>13689</td>\n",
       "      <td>26431</td>\n",
       "      <td>98</td>\n",
       "      <td>132</td>\n",
       "      <td>32619</td>\n",
       "      <td>17</td>\n",
       "      <td>26431</td>\n",
       "    </tr>\n",
       "    <tr>\n",
       "      <th>4</th>\n",
       "      <td>Fri</td>\n",
       "      <td>1415</td>\n",
       "      <td>0</td>\n",
       "      <td>366</td>\n",
       "      <td>137</td>\n",
       "      <td>1915</td>\n",
       "      <td>47</td>\n",
       "      <td>10180</td>\n",
       "      <td>1061</td>\n",
       "      <td>8563</td>\n",
       "      <td>...</td>\n",
       "      <td>5</td>\n",
       "      <td>708</td>\n",
       "      <td>3672</td>\n",
       "      <td>560</td>\n",
       "      <td>16</td>\n",
       "      <td>2485</td>\n",
       "      <td>14</td>\n",
       "      <td>86</td>\n",
       "      <td>1957</td>\n",
       "      <td>76038</td>\n",
       "    </tr>\n",
       "  </tbody>\n",
       "</table>\n",
       "<p>5 rows × 253 columns</p>\n",
       "</div>"
      ],
      "text/plain": [
       "  Day_of_week  message_length label    0    1     2   3      4     5     6  \\\n",
       "0         Tue             262     0    0    0     0   0      0     0     0   \n",
       "1         Thu            1255     0    0    0     0   0      0     0     0   \n",
       "2         Thu            1120     0    0    0     0   0      0     0     0   \n",
       "3         Thu             541     0    0    0     0   0      0     0     0   \n",
       "4         Fri            1415     0  366  137  1915  47  10180  1061  8563   \n",
       "\n",
       "   ...   240   241    242    243    244   245    246    247   248    249  \n",
       "0  ...    31    14     59    225     77  1124  76015      5    13      5  \n",
       "1  ...   615   758  76023  56189     17    29    132  56189    17  76024  \n",
       "2  ...  6385  7909    349     23    265  1825      5    374  1365   6669  \n",
       "3  ...    17  2135   8047  13689  26431    98    132  32619    17  26431  \n",
       "4  ...     5   708   3672    560     16  2485     14     86  1957  76038  \n",
       "\n",
       "[5 rows x 253 columns]"
      ]
     },
     "execution_count": 61,
     "metadata": {},
     "output_type": "execute_result"
    }
   ],
   "source": [
    "result.head()"
   ]
  },
  {
   "cell_type": "code",
   "execution_count": 62,
   "metadata": {
    "ExecuteTime": {
     "end_time": "2021-01-22T19:37:24.284518Z",
     "start_time": "2021-01-22T19:37:24.263525Z"
    },
    "colab": {},
    "colab_type": "code",
    "id": "JWeAOwZpcppH",
    "outputId": "0dc98724-566c-4db3-ddd4-ceea4cf696ee"
   },
   "outputs": [
    {
     "name": "stdout",
     "output_type": "stream",
     "text": [
      "<class 'pandas.core.frame.DataFrame'>\n",
      "RangeIndex: 29141 entries, 0 to 29140\n",
      "Columns: 253 entries, Day_of_week to 249\n",
      "dtypes: category(2), int32(250), int64(1)\n",
      "memory usage: 28.1 MB\n"
     ]
    }
   ],
   "source": [
    "result.info()"
   ]
  },
  {
   "cell_type": "markdown",
   "metadata": {
    "colab_type": "text",
    "id": "DDdKs4rLcppL"
   },
   "source": [
    "Let us one-hot encode the day of the week:"
   ]
  },
  {
   "cell_type": "code",
   "execution_count": 63,
   "metadata": {
    "ExecuteTime": {
     "end_time": "2021-01-22T19:37:26.307177Z",
     "start_time": "2021-01-22T19:37:26.302176Z"
    },
    "colab": {},
    "colab_type": "code",
    "id": "t8ahJCHmcppM"
   },
   "outputs": [],
   "source": [
    "dfDummies = pd.get_dummies(result['Day_of_week'], prefix = 'Day= ')"
   ]
  },
  {
   "cell_type": "code",
   "execution_count": 64,
   "metadata": {
    "ExecuteTime": {
     "end_time": "2021-01-22T19:37:26.510361Z",
     "start_time": "2021-01-22T19:37:26.503368Z"
    },
    "colab": {},
    "colab_type": "code",
    "id": "bDtY7-vkcppf",
    "outputId": "e445ec95-f687-44b3-c7e1-c229a8b2c2d3"
   },
   "outputs": [
    {
     "data": {
      "text/html": [
       "<div>\n",
       "<style scoped>\n",
       "    .dataframe tbody tr th:only-of-type {\n",
       "        vertical-align: middle;\n",
       "    }\n",
       "\n",
       "    .dataframe tbody tr th {\n",
       "        vertical-align: top;\n",
       "    }\n",
       "\n",
       "    .dataframe thead th {\n",
       "        text-align: right;\n",
       "    }\n",
       "</style>\n",
       "<table border=\"1\" class=\"dataframe\">\n",
       "  <thead>\n",
       "    <tr style=\"text-align: right;\">\n",
       "      <th></th>\n",
       "      <th>Day= _Fri</th>\n",
       "      <th>Day= _Mon</th>\n",
       "      <th>Day= _Sat</th>\n",
       "      <th>Day= _Sun</th>\n",
       "      <th>Day= _Thu</th>\n",
       "      <th>Day= _Tue</th>\n",
       "      <th>Day= _Wed</th>\n",
       "    </tr>\n",
       "  </thead>\n",
       "  <tbody>\n",
       "    <tr>\n",
       "      <th>0</th>\n",
       "      <td>0</td>\n",
       "      <td>0</td>\n",
       "      <td>0</td>\n",
       "      <td>0</td>\n",
       "      <td>0</td>\n",
       "      <td>1</td>\n",
       "      <td>0</td>\n",
       "    </tr>\n",
       "    <tr>\n",
       "      <th>1</th>\n",
       "      <td>0</td>\n",
       "      <td>0</td>\n",
       "      <td>0</td>\n",
       "      <td>0</td>\n",
       "      <td>1</td>\n",
       "      <td>0</td>\n",
       "      <td>0</td>\n",
       "    </tr>\n",
       "    <tr>\n",
       "      <th>2</th>\n",
       "      <td>0</td>\n",
       "      <td>0</td>\n",
       "      <td>0</td>\n",
       "      <td>0</td>\n",
       "      <td>1</td>\n",
       "      <td>0</td>\n",
       "      <td>0</td>\n",
       "    </tr>\n",
       "    <tr>\n",
       "      <th>3</th>\n",
       "      <td>0</td>\n",
       "      <td>0</td>\n",
       "      <td>0</td>\n",
       "      <td>0</td>\n",
       "      <td>1</td>\n",
       "      <td>0</td>\n",
       "      <td>0</td>\n",
       "    </tr>\n",
       "    <tr>\n",
       "      <th>4</th>\n",
       "      <td>1</td>\n",
       "      <td>0</td>\n",
       "      <td>0</td>\n",
       "      <td>0</td>\n",
       "      <td>0</td>\n",
       "      <td>0</td>\n",
       "      <td>0</td>\n",
       "    </tr>\n",
       "  </tbody>\n",
       "</table>\n",
       "</div>"
      ],
      "text/plain": [
       "   Day= _Fri  Day= _Mon  Day= _Sat  Day= _Sun  Day= _Thu  Day= _Tue  Day= _Wed\n",
       "0          0          0          0          0          0          1          0\n",
       "1          0          0          0          0          1          0          0\n",
       "2          0          0          0          0          1          0          0\n",
       "3          0          0          0          0          1          0          0\n",
       "4          1          0          0          0          0          0          0"
      ]
     },
     "execution_count": 64,
     "metadata": {},
     "output_type": "execute_result"
    }
   ],
   "source": [
    "dfDummies.head()"
   ]
  },
  {
   "cell_type": "code",
   "execution_count": 65,
   "metadata": {
    "ExecuteTime": {
     "end_time": "2021-01-22T19:37:26.860592Z",
     "start_time": "2021-01-22T19:37:26.846589Z"
    },
    "colab": {},
    "colab_type": "code",
    "id": "x5jCHOu6cppm"
   },
   "outputs": [],
   "source": [
    "result = pd.concat([result, dfDummies], axis=1)"
   ]
  },
  {
   "cell_type": "code",
   "execution_count": 66,
   "metadata": {
    "ExecuteTime": {
     "end_time": "2021-01-22T19:37:27.890516Z",
     "start_time": "2021-01-22T19:37:27.871520Z"
    },
    "colab": {},
    "colab_type": "code",
    "id": "w1StkAkYcpqD"
   },
   "outputs": [],
   "source": [
    "result = result.drop(labels='Day_of_week', axis=1)"
   ]
  },
  {
   "cell_type": "markdown",
   "metadata": {
    "colab_type": "text",
    "id": "QebJAfpPcpqG"
   },
   "source": [
    "Having done all the preprocessing we know have our final dataframe which consists on 259 columns."
   ]
  },
  {
   "cell_type": "code",
   "execution_count": 67,
   "metadata": {
    "ExecuteTime": {
     "end_time": "2021-01-22T19:37:28.973708Z",
     "start_time": "2021-01-22T19:37:28.959704Z"
    },
    "colab": {},
    "colab_type": "code",
    "id": "yn360cQscpqN",
    "outputId": "06f0cf54-8f5b-4229-9945-6d6440d7c08e"
   },
   "outputs": [
    {
     "data": {
      "text/html": [
       "<div>\n",
       "<style scoped>\n",
       "    .dataframe tbody tr th:only-of-type {\n",
       "        vertical-align: middle;\n",
       "    }\n",
       "\n",
       "    .dataframe tbody tr th {\n",
       "        vertical-align: top;\n",
       "    }\n",
       "\n",
       "    .dataframe thead th {\n",
       "        text-align: right;\n",
       "    }\n",
       "</style>\n",
       "<table border=\"1\" class=\"dataframe\">\n",
       "  <thead>\n",
       "    <tr style=\"text-align: right;\">\n",
       "      <th></th>\n",
       "      <th>message_length</th>\n",
       "      <th>label</th>\n",
       "      <th>0</th>\n",
       "      <th>1</th>\n",
       "      <th>2</th>\n",
       "      <th>3</th>\n",
       "      <th>4</th>\n",
       "      <th>5</th>\n",
       "      <th>6</th>\n",
       "      <th>7</th>\n",
       "      <th>...</th>\n",
       "      <th>247</th>\n",
       "      <th>248</th>\n",
       "      <th>249</th>\n",
       "      <th>Day= _Fri</th>\n",
       "      <th>Day= _Mon</th>\n",
       "      <th>Day= _Sat</th>\n",
       "      <th>Day= _Sun</th>\n",
       "      <th>Day= _Thu</th>\n",
       "      <th>Day= _Tue</th>\n",
       "      <th>Day= _Wed</th>\n",
       "    </tr>\n",
       "  </thead>\n",
       "  <tbody>\n",
       "    <tr>\n",
       "      <th>0</th>\n",
       "      <td>262</td>\n",
       "      <td>0</td>\n",
       "      <td>0</td>\n",
       "      <td>0</td>\n",
       "      <td>0</td>\n",
       "      <td>0</td>\n",
       "      <td>0</td>\n",
       "      <td>0</td>\n",
       "      <td>0</td>\n",
       "      <td>0</td>\n",
       "      <td>...</td>\n",
       "      <td>5</td>\n",
       "      <td>13</td>\n",
       "      <td>5</td>\n",
       "      <td>0</td>\n",
       "      <td>0</td>\n",
       "      <td>0</td>\n",
       "      <td>0</td>\n",
       "      <td>0</td>\n",
       "      <td>1</td>\n",
       "      <td>0</td>\n",
       "    </tr>\n",
       "    <tr>\n",
       "      <th>1</th>\n",
       "      <td>1255</td>\n",
       "      <td>0</td>\n",
       "      <td>0</td>\n",
       "      <td>0</td>\n",
       "      <td>0</td>\n",
       "      <td>0</td>\n",
       "      <td>0</td>\n",
       "      <td>0</td>\n",
       "      <td>0</td>\n",
       "      <td>0</td>\n",
       "      <td>...</td>\n",
       "      <td>56189</td>\n",
       "      <td>17</td>\n",
       "      <td>76024</td>\n",
       "      <td>0</td>\n",
       "      <td>0</td>\n",
       "      <td>0</td>\n",
       "      <td>0</td>\n",
       "      <td>1</td>\n",
       "      <td>0</td>\n",
       "      <td>0</td>\n",
       "    </tr>\n",
       "    <tr>\n",
       "      <th>2</th>\n",
       "      <td>1120</td>\n",
       "      <td>0</td>\n",
       "      <td>0</td>\n",
       "      <td>0</td>\n",
       "      <td>0</td>\n",
       "      <td>0</td>\n",
       "      <td>0</td>\n",
       "      <td>0</td>\n",
       "      <td>0</td>\n",
       "      <td>0</td>\n",
       "      <td>...</td>\n",
       "      <td>374</td>\n",
       "      <td>1365</td>\n",
       "      <td>6669</td>\n",
       "      <td>0</td>\n",
       "      <td>0</td>\n",
       "      <td>0</td>\n",
       "      <td>0</td>\n",
       "      <td>1</td>\n",
       "      <td>0</td>\n",
       "      <td>0</td>\n",
       "    </tr>\n",
       "    <tr>\n",
       "      <th>3</th>\n",
       "      <td>541</td>\n",
       "      <td>0</td>\n",
       "      <td>0</td>\n",
       "      <td>0</td>\n",
       "      <td>0</td>\n",
       "      <td>0</td>\n",
       "      <td>0</td>\n",
       "      <td>0</td>\n",
       "      <td>0</td>\n",
       "      <td>0</td>\n",
       "      <td>...</td>\n",
       "      <td>32619</td>\n",
       "      <td>17</td>\n",
       "      <td>26431</td>\n",
       "      <td>0</td>\n",
       "      <td>0</td>\n",
       "      <td>0</td>\n",
       "      <td>0</td>\n",
       "      <td>1</td>\n",
       "      <td>0</td>\n",
       "      <td>0</td>\n",
       "    </tr>\n",
       "    <tr>\n",
       "      <th>4</th>\n",
       "      <td>1415</td>\n",
       "      <td>0</td>\n",
       "      <td>366</td>\n",
       "      <td>137</td>\n",
       "      <td>1915</td>\n",
       "      <td>47</td>\n",
       "      <td>10180</td>\n",
       "      <td>1061</td>\n",
       "      <td>8563</td>\n",
       "      <td>1816</td>\n",
       "      <td>...</td>\n",
       "      <td>86</td>\n",
       "      <td>1957</td>\n",
       "      <td>76038</td>\n",
       "      <td>1</td>\n",
       "      <td>0</td>\n",
       "      <td>0</td>\n",
       "      <td>0</td>\n",
       "      <td>0</td>\n",
       "      <td>0</td>\n",
       "      <td>0</td>\n",
       "    </tr>\n",
       "  </tbody>\n",
       "</table>\n",
       "<p>5 rows × 259 columns</p>\n",
       "</div>"
      ],
      "text/plain": [
       "   message_length label    0    1     2   3      4     5     6     7  ...  \\\n",
       "0             262     0    0    0     0   0      0     0     0     0  ...   \n",
       "1            1255     0    0    0     0   0      0     0     0     0  ...   \n",
       "2            1120     0    0    0     0   0      0     0     0     0  ...   \n",
       "3             541     0    0    0     0   0      0     0     0     0  ...   \n",
       "4            1415     0  366  137  1915  47  10180  1061  8563  1816  ...   \n",
       "\n",
       "     247   248    249  Day= _Fri  Day= _Mon  Day= _Sat  Day= _Sun  Day= _Thu  \\\n",
       "0      5    13      5          0          0          0          0          0   \n",
       "1  56189    17  76024          0          0          0          0          1   \n",
       "2    374  1365   6669          0          0          0          0          1   \n",
       "3  32619    17  26431          0          0          0          0          1   \n",
       "4     86  1957  76038          1          0          0          0          0   \n",
       "\n",
       "   Day= _Tue  Day= _Wed  \n",
       "0          1          0  \n",
       "1          0          0  \n",
       "2          0          0  \n",
       "3          0          0  \n",
       "4          0          0  \n",
       "\n",
       "[5 rows x 259 columns]"
      ]
     },
     "execution_count": 67,
     "metadata": {},
     "output_type": "execute_result"
    }
   ],
   "source": [
    "result.head()"
   ]
  },
  {
   "cell_type": "markdown",
   "metadata": {
    "colab_type": "text",
    "id": "82iIorzfcpqR"
   },
   "source": [
    "It is important to normalize numerical values like the message length and maybe the vector representation. We will leave it as it is but we will later test the effect of normalizing the 250 vector representation."
   ]
  },
  {
   "cell_type": "code",
   "execution_count": 70,
   "metadata": {
    "ExecuteTime": {
     "end_time": "2021-01-22T19:37:49.590149Z",
     "start_time": "2021-01-22T19:37:49.553328Z"
    }
   },
   "outputs": [
    {
     "data": {
      "text/html": [
       "<div>\n",
       "<style scoped>\n",
       "    .dataframe tbody tr th:only-of-type {\n",
       "        vertical-align: middle;\n",
       "    }\n",
       "\n",
       "    .dataframe tbody tr th {\n",
       "        vertical-align: top;\n",
       "    }\n",
       "\n",
       "    .dataframe thead th {\n",
       "        text-align: right;\n",
       "    }\n",
       "</style>\n",
       "<table border=\"1\" class=\"dataframe\">\n",
       "  <thead>\n",
       "    <tr style=\"text-align: right;\">\n",
       "      <th></th>\n",
       "      <th>message_length</th>\n",
       "      <th>label</th>\n",
       "      <th>0</th>\n",
       "      <th>1</th>\n",
       "      <th>2</th>\n",
       "      <th>3</th>\n",
       "      <th>4</th>\n",
       "      <th>5</th>\n",
       "      <th>6</th>\n",
       "      <th>7</th>\n",
       "      <th>...</th>\n",
       "      <th>240</th>\n",
       "      <th>241</th>\n",
       "      <th>242</th>\n",
       "      <th>243</th>\n",
       "      <th>244</th>\n",
       "      <th>245</th>\n",
       "      <th>246</th>\n",
       "      <th>247</th>\n",
       "      <th>248</th>\n",
       "      <th>249</th>\n",
       "    </tr>\n",
       "  </thead>\n",
       "  <tbody>\n",
       "    <tr>\n",
       "      <th>0</th>\n",
       "      <td>262</td>\n",
       "      <td>0</td>\n",
       "      <td>0</td>\n",
       "      <td>0</td>\n",
       "      <td>0</td>\n",
       "      <td>0</td>\n",
       "      <td>0</td>\n",
       "      <td>0</td>\n",
       "      <td>0</td>\n",
       "      <td>0</td>\n",
       "      <td>...</td>\n",
       "      <td>31</td>\n",
       "      <td>14</td>\n",
       "      <td>59</td>\n",
       "      <td>225</td>\n",
       "      <td>77</td>\n",
       "      <td>1124</td>\n",
       "      <td>76015</td>\n",
       "      <td>5</td>\n",
       "      <td>13</td>\n",
       "      <td>5</td>\n",
       "    </tr>\n",
       "    <tr>\n",
       "      <th>1</th>\n",
       "      <td>1255</td>\n",
       "      <td>0</td>\n",
       "      <td>0</td>\n",
       "      <td>0</td>\n",
       "      <td>0</td>\n",
       "      <td>0</td>\n",
       "      <td>0</td>\n",
       "      <td>0</td>\n",
       "      <td>0</td>\n",
       "      <td>0</td>\n",
       "      <td>...</td>\n",
       "      <td>615</td>\n",
       "      <td>758</td>\n",
       "      <td>76023</td>\n",
       "      <td>56189</td>\n",
       "      <td>17</td>\n",
       "      <td>29</td>\n",
       "      <td>132</td>\n",
       "      <td>56189</td>\n",
       "      <td>17</td>\n",
       "      <td>76024</td>\n",
       "    </tr>\n",
       "    <tr>\n",
       "      <th>2</th>\n",
       "      <td>1120</td>\n",
       "      <td>0</td>\n",
       "      <td>0</td>\n",
       "      <td>0</td>\n",
       "      <td>0</td>\n",
       "      <td>0</td>\n",
       "      <td>0</td>\n",
       "      <td>0</td>\n",
       "      <td>0</td>\n",
       "      <td>0</td>\n",
       "      <td>...</td>\n",
       "      <td>6385</td>\n",
       "      <td>7909</td>\n",
       "      <td>349</td>\n",
       "      <td>23</td>\n",
       "      <td>265</td>\n",
       "      <td>1825</td>\n",
       "      <td>5</td>\n",
       "      <td>374</td>\n",
       "      <td>1365</td>\n",
       "      <td>6669</td>\n",
       "    </tr>\n",
       "    <tr>\n",
       "      <th>3</th>\n",
       "      <td>541</td>\n",
       "      <td>0</td>\n",
       "      <td>0</td>\n",
       "      <td>0</td>\n",
       "      <td>0</td>\n",
       "      <td>0</td>\n",
       "      <td>0</td>\n",
       "      <td>0</td>\n",
       "      <td>0</td>\n",
       "      <td>0</td>\n",
       "      <td>...</td>\n",
       "      <td>17</td>\n",
       "      <td>2135</td>\n",
       "      <td>8047</td>\n",
       "      <td>13689</td>\n",
       "      <td>26431</td>\n",
       "      <td>98</td>\n",
       "      <td>132</td>\n",
       "      <td>32619</td>\n",
       "      <td>17</td>\n",
       "      <td>26431</td>\n",
       "    </tr>\n",
       "    <tr>\n",
       "      <th>4</th>\n",
       "      <td>1415</td>\n",
       "      <td>0</td>\n",
       "      <td>366</td>\n",
       "      <td>137</td>\n",
       "      <td>1915</td>\n",
       "      <td>47</td>\n",
       "      <td>10180</td>\n",
       "      <td>1061</td>\n",
       "      <td>8563</td>\n",
       "      <td>1816</td>\n",
       "      <td>...</td>\n",
       "      <td>5</td>\n",
       "      <td>708</td>\n",
       "      <td>3672</td>\n",
       "      <td>560</td>\n",
       "      <td>16</td>\n",
       "      <td>2485</td>\n",
       "      <td>14</td>\n",
       "      <td>86</td>\n",
       "      <td>1957</td>\n",
       "      <td>76038</td>\n",
       "    </tr>\n",
       "    <tr>\n",
       "      <th>...</th>\n",
       "      <td>...</td>\n",
       "      <td>...</td>\n",
       "      <td>...</td>\n",
       "      <td>...</td>\n",
       "      <td>...</td>\n",
       "      <td>...</td>\n",
       "      <td>...</td>\n",
       "      <td>...</td>\n",
       "      <td>...</td>\n",
       "      <td>...</td>\n",
       "      <td>...</td>\n",
       "      <td>...</td>\n",
       "      <td>...</td>\n",
       "      <td>...</td>\n",
       "      <td>...</td>\n",
       "      <td>...</td>\n",
       "      <td>...</td>\n",
       "      <td>...</td>\n",
       "      <td>...</td>\n",
       "      <td>...</td>\n",
       "      <td>...</td>\n",
       "    </tr>\n",
       "    <tr>\n",
       "      <th>29136</th>\n",
       "      <td>700</td>\n",
       "      <td>8</td>\n",
       "      <td>0</td>\n",
       "      <td>0</td>\n",
       "      <td>0</td>\n",
       "      <td>0</td>\n",
       "      <td>0</td>\n",
       "      <td>0</td>\n",
       "      <td>0</td>\n",
       "      <td>0</td>\n",
       "      <td>...</td>\n",
       "      <td>44</td>\n",
       "      <td>137</td>\n",
       "      <td>77</td>\n",
       "      <td>1193</td>\n",
       "      <td>2030</td>\n",
       "      <td>1449</td>\n",
       "      <td>2469</td>\n",
       "      <td>8248</td>\n",
       "      <td>693</td>\n",
       "      <td>183</td>\n",
       "    </tr>\n",
       "    <tr>\n",
       "      <th>29137</th>\n",
       "      <td>510</td>\n",
       "      <td>8</td>\n",
       "      <td>0</td>\n",
       "      <td>0</td>\n",
       "      <td>0</td>\n",
       "      <td>0</td>\n",
       "      <td>0</td>\n",
       "      <td>0</td>\n",
       "      <td>0</td>\n",
       "      <td>0</td>\n",
       "      <td>...</td>\n",
       "      <td>10368</td>\n",
       "      <td>1668</td>\n",
       "      <td>46331</td>\n",
       "      <td>176</td>\n",
       "      <td>316</td>\n",
       "      <td>10289</td>\n",
       "      <td>6979</td>\n",
       "      <td>17</td>\n",
       "      <td>76005</td>\n",
       "      <td>183</td>\n",
       "    </tr>\n",
       "    <tr>\n",
       "      <th>29138</th>\n",
       "      <td>6981</td>\n",
       "      <td>8</td>\n",
       "      <td>1860</td>\n",
       "      <td>485</td>\n",
       "      <td>1651</td>\n",
       "      <td>18</td>\n",
       "      <td>870</td>\n",
       "      <td>37</td>\n",
       "      <td>101</td>\n",
       "      <td>446</td>\n",
       "      <td>...</td>\n",
       "      <td>1142</td>\n",
       "      <td>15083</td>\n",
       "      <td>231</td>\n",
       "      <td>154</td>\n",
       "      <td>3985</td>\n",
       "      <td>17195</td>\n",
       "      <td>1027</td>\n",
       "      <td>154</td>\n",
       "      <td>6870</td>\n",
       "      <td>21750</td>\n",
       "    </tr>\n",
       "    <tr>\n",
       "      <th>29139</th>\n",
       "      <td>3965</td>\n",
       "      <td>8</td>\n",
       "      <td>1573</td>\n",
       "      <td>16</td>\n",
       "      <td>1788</td>\n",
       "      <td>13</td>\n",
       "      <td>22</td>\n",
       "      <td>686</td>\n",
       "      <td>35</td>\n",
       "      <td>720</td>\n",
       "      <td>...</td>\n",
       "      <td>21190</td>\n",
       "      <td>519</td>\n",
       "      <td>10368</td>\n",
       "      <td>1668</td>\n",
       "      <td>46331</td>\n",
       "      <td>176</td>\n",
       "      <td>316</td>\n",
       "      <td>10289</td>\n",
       "      <td>6979</td>\n",
       "      <td>17</td>\n",
       "    </tr>\n",
       "    <tr>\n",
       "      <th>29140</th>\n",
       "      <td>501</td>\n",
       "      <td>8</td>\n",
       "      <td>0</td>\n",
       "      <td>0</td>\n",
       "      <td>0</td>\n",
       "      <td>0</td>\n",
       "      <td>0</td>\n",
       "      <td>0</td>\n",
       "      <td>0</td>\n",
       "      <td>0</td>\n",
       "      <td>...</td>\n",
       "      <td>400</td>\n",
       "      <td>1698</td>\n",
       "      <td>364</td>\n",
       "      <td>154</td>\n",
       "      <td>546</td>\n",
       "      <td>14287</td>\n",
       "      <td>268</td>\n",
       "      <td>154</td>\n",
       "      <td>1065</td>\n",
       "      <td>3487</td>\n",
       "    </tr>\n",
       "  </tbody>\n",
       "</table>\n",
       "<p>29141 rows × 252 columns</p>\n",
       "</div>"
      ],
      "text/plain": [
       "       message_length label     0    1     2   3      4     5     6     7  \\\n",
       "0                 262     0     0    0     0   0      0     0     0     0   \n",
       "1                1255     0     0    0     0   0      0     0     0     0   \n",
       "2                1120     0     0    0     0   0      0     0     0     0   \n",
       "3                 541     0     0    0     0   0      0     0     0     0   \n",
       "4                1415     0   366  137  1915  47  10180  1061  8563  1816   \n",
       "...               ...   ...   ...  ...   ...  ..    ...   ...   ...   ...   \n",
       "29136             700     8     0    0     0   0      0     0     0     0   \n",
       "29137             510     8     0    0     0   0      0     0     0     0   \n",
       "29138            6981     8  1860  485  1651  18    870    37   101   446   \n",
       "29139            3965     8  1573   16  1788  13     22   686    35   720   \n",
       "29140             501     8     0    0     0   0      0     0     0     0   \n",
       "\n",
       "       ...    240    241    242    243    244    245    246    247    248  \\\n",
       "0      ...     31     14     59    225     77   1124  76015      5     13   \n",
       "1      ...    615    758  76023  56189     17     29    132  56189     17   \n",
       "2      ...   6385   7909    349     23    265   1825      5    374   1365   \n",
       "3      ...     17   2135   8047  13689  26431     98    132  32619     17   \n",
       "4      ...      5    708   3672    560     16   2485     14     86   1957   \n",
       "...    ...    ...    ...    ...    ...    ...    ...    ...    ...    ...   \n",
       "29136  ...     44    137     77   1193   2030   1449   2469   8248    693   \n",
       "29137  ...  10368   1668  46331    176    316  10289   6979     17  76005   \n",
       "29138  ...   1142  15083    231    154   3985  17195   1027    154   6870   \n",
       "29139  ...  21190    519  10368   1668  46331    176    316  10289   6979   \n",
       "29140  ...    400   1698    364    154    546  14287    268    154   1065   \n",
       "\n",
       "         249  \n",
       "0          5  \n",
       "1      76024  \n",
       "2       6669  \n",
       "3      26431  \n",
       "4      76038  \n",
       "...      ...  \n",
       "29136    183  \n",
       "29137    183  \n",
       "29138  21750  \n",
       "29139     17  \n",
       "29140   3487  \n",
       "\n",
       "[29141 rows x 252 columns]"
      ]
     },
     "execution_count": 70,
     "metadata": {},
     "output_type": "execute_result"
    }
   ],
   "source": [
    "result.iloc[:,:252]"
   ]
  },
  {
   "cell_type": "code",
   "execution_count": 71,
   "metadata": {
    "ExecuteTime": {
     "end_time": "2021-01-22T19:38:06.032847Z",
     "start_time": "2021-01-22T19:38:06.023845Z"
    },
    "colab": {},
    "colab_type": "code",
    "id": "HudRIo_HcpqS"
   },
   "outputs": [],
   "source": [
    "from sklearn import preprocessing\n",
    "x = result[['message_length']].values #returns a numpy array\n",
    "# x = result.iloc[:,:252].values #returns a numpy array"
   ]
  },
  {
   "cell_type": "code",
   "execution_count": 72,
   "metadata": {
    "ExecuteTime": {
     "end_time": "2021-01-22T19:38:10.465020Z",
     "start_time": "2021-01-22T19:38:10.454018Z"
    },
    "colab": {},
    "colab_type": "code",
    "id": "waMbq95NcpqU",
    "outputId": "fe15c886-25ff-4f70-eaa7-ab73e5bac070"
   },
   "outputs": [],
   "source": [
    "min_max_scaler = preprocessing.MinMaxScaler()\n",
    "x_scaled = min_max_scaler.fit_transform(x)\n",
    "result['message_length'] = pd.DataFrame(x_scaled)\n",
    "# result.iloc[:,:252] = pd.DataFrame(x_scaled)"
   ]
  },
  {
   "cell_type": "code",
   "execution_count": 73,
   "metadata": {
    "ExecuteTime": {
     "end_time": "2021-01-22T19:38:11.549261Z",
     "start_time": "2021-01-22T19:38:11.526255Z"
    },
    "colab": {},
    "colab_type": "code",
    "id": "YV7V4ifhcpqY"
   },
   "outputs": [],
   "source": [
    "X = result.loc[:, result.columns != 'label']"
   ]
  },
  {
   "cell_type": "code",
   "execution_count": 74,
   "metadata": {
    "ExecuteTime": {
     "end_time": "2021-01-22T19:38:12.570827Z",
     "start_time": "2021-01-22T19:38:12.566827Z"
    },
    "colab": {},
    "colab_type": "code",
    "id": "srq615Jncpqc"
   },
   "outputs": [],
   "source": [
    "#Y = result['label']\n",
    "Y = pd.get_dummies(result['label']).values"
   ]
  },
  {
   "cell_type": "markdown",
   "metadata": {
    "colab_type": "text",
    "id": "-OL4wZnKcpqf"
   },
   "source": [
    "It is time now to split our dataset into a training and testing set. It is improtant that we do this in a stratiffied way since the label distribution is non uniform. Notice the stratify parameter in the train_test_split() method:"
   ]
  },
  {
   "cell_type": "code",
   "execution_count": 75,
   "metadata": {
    "ExecuteTime": {
     "end_time": "2021-01-22T19:38:14.176476Z",
     "start_time": "2021-01-22T19:38:13.758367Z"
    },
    "colab": {},
    "colab_type": "code",
    "id": "GY2ax3d9cpqj",
    "outputId": "c4cf52f8-c7e9-43da-b061-45685f2b2587"
   },
   "outputs": [
    {
     "name": "stdout",
     "output_type": "stream",
     "text": [
      "(26226, 258) (26226, 11)\n",
      "(2915, 258) (2915, 11)\n"
     ]
    }
   ],
   "source": [
    "X_train, X_test, Y_train, Y_test = train_test_split(X,Y, test_size = 0.10, random_state = 42, stratify=Y)\n",
    "print(X_train.shape,Y_train.shape)\n",
    "print(X_test.shape,Y_test.shape)"
   ]
  },
  {
   "cell_type": "markdown",
   "metadata": {
    "colab_type": "text",
    "id": "grWf96Kkcpqn"
   },
   "source": [
    "We will now separate the word embedding representation from the messae length and the one hot encoded day of the week:"
   ]
  },
  {
   "cell_type": "code",
   "execution_count": 76,
   "metadata": {
    "ExecuteTime": {
     "end_time": "2021-01-22T19:38:15.557187Z",
     "start_time": "2021-01-22T19:38:15.536200Z"
    },
    "colab": {},
    "colab_type": "code",
    "id": "ag371hxpcprE"
   },
   "outputs": [],
   "source": [
    "X_train_emb = X_train.drop(['message_length', 'Day= _Fri', 'Day= _Mon', 'Day= _Sat', 'Day= _Sun', 'Day= _Thu', 'Day= _Tue', 'Day= _Wed'], axis=1)\n",
    "X_train_noemb = X_train[['message_length', 'Day= _Fri', 'Day= _Mon', 'Day= _Sat', 'Day= _Sun', 'Day= _Thu', 'Day= _Tue', 'Day= _Wed']]\n",
    "X_test_emb = X_test.drop(['message_length', 'Day= _Fri', 'Day= _Mon', 'Day= _Sat', 'Day= _Sun', 'Day= _Thu', 'Day= _Tue', 'Day= _Wed'], axis=1)\n",
    "X_test_noemb = X_test[['message_length', 'Day= _Fri', 'Day= _Mon', 'Day= _Sat', 'Day= _Sun', 'Day= _Thu', 'Day= _Tue', 'Day= _Wed']]"
   ]
  },
  {
   "cell_type": "markdown",
   "metadata": {
    "colab_type": "text",
    "id": "OUjojQllcprG"
   },
   "source": [
    "## LSTM Building and Modeling"
   ]
  },
  {
   "cell_type": "code",
   "execution_count": 77,
   "metadata": {
    "ExecuteTime": {
     "end_time": "2021-01-22T19:38:17.874722Z",
     "start_time": "2021-01-22T19:38:17.870730Z"
    },
    "colab": {},
    "colab_type": "code",
    "id": "UUmtEdbGcprH"
   },
   "outputs": [],
   "source": [
    "from tensorflow.keras.layers import BatchNormalization, Conv2D, MaxPooling2D, Activation, Dropout, Dense, Embedding, LSTM, SpatialDropout1D\n",
    "from tensorflow.keras.layers import Flatten, Input, concatenate\n",
    "from tensorflow.keras.models import Model, Sequential\n",
    "from tensorflow.keras.callbacks import EarlyStopping\n",
    "from tensorflow.keras import regularizers"
   ]
  },
  {
   "cell_type": "markdown",
   "metadata": {
    "colab_type": "text",
    "id": "lDt4nxJJcprM"
   },
   "source": [
    "Adding the Message length, one hot encoded date actually hurts our model. Therefore we will stick with our previous LSTM Model (only message embedding as input)."
   ]
  },
  {
   "cell_type": "markdown",
   "metadata": {
    "colab_type": "text",
    "id": "hKdPoXOEcprN"
   },
   "source": [
    "### LSTM Model only using the Message Embedding"
   ]
  },
  {
   "cell_type": "markdown",
   "metadata": {
    "colab_type": "text",
    "id": "Xwonzu-9cprO"
   },
   "source": [
    "We will use a simple sequential model since we do not require to pass two inputs: We will also use the same hyperparameters that we specified in the previous model:"
   ]
  },
  {
   "cell_type": "code",
   "execution_count": 132,
   "metadata": {
    "ExecuteTime": {
     "end_time": "2021-01-23T03:03:25.799252Z",
     "start_time": "2021-01-23T03:03:24.852963Z"
    }
   },
   "outputs": [
    {
     "name": "stdout",
     "output_type": "stream",
     "text": [
      "Model: \"sequential_13\"\n",
      "_________________________________________________________________\n",
      "Layer (type)                 Output Shape              Param #   \n",
      "=================================================================\n",
      "embedding_13 (Embedding)     (None, 250, 100)          100000000 \n",
      "_________________________________________________________________\n",
      "bidirectional_13 (Bidirectio (None, 200)               160800    \n",
      "_________________________________________________________________\n",
      "dense_17 (Dense)             (None, 100)               20100     \n",
      "_________________________________________________________________\n",
      "dense_18 (Dense)             (None, 11)                1111      \n",
      "=================================================================\n",
      "Total params: 100,182,011\n",
      "Trainable params: 100,182,011\n",
      "Non-trainable params: 0\n",
      "_________________________________________________________________\n"
     ]
    }
   ],
   "source": [
    "model = tf.keras.Sequential([\n",
    "    Embedding(max_words, embedding_dim, input_length=X_vir.shape[1]),\n",
    "    tf.keras.layers.Bidirectional(tf.keras.layers.LSTM(embedding_dim)),\n",
    "    tf.keras.layers.Dense(embedding_dim, activation='relu'),\n",
    "    tf.keras.layers.Dense(11, activation='softmax')\n",
    "])\n",
    "model.summary()"
   ]
  },
  {
   "cell_type": "code",
   "execution_count": 133,
   "metadata": {
    "ExecuteTime": {
     "end_time": "2021-01-23T03:10:46.229546Z",
     "start_time": "2021-01-23T03:03:26.325310Z"
    }
   },
   "outputs": [
    {
     "name": "stdout",
     "output_type": "stream",
     "text": [
      "Train on 23603 samples, validate on 2623 samples\n",
      "Epoch 1/10\n",
      "23603/23603 [==============================] - 78s 3ms/sample - loss: 1.8928 - accuracy: 0.3871 - val_loss: 1.6948 - val_accuracy: 0.4339\n",
      "Epoch 2/10\n",
      "23603/23603 [==============================] - 72s 3ms/sample - loss: 1.4181 - accuracy: 0.5293 - val_loss: 1.3260 - val_accuracy: 0.5612\n",
      "Epoch 3/10\n",
      "23603/23603 [==============================] - 73s 3ms/sample - loss: 0.9388 - accuracy: 0.7008 - val_loss: 1.2344 - val_accuracy: 0.5997\n",
      "Epoch 4/10\n",
      "23603/23603 [==============================] - 73s 3ms/sample - loss: 0.6365 - accuracy: 0.7987 - val_loss: 1.2908 - val_accuracy: 0.6111\n",
      "Epoch 5/10\n",
      "23603/23603 [==============================] - 73s 3ms/sample - loss: 0.4666 - accuracy: 0.8536 - val_loss: 1.3839 - val_accuracy: 0.6138\n",
      "Epoch 6/10\n",
      "23603/23603 [==============================] - 72s 3ms/sample - loss: 0.3660 - accuracy: 0.8875 - val_loss: 1.4675 - val_accuracy: 0.6218\n"
     ]
    }
   ],
   "source": [
    "model.compile(loss='categorical_crossentropy', optimizer='adam', metrics=['accuracy'])\n",
    "\n",
    "epochs = 10\n",
    "batch_size = 300\n",
    "\n",
    "history_emb = model.fit(X_train_emb, Y_train, epochs=epochs, \n",
    "                    batch_size=batch_size, validation_split=0.1,\n",
    "                    callbacks=[EarlyStopping(monitor='val_loss', patience=3, min_delta=0.0001)])"
   ]
  },
  {
   "cell_type": "code",
   "execution_count": 134,
   "metadata": {
    "ExecuteTime": {
     "end_time": "2021-01-23T03:10:46.344581Z",
     "start_time": "2021-01-23T03:10:46.231548Z"
    }
   },
   "outputs": [
    {
     "data": {
      "image/png": "[encoded data removed]",
      "text/plain": [
       "<Figure size 432x288 with 1 Axes>"
      ]
     },
     "metadata": {
      "needs_background": "light"
     },
     "output_type": "display_data"
    }
   ],
   "source": [
    "plt.title('Accuracy')\n",
    "plt.plot(history_emb.history['accuracy'], label='train')\n",
    "plt.plot(history_emb.history['val_accuracy'], label='test')\n",
    "plt.legend()\n",
    "plt.show();"
   ]
  },
  {
   "cell_type": "code",
   "execution_count": 139,
   "metadata": {
    "ExecuteTime": {
     "end_time": "2021-01-23T03:12:22.364123Z",
     "start_time": "2021-01-23T03:12:20.971652Z"
    }
   },
   "outputs": [
    {
     "name": "stdout",
     "output_type": "stream",
     "text": [
      "Model: \"sequential_14\"\n",
      "_________________________________________________________________\n",
      "Layer (type)                 Output Shape              Param #   \n",
      "=================================================================\n",
      "embedding_14 (Embedding)     (None, 250, 100)          100000000 \n",
      "_________________________________________________________________\n",
      "bidirectional_14 (Bidirectio (None, 250, 200)          160800    \n",
      "_________________________________________________________________\n",
      "bidirectional_15 (Bidirectio (None, 100)               100400    \n",
      "_________________________________________________________________\n",
      "dense_19 (Dense)             (None, 33)                3333      \n",
      "_________________________________________________________________\n",
      "dense_20 (Dense)             (None, 11)                374       \n",
      "=================================================================\n",
      "Total params: 100,264,907\n",
      "Trainable params: 100,264,907\n",
      "Non-trainable params: 0\n",
      "_________________________________________________________________\n"
     ]
    }
   ],
   "source": [
    "model_v2 = Sequential()\n",
    "model_v2.add(Embedding(max_words, embedding_dim, input_length=X_vir.shape[1]))\n",
    "model_v2.add(tf.keras.layers.Bidirectional(LSTM(embedding_dim, return_sequences=True)))\n",
    "model_v2.add(tf.keras.layers.Bidirectional(LSTM(int(embedding_dim/2))))\n",
    "model_v2.add(Dense(int(embedding_dim/3), activation='relu'))\n",
    "model_v2.add(Dense(11, activation='softmax'))\n",
    "\n",
    "model_v2.summary()"
   ]
  },
  {
   "cell_type": "code",
   "execution_count": 140,
   "metadata": {
    "ExecuteTime": {
     "end_time": "2021-01-23T03:19:55.232530Z",
     "start_time": "2021-01-23T03:12:25.501075Z"
    }
   },
   "outputs": [
    {
     "name": "stdout",
     "output_type": "stream",
     "text": [
      "Train on 23603 samples, validate on 2623 samples\n",
      "Epoch 1/10\n",
      "23603/23603 [==============================] - 78s 3ms/sample - loss: 1.8819 - accuracy: 0.3891 - val_loss: 1.6810 - val_accuracy: 0.4072\n",
      "Epoch 2/10\n",
      "23603/23603 [==============================] - 74s 3ms/sample - loss: 1.4954 - accuracy: 0.4902 - val_loss: 1.4171 - val_accuracy: 0.5376\n",
      "Epoch 3/10\n",
      "23603/23603 [==============================] - 74s 3ms/sample - loss: 1.0252 - accuracy: 0.6716 - val_loss: 1.2824 - val_accuracy: 0.5928\n",
      "Epoch 4/10\n",
      "23603/23603 [==============================] - 75s 3ms/sample - loss: 0.6857 - accuracy: 0.7885 - val_loss: 1.3527 - val_accuracy: 0.6054\n",
      "Epoch 5/10\n",
      "23603/23603 [==============================] - 74s 3ms/sample - loss: 0.4901 - accuracy: 0.8543 - val_loss: 1.4006 - val_accuracy: 0.6134\n",
      "Epoch 6/10\n",
      "23603/23603 [==============================] - 75s 3ms/sample - loss: 0.3645 - accuracy: 0.8951 - val_loss: 1.4791 - val_accuracy: 0.6096\n"
     ]
    }
   ],
   "source": [
    "model_v2.compile(loss='categorical_crossentropy', optimizer='adam', metrics=['accuracy'])\n",
    "\n",
    "epochs = 10\n",
    "batch_size = 300\n",
    "\n",
    "history_emb_v2 = model_v2.fit(X_train_emb, Y_train, epochs=epochs, \n",
    "                    batch_size=batch_size, validation_split=0.1,\n",
    "                    callbacks=[EarlyStopping(monitor='val_loss', patience=3, min_delta=0.0001)])"
   ]
  },
  {
   "cell_type": "code",
   "execution_count": 141,
   "metadata": {
    "ExecuteTime": {
     "end_time": "2021-01-23T03:19:55.346564Z",
     "start_time": "2021-01-23T03:19:55.233523Z"
    }
   },
   "outputs": [
    {
     "data": {
      "image/png": "[encoded data removed]",
      "text/plain": [
       "<Figure size 432x288 with 1 Axes>"
      ]
     },
     "metadata": {
      "needs_background": "light"
     },
     "output_type": "display_data"
    }
   ],
   "source": [
    "plt.title('Accuracy')\n",
    "plt.plot(history_emb_v2.history['accuracy'], label='train')\n",
    "plt.plot(history_emb_v2.history['val_accuracy'], label='test')\n",
    "plt.legend()\n",
    "plt.show();"
   ]
  },
  {
   "cell_type": "code",
   "execution_count": 153,
   "metadata": {
    "ExecuteTime": {
     "end_time": "2021-01-23T03:33:19.490210Z",
     "start_time": "2021-01-23T03:33:18.724755Z"
    },
    "colab": {},
    "colab_type": "code",
    "id": "dMhjeXYIcprP",
    "outputId": "85d3d587-7fda-4c39-8cec-d23e5e07d58b"
   },
   "outputs": [
    {
     "name": "stdout",
     "output_type": "stream",
     "text": [
      "Model: \"sequential_15\"\n",
      "_________________________________________________________________\n",
      "Layer (type)                 Output Shape              Param #   \n",
      "=================================================================\n",
      "embedding_15 (Embedding)     (None, 250, 100)          100000000 \n",
      "_________________________________________________________________\n",
      "spatial_dropout1d_3 (Spatial (None, 250, 100)          0         \n",
      "_________________________________________________________________\n",
      "lstm_19 (LSTM)               (None, 100)               80400     \n",
      "_________________________________________________________________\n",
      "dense_21 (Dense)             (None, 11)                1111      \n",
      "=================================================================\n",
      "Total params: 100,081,511\n",
      "Trainable params: 100,081,511\n",
      "Non-trainable params: 0\n",
      "_________________________________________________________________\n",
      "None\n"
     ]
    }
   ],
   "source": [
    "model_emb = Sequential()\n",
    "model_emb.add(Embedding(max_words, embedding_dim, input_length=X_vir.shape[1]))\n",
    "#model_emb.add(Embedding(max_words, embedding_dim, input_length=X_vir.shape[1], activity_regularizer=regularizers.l1(0.01)))\n",
    "model_emb.add(SpatialDropout1D(0.2))\n",
    "model_emb.add(LSTM(100, dropout=0.2, recurrent_dropout=0.2))\n",
    "model_emb.add(Dense(11, activation='softmax'))\n",
    "model_emb.compile(loss='categorical_crossentropy', optimizer='adam', metrics=['accuracy'])\n",
    "print(model_emb.summary())"
   ]
  },
  {
   "cell_type": "markdown",
   "metadata": {
    "colab_type": "text",
    "id": "GedE6hTecprS"
   },
   "source": [
    "Let us train the model for 30 epochs and a batch size of 150, we will do a validation split of 0.1 on the training split, and also use early stopping using validation loss. This will prevent ovefitting the model. "
   ]
  },
  {
   "cell_type": "code",
   "execution_count": 154,
   "metadata": {
    "ExecuteTime": {
     "end_time": "2021-01-23T03:51:08.159093Z",
     "start_time": "2021-01-23T03:33:23.294477Z"
    },
    "colab": {},
    "colab_type": "code",
    "id": "LtPH13-lcprT",
    "outputId": "2e061616-0386-4514-fd3e-29a7fed320b4"
   },
   "outputs": [
    {
     "name": "stdout",
     "output_type": "stream",
     "text": [
      "Train on 23603 samples, validate on 2623 samples\n",
      "Epoch 1/30\n",
      "23603/23603 [==============================] - 157s 7ms/sample - loss: 1.8421 - accuracy: 0.3964 - val_loss: 1.6374 - val_accuracy: 0.4483\n",
      "Epoch 2/30\n",
      "23603/23603 [==============================] - 152s 6ms/sample - loss: 1.3819 - accuracy: 0.5501 - val_loss: 1.3203 - val_accuracy: 0.5745\n",
      "Epoch 3/30\n",
      "23603/23603 [==============================] - 152s 6ms/sample - loss: 0.9932 - accuracy: 0.6829 - val_loss: 1.2813 - val_accuracy: 0.6069\n",
      "Epoch 4/30\n",
      "23603/23603 [==============================] - 152s 6ms/sample - loss: 0.7420 - accuracy: 0.7645 - val_loss: 1.2579 - val_accuracy: 0.6207\n",
      "Epoch 5/30\n",
      "23603/23603 [==============================] - 150s 6ms/sample - loss: 0.5754 - accuracy: 0.8149 - val_loss: 1.3095 - val_accuracy: 0.6233\n",
      "Epoch 6/30\n",
      "23603/23603 [==============================] - 150s 6ms/sample - loss: 0.4730 - accuracy: 0.8493 - val_loss: 1.3611 - val_accuracy: 0.6195\n",
      "Epoch 7/30\n",
      "23603/23603 [==============================] - 151s 6ms/sample - loss: 0.3949 - accuracy: 0.8750 - val_loss: 1.4031 - val_accuracy: 0.6264\n"
     ]
    }
   ],
   "source": [
    "epochs = 30\n",
    "batch_size = 150\n",
    "\n",
    "history_emb = model_emb.fit(X_train_emb, Y_train, epochs=epochs, \n",
    "                    batch_size=batch_size, validation_split=0.1,\n",
    "                    callbacks=[EarlyStopping(monitor='val_loss', patience=3, min_delta=0.0001)])"
   ]
  },
  {
   "cell_type": "markdown",
   "metadata": {
    "colab_type": "text",
    "id": "rAmnbnDRcprX"
   },
   "source": [
    "The model early stopped at 6 epochs with an accuracy of 0.8654. Let us save the model:"
   ]
  },
  {
   "cell_type": "code",
   "execution_count": 0,
   "metadata": {
    "colab": {},
    "colab_type": "code",
    "id": "rkfXpEeDcprY"
   },
   "outputs": [],
   "source": [
    "# save the model to file\n",
    "model_emb.save('LSTM_OnlyE_30epoch.h5')"
   ]
  },
  {
   "cell_type": "markdown",
   "metadata": {
    "colab_type": "text",
    "id": "EX43nA4kcprd"
   },
   "source": [
    "Now we can test the model in the test dataset and see our accuracy:"
   ]
  },
  {
   "cell_type": "code",
   "execution_count": 155,
   "metadata": {
    "ExecuteTime": {
     "end_time": "2021-01-23T03:51:14.675718Z",
     "start_time": "2021-01-23T03:51:08.160095Z"
    },
    "colab": {},
    "colab_type": "code",
    "id": "SBLKupDwcprd",
    "outputId": "5d9bb7cf-32fc-44a3-c5d7-ec12a6ece2fd"
   },
   "outputs": [
    {
     "name": "stdout",
     "output_type": "stream",
     "text": [
      "2915/2915 [==============================] - 6s 2ms/sample - loss: 1.4517 - accuracy: 0.6196\n",
      "Test set\n",
      "  Loss: 1.452\n",
      "  Accuracy: 0.620\n"
     ]
    }
   ],
   "source": [
    "accr = model_emb.evaluate(X_test_emb,Y_test)\n",
    "print('Test set\\n  Loss: {:0.3f}\\n  Accuracy: {:0.3f}'.format(accr[0],accr[1]))"
   ]
  },
  {
   "cell_type": "markdown",
   "metadata": {
    "colab_type": "text",
    "id": "cZSmGWuocprg"
   },
   "source": [
    "Let us also see how the model changed over time in terms of loss and accuracy:"
   ]
  },
  {
   "cell_type": "code",
   "execution_count": 0,
   "metadata": {
    "colab": {},
    "colab_type": "code",
    "id": "z1dqTWW7cprh",
    "outputId": "277f707b-86b2-4172-c315-9ff8f5363e89"
   },
   "outputs": [
    {
     "data": {
      "image/png": "[encoded data removed]",
      "text/plain": [
       "<Figure size 432x288 with 1 Axes>"
      ]
     },
     "metadata": {
      "needs_background": "light",
      "tags": []
     },
     "output_type": "display_data"
    }
   ],
   "source": [
    "plt.title('Loss')\n",
    "plt.plot(history_emb.history['loss'], label='train')\n",
    "plt.plot(history_emb.history['val_loss'], label='test')\n",
    "plt.legend()\n",
    "plt.show();"
   ]
  },
  {
   "cell_type": "code",
   "execution_count": 0,
   "metadata": {
    "colab": {},
    "colab_type": "code",
    "id": "iZNwBJ04cprk",
    "outputId": "beb00b69-747e-401d-8f01-71488386deed"
   },
   "outputs": [
    {
     "data": {
      "image/png": "[encoded data removed]",
      "text/plain": [
       "<Figure size 432x288 with 1 Axes>"
      ]
     },
     "metadata": {
      "needs_background": "light",
      "tags": []
     },
     "output_type": "display_data"
    }
   ],
   "source": [
    "plt.title('Accuracy')\n",
    "plt.plot(history_emb.history['acc'], label='train')\n",
    "plt.plot(history_emb.history['val_acc'], label='test')\n",
    "plt.legend()\n",
    "plt.show();"
   ]
  },
  {
   "cell_type": "markdown",
   "metadata": {
    "colab_type": "text",
    "id": "tKueAnHRcprr"
   },
   "source": [
    "We can see that the model loss decrease in the training dataset almost perfectly but the validation dataset did not see any improvement. This signals overfitting of the training split. This is why early stopping was implemented. For onw let us stick with this model and test it but it is important to say that more optimization needs to be done."
   ]
  },
  {
   "cell_type": "markdown",
   "metadata": {
    "colab_type": "text",
    "id": "4G2TUvg_cpr-"
   },
   "source": [
    "## Let us test our model in aribtraty text to which we intuitively know the answer"
   ]
  },
  {
   "cell_type": "code",
   "execution_count": 0,
   "metadata": {
    "colab": {},
    "colab_type": "code",
    "id": "oyUB4Upucpr-",
    "outputId": "557a4ad0-a449-43c7-c33e-e092acbac9c8"
   },
   "outputs": [
    {
     "name": "stdout",
     "output_type": "stream",
     "text": [
      "[[0.05559555 0.00283545 0.00313111 0.51477635 0.13551567 0.12418976\n",
      "  0.03945212 0.03281857 0.04109936 0.02883642 0.02174963]] 3\n"
     ]
    }
   ],
   "source": [
    "new_complaint = ['What is the legal consequences of a lawsuite']\n",
    "seq = tokenizer.texts_to_sequences(new_complaint)\n",
    "padded = pad_sequences(seq, maxlen=max_length)\n",
    "pred = model_emb.predict(padded)\n",
    "labels = ['0','1','2','3','4','5','6','7','8','9','10']\n",
    "print(pred, labels[np.argmax(pred)])"
   ]
  },
  {
   "cell_type": "code",
   "execution_count": 0,
   "metadata": {
    "colab": {},
    "colab_type": "code",
    "id": "-x0aAe1OcpsC",
    "outputId": "af134001-ad5c-4f55-98ee-9b6ed0d3e3d3"
   },
   "outputs": [
    {
     "name": "stdout",
     "output_type": "stream",
     "text": [
      "[[0.206241   0.00180363 0.00147454 0.12211586 0.01405801 0.05601064\n",
      "  0.02303758 0.5223241  0.03262794 0.00714187 0.01316478]] 7\n"
     ]
    }
   ],
   "source": [
    "new_complaint = ['Have you transferred the funds to the bank account']\n",
    "seq = tokenizer.texts_to_sequences(new_complaint)\n",
    "padded = pad_sequences(seq, maxlen=max_length)\n",
    "pred = model_emb.predict(padded)\n",
    "labels = ['0','1','2','3','4','5','6','7','8','9','10']\n",
    "print(pred, labels[np.argmax(pred)])"
   ]
  },
  {
   "cell_type": "code",
   "execution_count": 0,
   "metadata": {
    "colab": {},
    "colab_type": "code",
    "id": "ZVrOn9oYcpsF",
    "outputId": "b05b6c7b-c433-439e-9d09-f16e3944342b"
   },
   "outputs": [
    {
     "name": "stdout",
     "output_type": "stream",
     "text": [
      "[[0.01847702 0.00082748 0.00112296 0.10232089 0.13056819 0.00560034\n",
      "  0.00132967 0.00850991 0.1549232  0.02847201 0.54784834]] 10\n"
     ]
    }
   ],
   "source": [
    "new_complaint = ['Thank you for contactig us regarding the MBA program, Do you have any questions?']\n",
    "seq = tokenizer.texts_to_sequences(new_complaint)\n",
    "padded = pad_sequences(seq, maxlen=max_length)\n",
    "pred = model_emb.predict(padded)\n",
    "labels = ['0','1','2','3','4','5','6','7','8','9','10']\n",
    "print(pred, labels[np.argmax(pred)])"
   ]
  },
  {
   "cell_type": "markdown",
   "metadata": {
    "colab_type": "text",
    "id": "8-1FrzRJcpsI"
   },
   "source": [
    "## Testing two neural networks with two different inputs:"
   ]
  },
  {
   "cell_type": "markdown",
   "metadata": {
    "colab_type": "text",
    "id": "8awSuES8cpsJ"
   },
   "source": [
    "We will create two different neural networks and then combined their output. We will add L1 Regularization to create a sparce and more concise model since we have many feautures"
   ]
  },
  {
   "cell_type": "code",
   "execution_count": 0,
   "metadata": {
    "colab": {},
    "colab_type": "code",
    "id": "BOD57b8NcpsK",
    "outputId": "f9be04d6-f671-4d19-c57b-80760b93b550"
   },
   "outputs": [
    {
     "name": "stdout",
     "output_type": "stream",
     "text": [
      "__________________________________________________________________________________________________\n",
      "Layer (type)                    Output Shape         Param #     Connected to                     \n",
      "==================================================================================================\n",
      "input_19 (InputLayer)           (None, 250)          0                                            \n",
      "__________________________________________________________________________________________________\n",
      "embedding_23 (Embedding)        (None, 250, 100)     100000000   input_19[0][0]                   \n",
      "__________________________________________________________________________________________________\n",
      "input_20 (InputLayer)           (None, 8)            0                                            \n",
      "__________________________________________________________________________________________________\n",
      "spatial_dropout1d_22 (SpatialDr (None, 250, 100)     0           embedding_23[0][0]               \n",
      "__________________________________________________________________________________________________\n",
      "dense_40 (Dense)                (None, 64)           576         input_20[0][0]                   \n",
      "__________________________________________________________________________________________________\n",
      "lstm_22 (LSTM)                  (None, 100)          80400       spatial_dropout1d_22[0][0]       \n",
      "__________________________________________________________________________________________________\n",
      "dense_41 (Dense)                (None, 32)           2080        dense_40[0][0]                   \n",
      "__________________________________________________________________________________________________\n",
      "dense_39 (Dense)                (None, 11)           1111        lstm_22[0][0]                    \n",
      "__________________________________________________________________________________________________\n",
      "dense_42 (Dense)                (None, 11)           363         dense_41[0][0]                   \n",
      "__________________________________________________________________________________________________\n",
      "concatenate_5 (Concatenate)     (None, 22)           0           dense_39[0][0]                   \n",
      "                                                                 dense_42[0][0]                   \n",
      "__________________________________________________________________________________________________\n",
      "dense_43 (Dense)                (None, 11)           253         concatenate_5[0][0]              \n",
      "==================================================================================================\n",
      "Total params: 100,084,783\n",
      "Trainable params: 100,084,783\n",
      "Non-trainable params: 0\n",
      "__________________________________________________________________________________________________\n",
      "None\n"
     ]
    }
   ],
   "source": [
    "# define two sets of inputs\n",
    "inputA = Input(shape=(250,)) # Embedding\n",
    "inputB = Input(shape=(8,)) # Day and length\n",
    "\n",
    "# the first branch operates on the first input\n",
    "x = Embedding(max_words, embedding_dim)(inputA)\n",
    "x = SpatialDropout1D(0.2)(x)\n",
    "x = LSTM(100, dropout=0.2, recurrent_dropout=0.2, kernel_regularizer=regularizers.l1(0.01))(x)\n",
    "x = Dense(11, activation='softmax')(x)\n",
    "x = Model(inputs=inputA, outputs=x)\n",
    "\n",
    "# the second branch opreates on the second input\n",
    "y = Dense(64, activation=\"relu\", kernel_regularizer=regularizers.l2(0.01))(inputB)\n",
    "y = Dense(32, activation=\"relu\")(y)\n",
    "y = Dense(11, activation='softmax')(y)\n",
    "y = Model(inputs=inputB, outputs=y)\n",
    "\n",
    "# combine the output of the two branches\n",
    "combined = concatenate([x.output, y.output])\n",
    "\n",
    "z = Dense(11, activation=\"softmax\")(combined)\n",
    "\n",
    "# our model will accept the inputs of the two branches and\n",
    "# then output a single value\n",
    "model = Model(inputs=[x.input, y.input], outputs=z)\n",
    "model.compile(loss='categorical_crossentropy', optimizer='adam', metrics=['accuracy'])\n",
    "print(model.summary())"
   ]
  },
  {
   "cell_type": "markdown",
   "metadata": {
    "colab_type": "text",
    "id": "tCEKd64JcpsP"
   },
   "source": [
    "Now that the model is compiled we can pass both inputs (the embedding and the non-embedding features). We will train only for 5 epochs since it takes a long time to train in a batch size of 64. We will do a validation split of 0.1 and we will use early stopping by monitoring validation loss. "
   ]
  },
  {
   "cell_type": "code",
   "execution_count": 0,
   "metadata": {
    "colab": {},
    "colab_type": "code",
    "id": "G7-4NZjWcpsP"
   },
   "outputs": [],
   "source": [
    "from keras.callbacks import ModelCheckpoint"
   ]
  },
  {
   "cell_type": "code",
   "execution_count": 0,
   "metadata": {
    "colab": {},
    "colab_type": "code",
    "id": "1bkNcc2DcpsR",
    "scrolled": true
   },
   "outputs": [],
   "source": [
    "#opt = Adam(lr=1e-3, decay=1e-3 / 200)\n",
    "#model.compile(loss=\"mean_absolute_percentage_error\", optimizer=opt)\n",
    "\n",
    "epochs = 5\n",
    "batch_size = 64\n",
    "\n",
    "# train the model\n",
    "print(\"[INFO] training model...\")\n",
    "history = model.fit([X_train_emb, X_train_noemb], Y_train,\n",
    "                    epochs=epochs, batch_size=batch_size,\n",
    "                    validation_split=0.1,callbacks=[EarlyStopping(monitor='val_loss', patience=3, min_delta=0.0001)])"
   ]
  },
  {
   "cell_type": "markdown",
   "metadata": {
    "colab_type": "text",
    "id": "gIbZ6aj0cpsT"
   },
   "source": [
    "Let us save the model so we can test it later:"
   ]
  },
  {
   "cell_type": "code",
   "execution_count": 0,
   "metadata": {
    "colab": {},
    "colab_type": "code",
    "id": "r958hnqjcpsU"
   },
   "outputs": [],
   "source": [
    "model.save('LSTM_ALLfeatures.h5')"
   ]
  },
  {
   "cell_type": "markdown",
   "metadata": {
    "colab_type": "text",
    "id": "-fIAC8KTcpsX"
   },
   "source": [
    "Let us evaluate the performance on the test data set:"
   ]
  },
  {
   "cell_type": "code",
   "execution_count": 0,
   "metadata": {
    "colab": {},
    "colab_type": "code",
    "id": "7fPlGUOucpsY",
    "outputId": "00bc54d0-859a-4833-d271-7cb8f843c9c8"
   },
   "outputs": [
    {
     "name": "stdout",
     "output_type": "stream",
     "text": [
      "2915/2915 [==============================] - 6s 2ms/step\n",
      "Test set\n",
      "  Loss: 1.950\n",
      "  Accuracy: 0.386\n"
     ]
    }
   ],
   "source": [
    "accr = model.evaluate([X_test_emb, X_test_noemb], Y_test)\n",
    "print('Test set\\n  Loss: {:0.3f}\\n  Accuracy: {:0.3f}'.format(accr[0],accr[1]))"
   ]
  },
  {
   "cell_type": "markdown",
   "metadata": {
    "colab_type": "text",
    "id": "GYd_BAfkcpsb"
   },
   "source": [
    "The model is not performing very well in neither the test data nor the training data. Let us see how the loss and accuracy changed over time."
   ]
  },
  {
   "cell_type": "code",
   "execution_count": 0,
   "metadata": {
    "colab": {},
    "colab_type": "code",
    "id": "6KjS0-L6cpsb"
   },
   "outputs": [],
   "source": [
    "plt.title('Loss')\n",
    "plt.plot(history.history['loss'], label='train')\n",
    "plt.plot(history.history['val_loss'], label='test')\n",
    "plt.legend()\n",
    "plt.show();"
   ]
  },
  {
   "cell_type": "code",
   "execution_count": 0,
   "metadata": {
    "colab": {},
    "colab_type": "code",
    "id": "s0KqSk0Rcpse"
   },
   "outputs": [],
   "source": [
    "plt.title('Accuracy')\n",
    "plt.plot(history.history['acc'], label='train')\n",
    "plt.plot(history.history['val_acc'], label='test')\n",
    "plt.legend()\n",
    "plt.show();"
   ]
  }
 ],
 "metadata": {
  "colab": {
   "collapsed_sections": [
    "r1RL9y1zcpmt",
    "2mKaSNlGcpnx",
    "4G2TUvg_cpr-",
    "8-1FrzRJcpsI"
   ],
   "name": "LSTM_VicenteValdez_PedroJunior.ipynb",
   "provenance": [],
   "version": "0.3.2"
  },
  "kernelspec": {
   "display_name": "Python 3",
   "language": "python",
   "name": "python3"
  },
  "language_info": {
   "codemirror_mode": {
    "name": "ipython",
    "version": 3
   },
   "file_extension": ".py",
   "mimetype": "text/x-python",
   "name": "python",
   "nbconvert_exporter": "python",
   "pygments_lexer": "ipython3",
   "version": "3.7.9"
  }
 },
 "nbformat": 4,
 "nbformat_minor": 1
}
