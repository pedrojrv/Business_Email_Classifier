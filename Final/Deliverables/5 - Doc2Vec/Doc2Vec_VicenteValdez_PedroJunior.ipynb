{
 "cells": [
  {
   "cell_type": "code",
   "execution_count": 1,
   "metadata": {},
   "outputs": [
    {
     "name": "stderr",
     "output_type": "stream",
     "text": [
      "C:\\Users\\vicen\\Anaconda3\\envs\\data_mining\\lib\\site-packages\\gensim\\utils.py:1197: UserWarning: detected Windows; aliasing chunkize to chunkize_serial\n",
      "  warnings.warn(\"detected Windows; aliasing chunkize to chunkize_serial\")\n"
     ]
    }
   ],
   "source": [
    "import logging\n",
    "import pandas as pd\n",
    "import numpy as np\n",
    "from numpy import random\n",
    "import gensim\n",
    "import nltk\n",
    "from sklearn.model_selection import train_test_split\n",
    "from sklearn.feature_extraction.text import CountVectorizer, TfidfVectorizer\n",
    "from sklearn.metrics import accuracy_score, confusion_matrix\n",
    "import matplotlib.pyplot as plt\n",
    "from nltk.corpus import stopwords\n",
    "import re\n",
    "from bs4 import BeautifulSoup\n",
    "\n",
    "%matplotlib inline"
   ]
  },
  {
   "cell_type": "code",
   "execution_count": 13,
   "metadata": {},
   "outputs": [],
   "source": [
    "df_og = pd.read_csv('medium_data.csv', sep=',', index_col=0)"
   ]
  },
  {
   "cell_type": "code",
   "execution_count": 17,
   "metadata": {},
   "outputs": [],
   "source": [
    "df_copyog = df_og.copy()"
   ]
  },
  {
   "cell_type": "code",
   "execution_count": 19,
   "metadata": {},
   "outputs": [
    {
     "data": {
      "text/html": [
       "<div>\n",
       "<style scoped>\n",
       "    .dataframe tbody tr th:only-of-type {\n",
       "        vertical-align: middle;\n",
       "    }\n",
       "\n",
       "    .dataframe tbody tr th {\n",
       "        vertical-align: top;\n",
       "    }\n",
       "\n",
       "    .dataframe thead th {\n",
       "        text-align: right;\n",
       "    }\n",
       "</style>\n",
       "<table border=\"1\" class=\"dataframe\">\n",
       "  <thead>\n",
       "    <tr style=\"text-align: right;\">\n",
       "      <th></th>\n",
       "      <th>Message-Body</th>\n",
       "      <th>Day_of_week</th>\n",
       "      <th>X-Folder-split</th>\n",
       "      <th>message_length</th>\n",
       "    </tr>\n",
       "  </thead>\n",
       "  <tbody>\n",
       "    <tr>\n",
       "      <th>0</th>\n",
       "      <td>here is our forecast\\n\\n</td>\n",
       "      <td>Mon</td>\n",
       "      <td>'sent mail</td>\n",
       "      <td>23</td>\n",
       "    </tr>\n",
       "    <tr>\n",
       "      <th>1</th>\n",
       "      <td>traveling to have a business meeting takes the...</td>\n",
       "      <td>Fri</td>\n",
       "      <td>'sent mail</td>\n",
       "      <td>786</td>\n",
       "    </tr>\n",
       "    <tr>\n",
       "      <th>2</th>\n",
       "      <td>test successful.  way to go!!!</td>\n",
       "      <td>Wed</td>\n",
       "      <td>'sent mail</td>\n",
       "      <td>30</td>\n",
       "    </tr>\n",
       "    <tr>\n",
       "      <th>3</th>\n",
       "      <td>randy,\\n\\n can you send me a schedule of the s...</td>\n",
       "      <td>Mon</td>\n",
       "      <td>'sent mail</td>\n",
       "      <td>187</td>\n",
       "    </tr>\n",
       "    <tr>\n",
       "      <th>4</th>\n",
       "      <td>let's shoot for tuesday at 11:45.</td>\n",
       "      <td>Thu</td>\n",
       "      <td>'sent mail</td>\n",
       "      <td>35</td>\n",
       "    </tr>\n",
       "  </tbody>\n",
       "</table>\n",
       "</div>"
      ],
      "text/plain": [
       "                                        Message-Body Day_of_week  \\\n",
       "0                          here is our forecast\\n\\n          Mon   \n",
       "1  traveling to have a business meeting takes the...         Fri   \n",
       "2                     test successful.  way to go!!!         Wed   \n",
       "3  randy,\\n\\n can you send me a schedule of the s...         Mon   \n",
       "4                let's shoot for tuesday at 11:45.           Thu   \n",
       "\n",
       "  X-Folder-split  message_length  \n",
       "0     'sent mail              23  \n",
       "1     'sent mail             786  \n",
       "2     'sent mail              30  \n",
       "3     'sent mail             187  \n",
       "4     'sent mail              35  "
      ]
     },
     "execution_count": 19,
     "metadata": {},
     "output_type": "execute_result"
    }
   ],
   "source": [
    "#columns_to_drop = ['message', 'Date', 'Subject', 'Date_datetime', 'Day_of_week', 'message_length']\n",
    "columns_to_drop = ['message', 'Date', 'Subject', 'Date_datetime']\n",
    "df_copyog = df_copyog.drop(columns=columns_to_drop)\n",
    "\n",
    "df_copyog.head()"
   ]
  },
  {
   "cell_type": "code",
   "execution_count": 20,
   "metadata": {},
   "outputs": [],
   "source": [
    "df_copyog.rename(columns={'X-Folder-split':'original_subj',\n",
    "                         'Message-Body':'message'}, inplace=True) "
   ]
  },
  {
   "cell_type": "code",
   "execution_count": 21,
   "metadata": {},
   "outputs": [],
   "source": [
    "labeling = pd.read_csv('labeling.csv', index_col=0)"
   ]
  },
  {
   "cell_type": "code",
   "execution_count": 22,
   "metadata": {},
   "outputs": [],
   "source": [
    "df_copyog = pd.merge(df_copyog, labeling, on='original_subj')"
   ]
  },
  {
   "cell_type": "code",
   "execution_count": 23,
   "metadata": {},
   "outputs": [
    {
     "data": {
      "text/plain": [
       "156709129"
      ]
     },
     "execution_count": 23,
     "metadata": {},
     "output_type": "execute_result"
    }
   ],
   "source": [
    "df_copyog['message'].apply(lambda x: len(x.split(' '))).sum()"
   ]
  },
  {
   "cell_type": "code",
   "execution_count": 24,
   "metadata": {},
   "outputs": [
    {
     "data": {
      "text/plain": [
       "1     420184\n",
       "2      68076\n",
       "3      11257\n",
       "5       3584\n",
       "7       3521\n",
       "4       3248\n",
       "0       2457\n",
       "10      1928\n",
       "8       1868\n",
       "6        786\n",
       "9        492\n",
       "Name: label, dtype: int64"
      ]
     },
     "execution_count": 24,
     "metadata": {},
     "output_type": "execute_result"
    }
   ],
   "source": [
    "df_copyog['label'].value_counts()"
   ]
  },
  {
   "cell_type": "code",
   "execution_count": 25,
   "metadata": {},
   "outputs": [
    {
     "name": "stdout",
     "output_type": "stream",
     "text": [
      "<class 'pandas.core.frame.DataFrame'>\n",
      "Int64Index: 517401 entries, 0 to 517400\n",
      "Data columns (total 6 columns):\n",
      "message           517401 non-null object\n",
      "Day_of_week       517401 non-null object\n",
      "original_subj     517401 non-null object\n",
      "message_length    517401 non-null int64\n",
      "subject           475168 non-null object\n",
      "label             517401 non-null int64\n",
      "dtypes: int64(2), object(4)\n",
      "memory usage: 27.6+ MB\n"
     ]
    }
   ],
   "source": [
    "df_copyog.info()"
   ]
  },
  {
   "cell_type": "code",
   "execution_count": 26,
   "metadata": {},
   "outputs": [],
   "source": [
    "df_copyog[\"label\"] = df_copyog[\"label\"].astype('category')"
   ]
  },
  {
   "cell_type": "code",
   "execution_count": 27,
   "metadata": {},
   "outputs": [
    {
     "data": {
      "text/html": [
       "<div>\n",
       "<style scoped>\n",
       "    .dataframe tbody tr th:only-of-type {\n",
       "        vertical-align: middle;\n",
       "    }\n",
       "\n",
       "    .dataframe tbody tr th {\n",
       "        vertical-align: top;\n",
       "    }\n",
       "\n",
       "    .dataframe thead th {\n",
       "        text-align: right;\n",
       "    }\n",
       "</style>\n",
       "<table border=\"1\" class=\"dataframe\">\n",
       "  <thead>\n",
       "    <tr style=\"text-align: right;\">\n",
       "      <th></th>\n",
       "      <th>message</th>\n",
       "      <th>Day_of_week</th>\n",
       "      <th>original_subj</th>\n",
       "      <th>message_length</th>\n",
       "      <th>subject</th>\n",
       "      <th>label</th>\n",
       "    </tr>\n",
       "  </thead>\n",
       "  <tbody>\n",
       "    <tr>\n",
       "      <th>0</th>\n",
       "      <td>here is our forecast\\n\\n</td>\n",
       "      <td>Mon</td>\n",
       "      <td>'sent mail</td>\n",
       "      <td>23</td>\n",
       "      <td>sent</td>\n",
       "      <td>1</td>\n",
       "    </tr>\n",
       "    <tr>\n",
       "      <th>1</th>\n",
       "      <td>traveling to have a business meeting takes the...</td>\n",
       "      <td>Fri</td>\n",
       "      <td>'sent mail</td>\n",
       "      <td>786</td>\n",
       "      <td>sent</td>\n",
       "      <td>1</td>\n",
       "    </tr>\n",
       "    <tr>\n",
       "      <th>2</th>\n",
       "      <td>test successful.  way to go!!!</td>\n",
       "      <td>Wed</td>\n",
       "      <td>'sent mail</td>\n",
       "      <td>30</td>\n",
       "      <td>sent</td>\n",
       "      <td>1</td>\n",
       "    </tr>\n",
       "    <tr>\n",
       "      <th>3</th>\n",
       "      <td>randy,\\n\\n can you send me a schedule of the s...</td>\n",
       "      <td>Mon</td>\n",
       "      <td>'sent mail</td>\n",
       "      <td>187</td>\n",
       "      <td>sent</td>\n",
       "      <td>1</td>\n",
       "    </tr>\n",
       "    <tr>\n",
       "      <th>4</th>\n",
       "      <td>let's shoot for tuesday at 11:45.</td>\n",
       "      <td>Thu</td>\n",
       "      <td>'sent mail</td>\n",
       "      <td>35</td>\n",
       "      <td>sent</td>\n",
       "      <td>1</td>\n",
       "    </tr>\n",
       "  </tbody>\n",
       "</table>\n",
       "</div>"
      ],
      "text/plain": [
       "                                             message Day_of_week  \\\n",
       "0                          here is our forecast\\n\\n          Mon   \n",
       "1  traveling to have a business meeting takes the...         Fri   \n",
       "2                     test successful.  way to go!!!         Wed   \n",
       "3  randy,\\n\\n can you send me a schedule of the s...         Mon   \n",
       "4                let's shoot for tuesday at 11:45.           Thu   \n",
       "\n",
       "  original_subj  message_length subject label  \n",
       "0    'sent mail              23    sent     1  \n",
       "1    'sent mail             786    sent     1  \n",
       "2    'sent mail              30    sent     1  \n",
       "3    'sent mail             187    sent     1  \n",
       "4    'sent mail              35    sent     1  "
      ]
     },
     "execution_count": 27,
     "metadata": {},
     "output_type": "execute_result"
    }
   ],
   "source": [
    "df_copyog.head()"
   ]
  },
  {
   "cell_type": "code",
   "execution_count": 28,
   "metadata": {},
   "outputs": [],
   "source": [
    "df_copyog.to_csv('message_length.csv', sep=',')"
   ]
  },
  {
   "cell_type": "code",
   "execution_count": 11,
   "metadata": {},
   "outputs": [
    {
     "data": {
      "image/png": "[encoded data removed]",
      "text/plain": [
       "<Figure size 720x288 with 1 Axes>"
      ]
     },
     "metadata": {
      "needs_background": "light"
     },
     "output_type": "display_data"
    }
   ],
   "source": [
    "# Change the tags to the clustering results\n",
    "my_tags = ['0','1','2','3','4','5','6','7','8','9','10']\n",
    "plt.figure(figsize=(10,4))\n",
    "df_copyog.label.value_counts().plot(kind='bar', color=['b', 'g', 'b', 'r', 'g', 'b', 'r','g','y','r','b','g']);"
   ]
  },
  {
   "cell_type": "code",
   "execution_count": 12,
   "metadata": {},
   "outputs": [],
   "source": [
    "def print_plot(index, df):\n",
    "    example = df[df.index == index][['message', 'label']].values[0]\n",
    "    if len(example) > 0:\n",
    "        print(example[0])\n",
    "        print('Tag:', example[1])"
   ]
  },
  {
   "cell_type": "code",
   "execution_count": 13,
   "metadata": {},
   "outputs": [
    {
     "name": "stdout",
     "output_type": "stream",
     "text": [
      "greg,\n",
      "\n",
      " how about either next tuesday or thursday?\n",
      "\n",
      "phillip\n",
      "Tag: 1\n"
     ]
    }
   ],
   "source": [
    "print_plot(5, df_copyog)"
   ]
  },
  {
   "cell_type": "code",
   "execution_count": 14,
   "metadata": {},
   "outputs": [],
   "source": [
    "X = df_copyog['message']\n",
    "y = df_copyog['label']\n",
    "X_train, X_test, y_train, y_test = train_test_split(X, y, test_size=0.3, random_state = 42)"
   ]
  },
  {
   "cell_type": "markdown",
   "metadata": {},
   "source": [
    "### Doc2vec and Logistic Regression"
   ]
  },
  {
   "cell_type": "code",
   "execution_count": 22,
   "metadata": {},
   "outputs": [],
   "source": [
    "from tqdm import tqdm\n",
    "from gensim.models import Doc2Vec\n",
    "from gensim.models.doc2vec import Doc2Vec, TaggedDocument\n",
    "from sklearn import utils\n",
    "import gensim\n",
    "from gensim.models.doc2vec import TaggedDocument\n",
    "import re"
   ]
  },
  {
   "cell_type": "code",
   "execution_count": 27,
   "metadata": {},
   "outputs": [],
   "source": [
    "def label_sentences(corpus, label_type):\n",
    "    labeled = []\n",
    "    for i, v in enumerate(corpus):\n",
    "        label = label_type + '_' + str(i)\n",
    "        labeled.append(TaggedDocument(v.split(), [label]))\n",
    "    return labeled"
   ]
  },
  {
   "cell_type": "code",
   "execution_count": 28,
   "metadata": {},
   "outputs": [],
   "source": [
    "X_train, X_test, y_train, y_test = train_test_split(df_copyog.message, df_copyog.label, random_state=0, test_size=0.3)\n",
    "X_train = label_sentences(X_train, 'Train')\n",
    "X_test = label_sentences(X_test, 'Test')\n",
    "all_data = X_train + X_test"
   ]
  },
  {
   "cell_type": "code",
   "execution_count": 29,
   "metadata": {},
   "outputs": [
    {
     "data": {
      "text/plain": [
       "[TaggedDocument(words=['good!!', 'i', 'like', 'it!', '-----original', 'message-----', 'from:', 'maggi,', 'mike', 'sent:', 'monday,', 'february', '04,', '2002', '10:12', 'am', 'to:', 'rybarski,', 'amanda', 'subject:', 're:', 'youre', 'in', 'trouble', '-----original', 'message-----', 'from:', 'rybarski,', 'amanda', 'sent:', 'monday,', 'february', '04,', '2002', '10:09', 'am', 'to:', 'maggi,', 'mike', 'subject:', 're:', 'thank', 'you!', '-----original', 'message-----', 'from:', 'maggi,', 'mike', 'sent:', 'monday,', 'february', '04,', '2002', '10:09', 'am', 'to:', 'rybarski,', 'amanda', 'subject:', 're:', 'it', 'looks', 'great', '-----original', 'message-----', 'from:', 'rybarski,', 'amanda', 'sent:', 'monday,', 'february', '04,', '2002', '10:09', 'am', 'to:', 'maggi,', 'mike', 'subject:', 're:', 'i', 'got', 'a', 'new', 'haircut!', '-----original', 'message-----', 'from:', 'maggi,', 'mike', 'sent:', 'monday,', 'february', '04,', '2002', '10:09', 'am', 'to:', 'rybarski,', 'amanda', 'subject:', 're:', 'absolutely', '-----original', 'message-----', 'from:', 'rybarski,', 'amanda', 'sent:', 'monday,', 'february', '04,', '2002', '10:08', 'am', 'to:', 'maggi,', 'mike', 'subject:', 're:', 'you', 'like?', '-----original', 'message-----', 'from:', 'maggi,', 'mike', 'sent:', 'monday,', 'february', '04,', '2002', '10:08', 'am', 'to:', 'rybarski,', 'amanda', 'subject:', 'incredible'], tags=['Train_0']),\n",
       " TaggedDocument(words=['yannis,', 'it', 'makes', 'a', 'lot', 'of', 'sense', 'to', 'get', 'this', 'info.', 'also,', 'you', 'are', 'welcome', 'to', 'make', 'a', 'presentation', 'to', 'the', 'group', 'this', 'thursday', 'at', 'lunch.', 'please,', 'call', 'shirley', 'crenshaw', '(x3-5290)', 'to', 'coordinate', 'and', 'order', 'sandwich', 'you', 'would', 'like', 'to', 'have.', 'vince', 'joe,', 'can', 'you,', 'please,', 'babysit', 'this', 'presentation', '(make', 'sure', 'we', 'have', 'all', 'the', 'audiovisual', 'equipment', 'we', 'need,', 'etc.).', 'vince', 'yannis', 'tzamouranis', '03/28/2000', '02:50', 'pm', 'to:', 'yannis', 'tzamouranis/hou/ect@ect', 'cc:', '(bcc:', 'vince', 'j', 'kaminski/hou/ect)', 'subject:', 'is', 'this', 'data', 'of', 'interest', 'to', 'any', 'of', 'you?', 'fyi:', 'the', 'following', 'file', 'describes', 'the', 'contents', 'of', 'the', 'monthly', 'energy', 'review', '(application,', 'current,', 'and', 'historical).', 'the', 'data', 'is', 'available', 'through', 'a', 'doe', 'site', 'and', 'we', 'can', 'get', 'it', 'for', 'free', 'and', 'incorporate', 'it', 'in', 'the', 'lim', 'database,', 'if', 'there', 'is', 'interest.', 'review', 'the', 'attached', 'file', '(look', 'for', 'keywords', 'of', 'interest)', 'and', 'let', 'us', 'know', 'whether', 'need', 'dictates', 'loading', 'these', 'datasets.', 'for', 'the', 'market', 'analysis', 'and', 'infomration', 'management', 'group,', 'yannis', 'c.', 'tzamouranis', 'enron', 'it'], tags=['Train_1'])]"
      ]
     },
     "execution_count": 29,
     "metadata": {},
     "output_type": "execute_result"
    }
   ],
   "source": [
    "all_data[:2]"
   ]
  },
  {
   "cell_type": "code",
   "execution_count": null,
   "metadata": {},
   "outputs": [
    {
     "name": "stderr",
     "output_type": "stream",
     "text": [
      "100%|█████████████████████████████████████████████████████████████████████| 517401/517401 [00:00<00:00, 2466490.90it/s]\n"
     ]
    }
   ],
   "source": [
    "model = Doc2Vec(dm=0, vector_size=300, negative=5, min_count=2, alpha=0.065, min_alpha=0.065)\n",
    "model.build_vocab([x for x in tqdm(all_data)])"
   ]
  },
  {
   "cell_type": "markdown",
   "metadata": {},
   "source": [
    "# THE MODEL FRAMEWORK COULD NOT BE TESTED FURTHER SINCE DOC2VEC REQUIRES LARGE AMOUNTS OF MEMORY!!"
   ]
  },
  {
   "cell_type": "code",
   "execution_count": null,
   "metadata": {},
   "outputs": [],
   "source": [
    "def vectors(model, corpus_size, vectors_size, vectors_type):\n",
    "    vectors = np.zeros((corpus_size, vectors_size))\n",
    "    for i in range(0, corpus_size):\n",
    "        prefix = vectors_type + '_' + str(i)\n",
    "        vectors[i] = model.docvecs[prefix]\n",
    "    return vectors"
   ]
  },
  {
   "cell_type": "code",
   "execution_count": null,
   "metadata": {},
   "outputs": [],
   "source": [
    "train_vectors = vectors(model, len(X_train), 300, 'Train')\n",
    "test_vectors = vectors(model, len(X_test), 300, 'Test')"
   ]
  },
  {
   "cell_type": "code",
   "execution_count": null,
   "metadata": {},
   "outputs": [],
   "source": [
    "log_reg = LogisticRegression(n_jobs=1, C=1e5)\n",
    "log_reg.fit(train_vectors, y_train)"
   ]
  },
  {
   "cell_type": "code",
   "execution_count": null,
   "metadata": {},
   "outputs": [],
   "source": [
    "log_reg = log_reg.fit(train_vectors, y_train)\n",
    "y_pred = log_reg.predict(test_vectors)"
   ]
  }
 ],
 "metadata": {
  "kernelspec": {
   "display_name": "Python 3",
   "language": "python",
   "name": "python3"
  },
  "language_info": {
   "codemirror_mode": {
    "name": "ipython",
    "version": 3
   },
   "file_extension": ".py",
   "mimetype": "text/x-python",
   "name": "python",
   "nbconvert_exporter": "python",
   "pygments_lexer": "ipython3",
   "version": "3.7.2"
  }
 },
 "nbformat": 4,
 "nbformat_minor": 2
}
